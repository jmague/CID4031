{
 "cells": [
  {
   "cell_type": "markdown",
   "metadata": {
    "ExecuteTime": {
     "end_time": "2017-12-05T15:35:05.874522Z",
     "start_time": "2017-12-05T15:35:05.859482Z"
    }
   },
   "source": [
    "# <center>Initiation à la programmation (Python)</center>\n",
    "\n",
    "\n",
    "## Les tris\n",
    "Etant donné une liste, par exemple `[7,4,5,12,6,3]`, comment la trier, c'est-à-dire la transformer en la liste `[3,4,5,6,7,12]` ?\n",
    "\n",
    "C'est un problème typique d'*algorithmique*, voire le cas d'école. Il existe beaucoup d'algorithmes de tri. La [page anglophone de Wikipédia](https://en.wikipedia.org/wiki/Sorting_algorithm) en liste 26 et n'est sans doute pas exhaustive ([cette vidéo](https://www.youtube.com/watch?v=kPRA0W1kECg) en illustre 15).\n",
    "\n",
    "Les algotithmes de tris diffèrent par leur rapidité, la quantité de mémoire qu'ils nécessitent, la facilité à saisir comment ils fonctionnent...\n",
    "\n",
    "Essayons d'en imaginer un ou deux ensemble !"
   ]
  },
  {
   "cell_type": "markdown",
   "metadata": {},
   "source": [
    "### Préambule\n",
    "Cette correction propose 3 algorithmes de tri, le tri par sélection, le tri a bulles et le tri par insertion. Chacun  est proposé en deux versions, une version simple et une version \"verbeuse\". La version simple se contente de trier une liste. La version verbeuse affiche étape par étape la liste en cours de tri, en collorant de différente manière les partie de la liste déjà triées, le éléments en cours de comparaison... Pour comprendre comment fonctionne l'un ou l'autre des algorithmes, l'idéal est de lire le code de la version simple, et de regarder l'exécution de la version verbeuse.\n",
    "\n",
    "La fonction ci-dessous permet d'afficher des listes en en colorant certains éléments. Elle est utilisée par les versions verbeuses des algorithmes, mais il n'est absolument pas nécessaire de comprendre comment elle fonctionne. "
   ]
  },
  {
   "cell_type": "code",
   "execution_count": 4,
   "metadata": {
    "ExecuteTime": {
     "end_time": "2017-12-05T15:35:27.294240Z",
     "start_time": "2017-12-05T15:35:27.242289Z"
    }
   },
   "outputs": [],
   "source": [
    "from IPython.display import HTML,display\n",
    "def printColoredList(lst, prefix='', styles=[]):\n",
    "    res='<pre>'+prefix+'['\n",
    "    for i in range(len(lst)):\n",
    "        openingTags=\"\"\n",
    "        closingTags=\"\"\n",
    "        for style in styles:\n",
    "            if i in range(style['start'], style['end']+1):\n",
    "                openingTags+='<span style=\"{}\">'.format(style['style'])\n",
    "                closingTags+='</span>'\n",
    "        res+=\"{}{}{}\".format(openingTags, lst[i], closingTags)\n",
    "        openingTags=\"\"\n",
    "        closingTags=\"\"\n",
    "        if i<len(lst)-1:\n",
    "            for style in styles:\n",
    "                if i in range(style['start'], style['end']):\n",
    "                    openingTags+='<span style=\"{}\">'.format(style['style'])\n",
    "                    closingTags+='</span>'\n",
    "            res+=\"{},{}\".format(openingTags, closingTags)\n",
    "\n",
    "    res+=']'+'</pre>'\n",
    "    display(HTML(res))"
   ]
  },
  {
   "cell_type": "markdown",
   "metadata": {},
   "source": [
    "Les algorithmes présentés ici ont tous besoin d'échanger des élements de la liste. Pour ce simplifier la vie et pouvoir faire ces échanges en une seule instruction, on peut utiliser la fonction suivante :"
   ]
  },
  {
   "cell_type": "code",
   "execution_count": 5,
   "metadata": {
    "ExecuteTime": {
     "end_time": "2017-12-05T15:43:42.507242Z",
     "start_time": "2017-12-05T15:43:42.502381Z"
    }
   },
   "outputs": [],
   "source": [
    "def echangeElements(lst, i1, i2):\n",
    "    a=lst[i1]\n",
    "    lst[i1]=lst[i2]\n",
    "    lst[i2]=a"
   ]
  },
  {
   "cell_type": "markdown",
   "metadata": {},
   "source": [
    "### Tri par sélection ([Wikipédia](https://fr.wikipedia.org/wiki/Tri_par_sélection))"
   ]
  },
  {
   "cell_type": "code",
   "execution_count": 6,
   "metadata": {},
   "outputs": [],
   "source": [
    "def triParSélection(lst):\n",
    "    for i in range(len(lst)):\n",
    "        idDuMininum=i\n",
    "        for j in range(i+1,len(lst)):\n",
    "            if lst[j]<lst[idDuMininum]:\n",
    "                idDuMininum=j\n",
    "        if idDuMininum!=i:\n",
    "            echangeElements(lst,i,idDuMininum)"
   ]
  },
  {
   "cell_type": "code",
   "execution_count": 17,
   "metadata": {
    "ExecuteTime": {
     "end_time": "2017-12-05T15:44:24.414150Z",
     "start_time": "2017-12-05T15:44:24.367553Z"
    }
   },
   "outputs": [],
   "source": [
    "def triParSélectionP(lst):\n",
    "    display(HTML('Les éléments déjà triés sont <span style=\"color:Gainsboro\"> grisés </span>'))\n",
    "    display(HTML('''L'élément courant, d'indice j, est en <span style=\"font-weight: bold; font-size: 110%\"> gras </span>'''))\n",
    "    display(HTML('''L'élément minimum courant, d'indice idDuMininum, est surligné en <span style=\"background-color:green\"> vert </span>'''))\n",
    "    display(HTML('''Les éléments échangés sont surlignés en <span style=\"background-color:blue\"> bleu </span>'''))\n",
    "    for i in range(len(lst)):\n",
    "        print('i={}'.format(i))\n",
    "        printColoredList(lst,prefix='  lst = ', styles=[{'start':0,'end':i-1, 'style':\"color:Gainsboro \"}])    \n",
    "        idDuMininum=i\n",
    "        printColoredList(lst,prefix='  lst = ', styles=[{'start':0,'end':i-1, 'style':\"color:Gainsboro \"},{'start':idDuMininum,'end':idDuMininum, 'style':\"background-color:green \"}])    \n",
    "        for j in range(i+1,len(lst)):\n",
    "            print('  j={}'.format(j))\n",
    "            printColoredList(lst,prefix='    lst = ', styles=[{'start':0,'end':i-1, 'style':\"color:Gainsboro \"},{'start':idDuMininum,'end':idDuMininum, 'style':\"background-color:green \"},{'start':j,'end':j, 'style':\"font-weight: bold; font-size: 110%\"}])            \n",
    "            if lst[j]<lst[idDuMininum]:\n",
    "                idDuMininum=j\n",
    "                printColoredList(lst,prefix='  lst = ', styles=[{'start':0,'end':i-1, 'style':\"color:Gainsboro \"},{'start':idDuMininum,'end':idDuMininum, 'style':\"background-color:green \"},{'start':j,'end':j, 'style':\"font-weight: bold; font-size: 110%\"}])            \n",
    "        if idDuMininum!=i:\n",
    "            printColoredList(lst,prefix='  lst = ', styles=[{'start':0,'end':i-1, 'style':\"color:Gainsboro \"},{'start':idDuMininum,'end':idDuMininum, 'style':\"background-color:blue \"},{'start':i,'end':i, 'style':\"background-color:blue\"}])            \n",
    "            echangeElements(lst,i,idDuMininum)\n",
    "            printColoredList(lst,prefix='  lst = ', styles=[{'start':0,'end':i-1, 'style':\"color:Gainsboro \"},{'start':idDuMininum,'end':idDuMininum, 'style':\"background-color:blue \"},{'start':i,'end':i, 'style':\"background-color:blue\"}])            "
   ]
  },
  {
   "cell_type": "code",
   "execution_count": 18,
   "metadata": {
    "ExecuteTime": {
     "end_time": "2017-12-05T15:46:55.125898Z",
     "start_time": "2017-12-05T15:46:54.970636Z"
    }
   },
   "outputs": [
    {
     "data": {
      "text/html": [
       "Les éléments déjà triés sont <span style=\"color:Gainsboro\"> grisés </span>"
      ],
      "text/plain": [
       "<IPython.core.display.HTML object>"
      ]
     },
     "metadata": {},
     "output_type": "display_data"
    },
    {
     "data": {
      "text/html": [
       "L'élément courant, d'indice j, est en <span style=\"font-weight: bold; font-size: 110%\"> gras </span>"
      ],
      "text/plain": [
       "<IPython.core.display.HTML object>"
      ]
     },
     "metadata": {},
     "output_type": "display_data"
    },
    {
     "data": {
      "text/html": [
       "L'élément minimum courant, d'indice idDuMininum, est surligné en <span style=\"background-color:green\"> vert </span>"
      ],
      "text/plain": [
       "<IPython.core.display.HTML object>"
      ]
     },
     "metadata": {},
     "output_type": "display_data"
    },
    {
     "data": {
      "text/html": [
       "Les éléments échangés sont surlignés en <span style=\"background-color:blue\"> bleu </span>"
      ],
      "text/plain": [
       "<IPython.core.display.HTML object>"
      ]
     },
     "metadata": {},
     "output_type": "display_data"
    },
    {
     "name": "stdout",
     "output_type": "stream",
     "text": [
      "i=0\n"
     ]
    },
    {
     "data": {
      "text/html": [
       "<pre>  lst = [Paris,Lyon,Marseille,Toulouse,Bordeaux,Lille,Nice]</pre>"
      ],
      "text/plain": [
       "<IPython.core.display.HTML object>"
      ]
     },
     "metadata": {},
     "output_type": "display_data"
    },
    {
     "data": {
      "text/html": [
       "<pre>  lst = [<span style=\"background-color:green \">Paris</span>,Lyon,Marseille,Toulouse,Bordeaux,Lille,Nice]</pre>"
      ],
      "text/plain": [
       "<IPython.core.display.HTML object>"
      ]
     },
     "metadata": {},
     "output_type": "display_data"
    },
    {
     "name": "stdout",
     "output_type": "stream",
     "text": [
      "  j=1\n"
     ]
    },
    {
     "data": {
      "text/html": [
       "<pre>    lst = [<span style=\"background-color:green \">Paris</span>,<span style=\"font-weight: bold; font-size: 110%\">Lyon</span>,Marseille,Toulouse,Bordeaux,Lille,Nice]</pre>"
      ],
      "text/plain": [
       "<IPython.core.display.HTML object>"
      ]
     },
     "metadata": {},
     "output_type": "display_data"
    },
    {
     "data": {
      "text/html": [
       "<pre>  lst = [Paris,<span style=\"background-color:green \"><span style=\"font-weight: bold; font-size: 110%\">Lyon</span></span>,Marseille,Toulouse,Bordeaux,Lille,Nice]</pre>"
      ],
      "text/plain": [
       "<IPython.core.display.HTML object>"
      ]
     },
     "metadata": {},
     "output_type": "display_data"
    },
    {
     "name": "stdout",
     "output_type": "stream",
     "text": [
      "  j=2\n"
     ]
    },
    {
     "data": {
      "text/html": [
       "<pre>    lst = [Paris,<span style=\"background-color:green \">Lyon</span>,<span style=\"font-weight: bold; font-size: 110%\">Marseille</span>,Toulouse,Bordeaux,Lille,Nice]</pre>"
      ],
      "text/plain": [
       "<IPython.core.display.HTML object>"
      ]
     },
     "metadata": {},
     "output_type": "display_data"
    },
    {
     "name": "stdout",
     "output_type": "stream",
     "text": [
      "  j=3\n"
     ]
    },
    {
     "data": {
      "text/html": [
       "<pre>    lst = [Paris,<span style=\"background-color:green \">Lyon</span>,Marseille,<span style=\"font-weight: bold; font-size: 110%\">Toulouse</span>,Bordeaux,Lille,Nice]</pre>"
      ],
      "text/plain": [
       "<IPython.core.display.HTML object>"
      ]
     },
     "metadata": {},
     "output_type": "display_data"
    },
    {
     "name": "stdout",
     "output_type": "stream",
     "text": [
      "  j=4\n"
     ]
    },
    {
     "data": {
      "text/html": [
       "<pre>    lst = [Paris,<span style=\"background-color:green \">Lyon</span>,Marseille,Toulouse,<span style=\"font-weight: bold; font-size: 110%\">Bordeaux</span>,Lille,Nice]</pre>"
      ],
      "text/plain": [
       "<IPython.core.display.HTML object>"
      ]
     },
     "metadata": {},
     "output_type": "display_data"
    },
    {
     "data": {
      "text/html": [
       "<pre>  lst = [Paris,Lyon,Marseille,Toulouse,<span style=\"background-color:green \"><span style=\"font-weight: bold; font-size: 110%\">Bordeaux</span></span>,Lille,Nice]</pre>"
      ],
      "text/plain": [
       "<IPython.core.display.HTML object>"
      ]
     },
     "metadata": {},
     "output_type": "display_data"
    },
    {
     "name": "stdout",
     "output_type": "stream",
     "text": [
      "  j=5\n"
     ]
    },
    {
     "data": {
      "text/html": [
       "<pre>    lst = [Paris,Lyon,Marseille,Toulouse,<span style=\"background-color:green \">Bordeaux</span>,<span style=\"font-weight: bold; font-size: 110%\">Lille</span>,Nice]</pre>"
      ],
      "text/plain": [
       "<IPython.core.display.HTML object>"
      ]
     },
     "metadata": {},
     "output_type": "display_data"
    },
    {
     "name": "stdout",
     "output_type": "stream",
     "text": [
      "  j=6\n"
     ]
    },
    {
     "data": {
      "text/html": [
       "<pre>    lst = [Paris,Lyon,Marseille,Toulouse,<span style=\"background-color:green \">Bordeaux</span>,Lille,<span style=\"font-weight: bold; font-size: 110%\">Nice</span>]</pre>"
      ],
      "text/plain": [
       "<IPython.core.display.HTML object>"
      ]
     },
     "metadata": {},
     "output_type": "display_data"
    },
    {
     "data": {
      "text/html": [
       "<pre>  lst = [<span style=\"background-color:blue\">Paris</span>,Lyon,Marseille,Toulouse,<span style=\"background-color:blue \">Bordeaux</span>,Lille,Nice]</pre>"
      ],
      "text/plain": [
       "<IPython.core.display.HTML object>"
      ]
     },
     "metadata": {},
     "output_type": "display_data"
    },
    {
     "data": {
      "text/html": [
       "<pre>  lst = [<span style=\"background-color:blue\">Bordeaux</span>,Lyon,Marseille,Toulouse,<span style=\"background-color:blue \">Paris</span>,Lille,Nice]</pre>"
      ],
      "text/plain": [
       "<IPython.core.display.HTML object>"
      ]
     },
     "metadata": {},
     "output_type": "display_data"
    },
    {
     "name": "stdout",
     "output_type": "stream",
     "text": [
      "i=1\n"
     ]
    },
    {
     "data": {
      "text/html": [
       "<pre>  lst = [<span style=\"color:Gainsboro \">Bordeaux</span>,Lyon,Marseille,Toulouse,Paris,Lille,Nice]</pre>"
      ],
      "text/plain": [
       "<IPython.core.display.HTML object>"
      ]
     },
     "metadata": {},
     "output_type": "display_data"
    },
    {
     "data": {
      "text/html": [
       "<pre>  lst = [<span style=\"color:Gainsboro \">Bordeaux</span>,<span style=\"background-color:green \">Lyon</span>,Marseille,Toulouse,Paris,Lille,Nice]</pre>"
      ],
      "text/plain": [
       "<IPython.core.display.HTML object>"
      ]
     },
     "metadata": {},
     "output_type": "display_data"
    },
    {
     "name": "stdout",
     "output_type": "stream",
     "text": [
      "  j=2\n"
     ]
    },
    {
     "data": {
      "text/html": [
       "<pre>    lst = [<span style=\"color:Gainsboro \">Bordeaux</span>,<span style=\"background-color:green \">Lyon</span>,<span style=\"font-weight: bold; font-size: 110%\">Marseille</span>,Toulouse,Paris,Lille,Nice]</pre>"
      ],
      "text/plain": [
       "<IPython.core.display.HTML object>"
      ]
     },
     "metadata": {},
     "output_type": "display_data"
    },
    {
     "name": "stdout",
     "output_type": "stream",
     "text": [
      "  j=3\n"
     ]
    },
    {
     "data": {
      "text/html": [
       "<pre>    lst = [<span style=\"color:Gainsboro \">Bordeaux</span>,<span style=\"background-color:green \">Lyon</span>,Marseille,<span style=\"font-weight: bold; font-size: 110%\">Toulouse</span>,Paris,Lille,Nice]</pre>"
      ],
      "text/plain": [
       "<IPython.core.display.HTML object>"
      ]
     },
     "metadata": {},
     "output_type": "display_data"
    },
    {
     "name": "stdout",
     "output_type": "stream",
     "text": [
      "  j=4\n"
     ]
    },
    {
     "data": {
      "text/html": [
       "<pre>    lst = [<span style=\"color:Gainsboro \">Bordeaux</span>,<span style=\"background-color:green \">Lyon</span>,Marseille,Toulouse,<span style=\"font-weight: bold; font-size: 110%\">Paris</span>,Lille,Nice]</pre>"
      ],
      "text/plain": [
       "<IPython.core.display.HTML object>"
      ]
     },
     "metadata": {},
     "output_type": "display_data"
    },
    {
     "name": "stdout",
     "output_type": "stream",
     "text": [
      "  j=5\n"
     ]
    },
    {
     "data": {
      "text/html": [
       "<pre>    lst = [<span style=\"color:Gainsboro \">Bordeaux</span>,<span style=\"background-color:green \">Lyon</span>,Marseille,Toulouse,Paris,<span style=\"font-weight: bold; font-size: 110%\">Lille</span>,Nice]</pre>"
      ],
      "text/plain": [
       "<IPython.core.display.HTML object>"
      ]
     },
     "metadata": {},
     "output_type": "display_data"
    },
    {
     "data": {
      "text/html": [
       "<pre>  lst = [<span style=\"color:Gainsboro \">Bordeaux</span>,Lyon,Marseille,Toulouse,Paris,<span style=\"background-color:green \"><span style=\"font-weight: bold; font-size: 110%\">Lille</span></span>,Nice]</pre>"
      ],
      "text/plain": [
       "<IPython.core.display.HTML object>"
      ]
     },
     "metadata": {},
     "output_type": "display_data"
    },
    {
     "name": "stdout",
     "output_type": "stream",
     "text": [
      "  j=6\n"
     ]
    },
    {
     "data": {
      "text/html": [
       "<pre>    lst = [<span style=\"color:Gainsboro \">Bordeaux</span>,Lyon,Marseille,Toulouse,Paris,<span style=\"background-color:green \">Lille</span>,<span style=\"font-weight: bold; font-size: 110%\">Nice</span>]</pre>"
      ],
      "text/plain": [
       "<IPython.core.display.HTML object>"
      ]
     },
     "metadata": {},
     "output_type": "display_data"
    },
    {
     "data": {
      "text/html": [
       "<pre>  lst = [<span style=\"color:Gainsboro \">Bordeaux</span>,<span style=\"background-color:blue\">Lyon</span>,Marseille,Toulouse,Paris,<span style=\"background-color:blue \">Lille</span>,Nice]</pre>"
      ],
      "text/plain": [
       "<IPython.core.display.HTML object>"
      ]
     },
     "metadata": {},
     "output_type": "display_data"
    },
    {
     "data": {
      "text/html": [
       "<pre>  lst = [<span style=\"color:Gainsboro \">Bordeaux</span>,<span style=\"background-color:blue\">Lille</span>,Marseille,Toulouse,Paris,<span style=\"background-color:blue \">Lyon</span>,Nice]</pre>"
      ],
      "text/plain": [
       "<IPython.core.display.HTML object>"
      ]
     },
     "metadata": {},
     "output_type": "display_data"
    },
    {
     "name": "stdout",
     "output_type": "stream",
     "text": [
      "i=2\n"
     ]
    },
    {
     "data": {
      "text/html": [
       "<pre>  lst = [<span style=\"color:Gainsboro \">Bordeaux</span><span style=\"color:Gainsboro \">,</span><span style=\"color:Gainsboro \">Lille</span>,Marseille,Toulouse,Paris,Lyon,Nice]</pre>"
      ],
      "text/plain": [
       "<IPython.core.display.HTML object>"
      ]
     },
     "metadata": {},
     "output_type": "display_data"
    },
    {
     "data": {
      "text/html": [
       "<pre>  lst = [<span style=\"color:Gainsboro \">Bordeaux</span><span style=\"color:Gainsboro \">,</span><span style=\"color:Gainsboro \">Lille</span>,<span style=\"background-color:green \">Marseille</span>,Toulouse,Paris,Lyon,Nice]</pre>"
      ],
      "text/plain": [
       "<IPython.core.display.HTML object>"
      ]
     },
     "metadata": {},
     "output_type": "display_data"
    },
    {
     "name": "stdout",
     "output_type": "stream",
     "text": [
      "  j=3\n"
     ]
    },
    {
     "data": {
      "text/html": [
       "<pre>    lst = [<span style=\"color:Gainsboro \">Bordeaux</span><span style=\"color:Gainsboro \">,</span><span style=\"color:Gainsboro \">Lille</span>,<span style=\"background-color:green \">Marseille</span>,<span style=\"font-weight: bold; font-size: 110%\">Toulouse</span>,Paris,Lyon,Nice]</pre>"
      ],
      "text/plain": [
       "<IPython.core.display.HTML object>"
      ]
     },
     "metadata": {},
     "output_type": "display_data"
    },
    {
     "name": "stdout",
     "output_type": "stream",
     "text": [
      "  j=4\n"
     ]
    },
    {
     "data": {
      "text/html": [
       "<pre>    lst = [<span style=\"color:Gainsboro \">Bordeaux</span><span style=\"color:Gainsboro \">,</span><span style=\"color:Gainsboro \">Lille</span>,<span style=\"background-color:green \">Marseille</span>,Toulouse,<span style=\"font-weight: bold; font-size: 110%\">Paris</span>,Lyon,Nice]</pre>"
      ],
      "text/plain": [
       "<IPython.core.display.HTML object>"
      ]
     },
     "metadata": {},
     "output_type": "display_data"
    },
    {
     "name": "stdout",
     "output_type": "stream",
     "text": [
      "  j=5\n"
     ]
    },
    {
     "data": {
      "text/html": [
       "<pre>    lst = [<span style=\"color:Gainsboro \">Bordeaux</span><span style=\"color:Gainsboro \">,</span><span style=\"color:Gainsboro \">Lille</span>,<span style=\"background-color:green \">Marseille</span>,Toulouse,Paris,<span style=\"font-weight: bold; font-size: 110%\">Lyon</span>,Nice]</pre>"
      ],
      "text/plain": [
       "<IPython.core.display.HTML object>"
      ]
     },
     "metadata": {},
     "output_type": "display_data"
    },
    {
     "data": {
      "text/html": [
       "<pre>  lst = [<span style=\"color:Gainsboro \">Bordeaux</span><span style=\"color:Gainsboro \">,</span><span style=\"color:Gainsboro \">Lille</span>,Marseille,Toulouse,Paris,<span style=\"background-color:green \"><span style=\"font-weight: bold; font-size: 110%\">Lyon</span></span>,Nice]</pre>"
      ],
      "text/plain": [
       "<IPython.core.display.HTML object>"
      ]
     },
     "metadata": {},
     "output_type": "display_data"
    },
    {
     "name": "stdout",
     "output_type": "stream",
     "text": [
      "  j=6\n"
     ]
    },
    {
     "data": {
      "text/html": [
       "<pre>    lst = [<span style=\"color:Gainsboro \">Bordeaux</span><span style=\"color:Gainsboro \">,</span><span style=\"color:Gainsboro \">Lille</span>,Marseille,Toulouse,Paris,<span style=\"background-color:green \">Lyon</span>,<span style=\"font-weight: bold; font-size: 110%\">Nice</span>]</pre>"
      ],
      "text/plain": [
       "<IPython.core.display.HTML object>"
      ]
     },
     "metadata": {},
     "output_type": "display_data"
    },
    {
     "data": {
      "text/html": [
       "<pre>  lst = [<span style=\"color:Gainsboro \">Bordeaux</span><span style=\"color:Gainsboro \">,</span><span style=\"color:Gainsboro \">Lille</span>,<span style=\"background-color:blue\">Marseille</span>,Toulouse,Paris,<span style=\"background-color:blue \">Lyon</span>,Nice]</pre>"
      ],
      "text/plain": [
       "<IPython.core.display.HTML object>"
      ]
     },
     "metadata": {},
     "output_type": "display_data"
    },
    {
     "data": {
      "text/html": [
       "<pre>  lst = [<span style=\"color:Gainsboro \">Bordeaux</span><span style=\"color:Gainsboro \">,</span><span style=\"color:Gainsboro \">Lille</span>,<span style=\"background-color:blue\">Lyon</span>,Toulouse,Paris,<span style=\"background-color:blue \">Marseille</span>,Nice]</pre>"
      ],
      "text/plain": [
       "<IPython.core.display.HTML object>"
      ]
     },
     "metadata": {},
     "output_type": "display_data"
    },
    {
     "name": "stdout",
     "output_type": "stream",
     "text": [
      "i=3\n"
     ]
    },
    {
     "data": {
      "text/html": [
       "<pre>  lst = [<span style=\"color:Gainsboro \">Bordeaux</span><span style=\"color:Gainsboro \">,</span><span style=\"color:Gainsboro \">Lille</span><span style=\"color:Gainsboro \">,</span><span style=\"color:Gainsboro \">Lyon</span>,Toulouse,Paris,Marseille,Nice]</pre>"
      ],
      "text/plain": [
       "<IPython.core.display.HTML object>"
      ]
     },
     "metadata": {},
     "output_type": "display_data"
    },
    {
     "data": {
      "text/html": [
       "<pre>  lst = [<span style=\"color:Gainsboro \">Bordeaux</span><span style=\"color:Gainsboro \">,</span><span style=\"color:Gainsboro \">Lille</span><span style=\"color:Gainsboro \">,</span><span style=\"color:Gainsboro \">Lyon</span>,<span style=\"background-color:green \">Toulouse</span>,Paris,Marseille,Nice]</pre>"
      ],
      "text/plain": [
       "<IPython.core.display.HTML object>"
      ]
     },
     "metadata": {},
     "output_type": "display_data"
    },
    {
     "name": "stdout",
     "output_type": "stream",
     "text": [
      "  j=4\n"
     ]
    },
    {
     "data": {
      "text/html": [
       "<pre>    lst = [<span style=\"color:Gainsboro \">Bordeaux</span><span style=\"color:Gainsboro \">,</span><span style=\"color:Gainsboro \">Lille</span><span style=\"color:Gainsboro \">,</span><span style=\"color:Gainsboro \">Lyon</span>,<span style=\"background-color:green \">Toulouse</span>,<span style=\"font-weight: bold; font-size: 110%\">Paris</span>,Marseille,Nice]</pre>"
      ],
      "text/plain": [
       "<IPython.core.display.HTML object>"
      ]
     },
     "metadata": {},
     "output_type": "display_data"
    },
    {
     "data": {
      "text/html": [
       "<pre>  lst = [<span style=\"color:Gainsboro \">Bordeaux</span><span style=\"color:Gainsboro \">,</span><span style=\"color:Gainsboro \">Lille</span><span style=\"color:Gainsboro \">,</span><span style=\"color:Gainsboro \">Lyon</span>,Toulouse,<span style=\"background-color:green \"><span style=\"font-weight: bold; font-size: 110%\">Paris</span></span>,Marseille,Nice]</pre>"
      ],
      "text/plain": [
       "<IPython.core.display.HTML object>"
      ]
     },
     "metadata": {},
     "output_type": "display_data"
    },
    {
     "name": "stdout",
     "output_type": "stream",
     "text": [
      "  j=5\n"
     ]
    },
    {
     "data": {
      "text/html": [
       "<pre>    lst = [<span style=\"color:Gainsboro \">Bordeaux</span><span style=\"color:Gainsboro \">,</span><span style=\"color:Gainsboro \">Lille</span><span style=\"color:Gainsboro \">,</span><span style=\"color:Gainsboro \">Lyon</span>,Toulouse,<span style=\"background-color:green \">Paris</span>,<span style=\"font-weight: bold; font-size: 110%\">Marseille</span>,Nice]</pre>"
      ],
      "text/plain": [
       "<IPython.core.display.HTML object>"
      ]
     },
     "metadata": {},
     "output_type": "display_data"
    },
    {
     "data": {
      "text/html": [
       "<pre>  lst = [<span style=\"color:Gainsboro \">Bordeaux</span><span style=\"color:Gainsboro \">,</span><span style=\"color:Gainsboro \">Lille</span><span style=\"color:Gainsboro \">,</span><span style=\"color:Gainsboro \">Lyon</span>,Toulouse,Paris,<span style=\"background-color:green \"><span style=\"font-weight: bold; font-size: 110%\">Marseille</span></span>,Nice]</pre>"
      ],
      "text/plain": [
       "<IPython.core.display.HTML object>"
      ]
     },
     "metadata": {},
     "output_type": "display_data"
    },
    {
     "name": "stdout",
     "output_type": "stream",
     "text": [
      "  j=6\n"
     ]
    },
    {
     "data": {
      "text/html": [
       "<pre>    lst = [<span style=\"color:Gainsboro \">Bordeaux</span><span style=\"color:Gainsboro \">,</span><span style=\"color:Gainsboro \">Lille</span><span style=\"color:Gainsboro \">,</span><span style=\"color:Gainsboro \">Lyon</span>,Toulouse,Paris,<span style=\"background-color:green \">Marseille</span>,<span style=\"font-weight: bold; font-size: 110%\">Nice</span>]</pre>"
      ],
      "text/plain": [
       "<IPython.core.display.HTML object>"
      ]
     },
     "metadata": {},
     "output_type": "display_data"
    },
    {
     "data": {
      "text/html": [
       "<pre>  lst = [<span style=\"color:Gainsboro \">Bordeaux</span><span style=\"color:Gainsboro \">,</span><span style=\"color:Gainsboro \">Lille</span><span style=\"color:Gainsboro \">,</span><span style=\"color:Gainsboro \">Lyon</span>,<span style=\"background-color:blue\">Toulouse</span>,Paris,<span style=\"background-color:blue \">Marseille</span>,Nice]</pre>"
      ],
      "text/plain": [
       "<IPython.core.display.HTML object>"
      ]
     },
     "metadata": {},
     "output_type": "display_data"
    },
    {
     "data": {
      "text/html": [
       "<pre>  lst = [<span style=\"color:Gainsboro \">Bordeaux</span><span style=\"color:Gainsboro \">,</span><span style=\"color:Gainsboro \">Lille</span><span style=\"color:Gainsboro \">,</span><span style=\"color:Gainsboro \">Lyon</span>,<span style=\"background-color:blue\">Marseille</span>,Paris,<span style=\"background-color:blue \">Toulouse</span>,Nice]</pre>"
      ],
      "text/plain": [
       "<IPython.core.display.HTML object>"
      ]
     },
     "metadata": {},
     "output_type": "display_data"
    },
    {
     "name": "stdout",
     "output_type": "stream",
     "text": [
      "i=4\n"
     ]
    },
    {
     "data": {
      "text/html": [
       "<pre>  lst = [<span style=\"color:Gainsboro \">Bordeaux</span><span style=\"color:Gainsboro \">,</span><span style=\"color:Gainsboro \">Lille</span><span style=\"color:Gainsboro \">,</span><span style=\"color:Gainsboro \">Lyon</span><span style=\"color:Gainsboro \">,</span><span style=\"color:Gainsboro \">Marseille</span>,Paris,Toulouse,Nice]</pre>"
      ],
      "text/plain": [
       "<IPython.core.display.HTML object>"
      ]
     },
     "metadata": {},
     "output_type": "display_data"
    },
    {
     "data": {
      "text/html": [
       "<pre>  lst = [<span style=\"color:Gainsboro \">Bordeaux</span><span style=\"color:Gainsboro \">,</span><span style=\"color:Gainsboro \">Lille</span><span style=\"color:Gainsboro \">,</span><span style=\"color:Gainsboro \">Lyon</span><span style=\"color:Gainsboro \">,</span><span style=\"color:Gainsboro \">Marseille</span>,<span style=\"background-color:green \">Paris</span>,Toulouse,Nice]</pre>"
      ],
      "text/plain": [
       "<IPython.core.display.HTML object>"
      ]
     },
     "metadata": {},
     "output_type": "display_data"
    },
    {
     "name": "stdout",
     "output_type": "stream",
     "text": [
      "  j=5\n"
     ]
    },
    {
     "data": {
      "text/html": [
       "<pre>    lst = [<span style=\"color:Gainsboro \">Bordeaux</span><span style=\"color:Gainsboro \">,</span><span style=\"color:Gainsboro \">Lille</span><span style=\"color:Gainsboro \">,</span><span style=\"color:Gainsboro \">Lyon</span><span style=\"color:Gainsboro \">,</span><span style=\"color:Gainsboro \">Marseille</span>,<span style=\"background-color:green \">Paris</span>,<span style=\"font-weight: bold; font-size: 110%\">Toulouse</span>,Nice]</pre>"
      ],
      "text/plain": [
       "<IPython.core.display.HTML object>"
      ]
     },
     "metadata": {},
     "output_type": "display_data"
    },
    {
     "name": "stdout",
     "output_type": "stream",
     "text": [
      "  j=6\n"
     ]
    },
    {
     "data": {
      "text/html": [
       "<pre>    lst = [<span style=\"color:Gainsboro \">Bordeaux</span><span style=\"color:Gainsboro \">,</span><span style=\"color:Gainsboro \">Lille</span><span style=\"color:Gainsboro \">,</span><span style=\"color:Gainsboro \">Lyon</span><span style=\"color:Gainsboro \">,</span><span style=\"color:Gainsboro \">Marseille</span>,<span style=\"background-color:green \">Paris</span>,Toulouse,<span style=\"font-weight: bold; font-size: 110%\">Nice</span>]</pre>"
      ],
      "text/plain": [
       "<IPython.core.display.HTML object>"
      ]
     },
     "metadata": {},
     "output_type": "display_data"
    },
    {
     "data": {
      "text/html": [
       "<pre>  lst = [<span style=\"color:Gainsboro \">Bordeaux</span><span style=\"color:Gainsboro \">,</span><span style=\"color:Gainsboro \">Lille</span><span style=\"color:Gainsboro \">,</span><span style=\"color:Gainsboro \">Lyon</span><span style=\"color:Gainsboro \">,</span><span style=\"color:Gainsboro \">Marseille</span>,Paris,Toulouse,<span style=\"background-color:green \"><span style=\"font-weight: bold; font-size: 110%\">Nice</span></span>]</pre>"
      ],
      "text/plain": [
       "<IPython.core.display.HTML object>"
      ]
     },
     "metadata": {},
     "output_type": "display_data"
    },
    {
     "data": {
      "text/html": [
       "<pre>  lst = [<span style=\"color:Gainsboro \">Bordeaux</span><span style=\"color:Gainsboro \">,</span><span style=\"color:Gainsboro \">Lille</span><span style=\"color:Gainsboro \">,</span><span style=\"color:Gainsboro \">Lyon</span><span style=\"color:Gainsboro \">,</span><span style=\"color:Gainsboro \">Marseille</span>,<span style=\"background-color:blue\">Paris</span>,Toulouse,<span style=\"background-color:blue \">Nice</span>]</pre>"
      ],
      "text/plain": [
       "<IPython.core.display.HTML object>"
      ]
     },
     "metadata": {},
     "output_type": "display_data"
    },
    {
     "data": {
      "text/html": [
       "<pre>  lst = [<span style=\"color:Gainsboro \">Bordeaux</span><span style=\"color:Gainsboro \">,</span><span style=\"color:Gainsboro \">Lille</span><span style=\"color:Gainsboro \">,</span><span style=\"color:Gainsboro \">Lyon</span><span style=\"color:Gainsboro \">,</span><span style=\"color:Gainsboro \">Marseille</span>,<span style=\"background-color:blue\">Nice</span>,Toulouse,<span style=\"background-color:blue \">Paris</span>]</pre>"
      ],
      "text/plain": [
       "<IPython.core.display.HTML object>"
      ]
     },
     "metadata": {},
     "output_type": "display_data"
    },
    {
     "name": "stdout",
     "output_type": "stream",
     "text": [
      "i=5\n"
     ]
    },
    {
     "data": {
      "text/html": [
       "<pre>  lst = [<span style=\"color:Gainsboro \">Bordeaux</span><span style=\"color:Gainsboro \">,</span><span style=\"color:Gainsboro \">Lille</span><span style=\"color:Gainsboro \">,</span><span style=\"color:Gainsboro \">Lyon</span><span style=\"color:Gainsboro \">,</span><span style=\"color:Gainsboro \">Marseille</span><span style=\"color:Gainsboro \">,</span><span style=\"color:Gainsboro \">Nice</span>,Toulouse,Paris]</pre>"
      ],
      "text/plain": [
       "<IPython.core.display.HTML object>"
      ]
     },
     "metadata": {},
     "output_type": "display_data"
    },
    {
     "data": {
      "text/html": [
       "<pre>  lst = [<span style=\"color:Gainsboro \">Bordeaux</span><span style=\"color:Gainsboro \">,</span><span style=\"color:Gainsboro \">Lille</span><span style=\"color:Gainsboro \">,</span><span style=\"color:Gainsboro \">Lyon</span><span style=\"color:Gainsboro \">,</span><span style=\"color:Gainsboro \">Marseille</span><span style=\"color:Gainsboro \">,</span><span style=\"color:Gainsboro \">Nice</span>,<span style=\"background-color:green \">Toulouse</span>,Paris]</pre>"
      ],
      "text/plain": [
       "<IPython.core.display.HTML object>"
      ]
     },
     "metadata": {},
     "output_type": "display_data"
    },
    {
     "name": "stdout",
     "output_type": "stream",
     "text": [
      "  j=6\n"
     ]
    },
    {
     "data": {
      "text/html": [
       "<pre>    lst = [<span style=\"color:Gainsboro \">Bordeaux</span><span style=\"color:Gainsboro \">,</span><span style=\"color:Gainsboro \">Lille</span><span style=\"color:Gainsboro \">,</span><span style=\"color:Gainsboro \">Lyon</span><span style=\"color:Gainsboro \">,</span><span style=\"color:Gainsboro \">Marseille</span><span style=\"color:Gainsboro \">,</span><span style=\"color:Gainsboro \">Nice</span>,<span style=\"background-color:green \">Toulouse</span>,<span style=\"font-weight: bold; font-size: 110%\">Paris</span>]</pre>"
      ],
      "text/plain": [
       "<IPython.core.display.HTML object>"
      ]
     },
     "metadata": {},
     "output_type": "display_data"
    },
    {
     "data": {
      "text/html": [
       "<pre>  lst = [<span style=\"color:Gainsboro \">Bordeaux</span><span style=\"color:Gainsboro \">,</span><span style=\"color:Gainsboro \">Lille</span><span style=\"color:Gainsboro \">,</span><span style=\"color:Gainsboro \">Lyon</span><span style=\"color:Gainsboro \">,</span><span style=\"color:Gainsboro \">Marseille</span><span style=\"color:Gainsboro \">,</span><span style=\"color:Gainsboro \">Nice</span>,Toulouse,<span style=\"background-color:green \"><span style=\"font-weight: bold; font-size: 110%\">Paris</span></span>]</pre>"
      ],
      "text/plain": [
       "<IPython.core.display.HTML object>"
      ]
     },
     "metadata": {},
     "output_type": "display_data"
    },
    {
     "data": {
      "text/html": [
       "<pre>  lst = [<span style=\"color:Gainsboro \">Bordeaux</span><span style=\"color:Gainsboro \">,</span><span style=\"color:Gainsboro \">Lille</span><span style=\"color:Gainsboro \">,</span><span style=\"color:Gainsboro \">Lyon</span><span style=\"color:Gainsboro \">,</span><span style=\"color:Gainsboro \">Marseille</span><span style=\"color:Gainsboro \">,</span><span style=\"color:Gainsboro \">Nice</span>,<span style=\"background-color:blue\">Toulouse</span>,<span style=\"background-color:blue \">Paris</span>]</pre>"
      ],
      "text/plain": [
       "<IPython.core.display.HTML object>"
      ]
     },
     "metadata": {},
     "output_type": "display_data"
    },
    {
     "data": {
      "text/html": [
       "<pre>  lst = [<span style=\"color:Gainsboro \">Bordeaux</span><span style=\"color:Gainsboro \">,</span><span style=\"color:Gainsboro \">Lille</span><span style=\"color:Gainsboro \">,</span><span style=\"color:Gainsboro \">Lyon</span><span style=\"color:Gainsboro \">,</span><span style=\"color:Gainsboro \">Marseille</span><span style=\"color:Gainsboro \">,</span><span style=\"color:Gainsboro \">Nice</span>,<span style=\"background-color:blue\">Paris</span>,<span style=\"background-color:blue \">Toulouse</span>]</pre>"
      ],
      "text/plain": [
       "<IPython.core.display.HTML object>"
      ]
     },
     "metadata": {},
     "output_type": "display_data"
    },
    {
     "name": "stdout",
     "output_type": "stream",
     "text": [
      "i=6\n"
     ]
    },
    {
     "data": {
      "text/html": [
       "<pre>  lst = [<span style=\"color:Gainsboro \">Bordeaux</span><span style=\"color:Gainsboro \">,</span><span style=\"color:Gainsboro \">Lille</span><span style=\"color:Gainsboro \">,</span><span style=\"color:Gainsboro \">Lyon</span><span style=\"color:Gainsboro \">,</span><span style=\"color:Gainsboro \">Marseille</span><span style=\"color:Gainsboro \">,</span><span style=\"color:Gainsboro \">Nice</span><span style=\"color:Gainsboro \">,</span><span style=\"color:Gainsboro \">Paris</span>,Toulouse]</pre>"
      ],
      "text/plain": [
       "<IPython.core.display.HTML object>"
      ]
     },
     "metadata": {},
     "output_type": "display_data"
    },
    {
     "data": {
      "text/html": [
       "<pre>  lst = [<span style=\"color:Gainsboro \">Bordeaux</span><span style=\"color:Gainsboro \">,</span><span style=\"color:Gainsboro \">Lille</span><span style=\"color:Gainsboro \">,</span><span style=\"color:Gainsboro \">Lyon</span><span style=\"color:Gainsboro \">,</span><span style=\"color:Gainsboro \">Marseille</span><span style=\"color:Gainsboro \">,</span><span style=\"color:Gainsboro \">Nice</span><span style=\"color:Gainsboro \">,</span><span style=\"color:Gainsboro \">Paris</span>,<span style=\"background-color:green \">Toulouse</span>]</pre>"
      ],
      "text/plain": [
       "<IPython.core.display.HTML object>"
      ]
     },
     "metadata": {},
     "output_type": "display_data"
    },
    {
     "data": {
      "text/plain": [
       "['Bordeaux', 'Lille', 'Lyon', 'Marseille', 'Nice', 'Paris', 'Toulouse']"
      ]
     },
     "execution_count": 18,
     "metadata": {},
     "output_type": "execute_result"
    }
   ],
   "source": [
    "#l=[7,4,5,12,6,3]\n",
    "l=['Paris', 'Lyon', 'Marseille', 'Toulouse', 'Bordeaux', 'Lille', 'Nice']\n",
    "triParSélectionP(l)\n",
    "l"
   ]
  },
  {
   "cell_type": "markdown",
   "metadata": {},
   "source": [
    "### Tri à bulles ([Wikipedia](https://fr.wikipedia.org/wiki/Tri_à_bulles))"
   ]
  },
  {
   "cell_type": "code",
   "execution_count": null,
   "metadata": {},
   "outputs": [],
   "source": [
    "def triABulles(lst):\n",
    "    for i in range(len(lst)-1, 0, -1):#n,n-1,n-2,...,0\n",
    "        for j in range(0,i):\n",
    "            if lst[j]>lst[j+1]:\n",
    "                echangeElements(lst,j,j+1)"
   ]
  },
  {
   "cell_type": "code",
   "execution_count": 19,
   "metadata": {
    "ExecuteTime": {
     "end_time": "2017-12-05T15:45:38.116960Z",
     "start_time": "2017-12-05T15:45:38.096082Z"
    }
   },
   "outputs": [],
   "source": [
    "def triABullesP(lst):\n",
    "    display(HTML('Les éléments déjà triés sont <span style=\"color:Gainsboro\"> grisés </span>'))\n",
    "    display(HTML('''L'élément courant, d'indice j, est en <span style=\"font-weight: bold; font-size: 110%\"> gras </span>'''))\n",
    "    display(HTML('''Lorsque les éléments j et j+1 sont correctement ordonnés, ils sont surlignés en <span style=\"background-color:green\"> vert </span>'''))\n",
    "    display(HTML('''Lorsque les éléments j et j+1 sont correctement ordonnés, ils sont surlignés en <span style=\"background-color:red\"> rouge </span>'''))\n",
    "\n",
    "    for i in range(len(lst)-1, 0, -1):\n",
    "        print('i={}'.format(i))\n",
    "        printColoredList(lst,prefix='  lst = ', styles=[{'start':i+1,'end':len(lst)-1, 'style':\"color:Gainsboro \"}])\n",
    "        for j in range(0,i):\n",
    "            print('  j={}'.format(j))\n",
    "            printColoredList(lst,prefix='    lst = ', styles=[{'start':i+1,'end':len(lst)-1, 'style':\"color:Gainsboro \"},{'start':j,'end':j, 'style':\"font-weight: bold; font-size: 110%\"}])            \n",
    "            if lst[j]>lst[j+1]:\n",
    "                printColoredList(lst,prefix='    lst = ', styles=[{'start':i+1,'end':len(lst)-1, 'style':\"color:Gainsboro \"},{'start':j,'end':j+1, 'style':\"background-color: red\"},{'start':j,'end':j, 'style':\"font-weight: bold; font-size: 110%\"}])            \n",
    "                echangeElements(lst,j,j+1)\n",
    "            printColoredList(lst,prefix='    lst = ', styles=[{'start':i+1,'end':len(lst)-1, 'style':\"color:Gainsboro \"},{'start':j,'end':j+1, 'style':\"background-color: green\"},{'start':j,'end':j, 'style':\"font-weight: bold; font-size: 110%\"}])            "
   ]
  },
  {
   "cell_type": "code",
   "execution_count": 20,
   "metadata": {
    "ExecuteTime": {
     "end_time": "2017-12-05T15:46:15.229062Z",
     "start_time": "2017-12-05T15:46:15.059105Z"
    }
   },
   "outputs": [
    {
     "data": {
      "text/html": [
       "Les éléments déjà triés sont <span style=\"color:Gainsboro\"> grisés </span>"
      ],
      "text/plain": [
       "<IPython.core.display.HTML object>"
      ]
     },
     "metadata": {},
     "output_type": "display_data"
    },
    {
     "data": {
      "text/html": [
       "L'élément courant, d'indice j, est en <span style=\"font-weight: bold; font-size: 110%\"> gras </span>"
      ],
      "text/plain": [
       "<IPython.core.display.HTML object>"
      ]
     },
     "metadata": {},
     "output_type": "display_data"
    },
    {
     "data": {
      "text/html": [
       "Lorsque les éléments j et j+1 sont correctement ordonnés, ils sont surlignés en <span style=\"background-color:green\"> vert </span>"
      ],
      "text/plain": [
       "<IPython.core.display.HTML object>"
      ]
     },
     "metadata": {},
     "output_type": "display_data"
    },
    {
     "data": {
      "text/html": [
       "Lorsque les éléments j et j+1 sont correctement ordonnés, ils sont surlignés en <span style=\"background-color:red\"> rouge </span>"
      ],
      "text/plain": [
       "<IPython.core.display.HTML object>"
      ]
     },
     "metadata": {},
     "output_type": "display_data"
    },
    {
     "name": "stdout",
     "output_type": "stream",
     "text": [
      "i=6\n"
     ]
    },
    {
     "data": {
      "text/html": [
       "<pre>  lst = [Paris,Lyon,Marseille,Toulouse,Bordeaux,Lille,Nice]</pre>"
      ],
      "text/plain": [
       "<IPython.core.display.HTML object>"
      ]
     },
     "metadata": {},
     "output_type": "display_data"
    },
    {
     "name": "stdout",
     "output_type": "stream",
     "text": [
      "  j=0\n"
     ]
    },
    {
     "data": {
      "text/html": [
       "<pre>    lst = [<span style=\"font-weight: bold; font-size: 110%\">Paris</span>,Lyon,Marseille,Toulouse,Bordeaux,Lille,Nice]</pre>"
      ],
      "text/plain": [
       "<IPython.core.display.HTML object>"
      ]
     },
     "metadata": {},
     "output_type": "display_data"
    },
    {
     "data": {
      "text/html": [
       "<pre>    lst = [<span style=\"background-color: red\"><span style=\"font-weight: bold; font-size: 110%\">Paris</span></span><span style=\"background-color: red\">,</span><span style=\"background-color: red\">Lyon</span>,Marseille,Toulouse,Bordeaux,Lille,Nice]</pre>"
      ],
      "text/plain": [
       "<IPython.core.display.HTML object>"
      ]
     },
     "metadata": {},
     "output_type": "display_data"
    },
    {
     "data": {
      "text/html": [
       "<pre>    lst = [<span style=\"background-color: green\"><span style=\"font-weight: bold; font-size: 110%\">Lyon</span></span><span style=\"background-color: green\">,</span><span style=\"background-color: green\">Paris</span>,Marseille,Toulouse,Bordeaux,Lille,Nice]</pre>"
      ],
      "text/plain": [
       "<IPython.core.display.HTML object>"
      ]
     },
     "metadata": {},
     "output_type": "display_data"
    },
    {
     "name": "stdout",
     "output_type": "stream",
     "text": [
      "  j=1\n"
     ]
    },
    {
     "data": {
      "text/html": [
       "<pre>    lst = [Lyon,<span style=\"font-weight: bold; font-size: 110%\">Paris</span>,Marseille,Toulouse,Bordeaux,Lille,Nice]</pre>"
      ],
      "text/plain": [
       "<IPython.core.display.HTML object>"
      ]
     },
     "metadata": {},
     "output_type": "display_data"
    },
    {
     "data": {
      "text/html": [
       "<pre>    lst = [Lyon,<span style=\"background-color: red\"><span style=\"font-weight: bold; font-size: 110%\">Paris</span></span><span style=\"background-color: red\">,</span><span style=\"background-color: red\">Marseille</span>,Toulouse,Bordeaux,Lille,Nice]</pre>"
      ],
      "text/plain": [
       "<IPython.core.display.HTML object>"
      ]
     },
     "metadata": {},
     "output_type": "display_data"
    },
    {
     "data": {
      "text/html": [
       "<pre>    lst = [Lyon,<span style=\"background-color: green\"><span style=\"font-weight: bold; font-size: 110%\">Marseille</span></span><span style=\"background-color: green\">,</span><span style=\"background-color: green\">Paris</span>,Toulouse,Bordeaux,Lille,Nice]</pre>"
      ],
      "text/plain": [
       "<IPython.core.display.HTML object>"
      ]
     },
     "metadata": {},
     "output_type": "display_data"
    },
    {
     "name": "stdout",
     "output_type": "stream",
     "text": [
      "  j=2\n"
     ]
    },
    {
     "data": {
      "text/html": [
       "<pre>    lst = [Lyon,Marseille,<span style=\"font-weight: bold; font-size: 110%\">Paris</span>,Toulouse,Bordeaux,Lille,Nice]</pre>"
      ],
      "text/plain": [
       "<IPython.core.display.HTML object>"
      ]
     },
     "metadata": {},
     "output_type": "display_data"
    },
    {
     "data": {
      "text/html": [
       "<pre>    lst = [Lyon,Marseille,<span style=\"background-color: green\"><span style=\"font-weight: bold; font-size: 110%\">Paris</span></span><span style=\"background-color: green\">,</span><span style=\"background-color: green\">Toulouse</span>,Bordeaux,Lille,Nice]</pre>"
      ],
      "text/plain": [
       "<IPython.core.display.HTML object>"
      ]
     },
     "metadata": {},
     "output_type": "display_data"
    },
    {
     "name": "stdout",
     "output_type": "stream",
     "text": [
      "  j=3\n"
     ]
    },
    {
     "data": {
      "text/html": [
       "<pre>    lst = [Lyon,Marseille,Paris,<span style=\"font-weight: bold; font-size: 110%\">Toulouse</span>,Bordeaux,Lille,Nice]</pre>"
      ],
      "text/plain": [
       "<IPython.core.display.HTML object>"
      ]
     },
     "metadata": {},
     "output_type": "display_data"
    },
    {
     "data": {
      "text/html": [
       "<pre>    lst = [Lyon,Marseille,Paris,<span style=\"background-color: red\"><span style=\"font-weight: bold; font-size: 110%\">Toulouse</span></span><span style=\"background-color: red\">,</span><span style=\"background-color: red\">Bordeaux</span>,Lille,Nice]</pre>"
      ],
      "text/plain": [
       "<IPython.core.display.HTML object>"
      ]
     },
     "metadata": {},
     "output_type": "display_data"
    },
    {
     "data": {
      "text/html": [
       "<pre>    lst = [Lyon,Marseille,Paris,<span style=\"background-color: green\"><span style=\"font-weight: bold; font-size: 110%\">Bordeaux</span></span><span style=\"background-color: green\">,</span><span style=\"background-color: green\">Toulouse</span>,Lille,Nice]</pre>"
      ],
      "text/plain": [
       "<IPython.core.display.HTML object>"
      ]
     },
     "metadata": {},
     "output_type": "display_data"
    },
    {
     "name": "stdout",
     "output_type": "stream",
     "text": [
      "  j=4\n"
     ]
    },
    {
     "data": {
      "text/html": [
       "<pre>    lst = [Lyon,Marseille,Paris,Bordeaux,<span style=\"font-weight: bold; font-size: 110%\">Toulouse</span>,Lille,Nice]</pre>"
      ],
      "text/plain": [
       "<IPython.core.display.HTML object>"
      ]
     },
     "metadata": {},
     "output_type": "display_data"
    },
    {
     "data": {
      "text/html": [
       "<pre>    lst = [Lyon,Marseille,Paris,Bordeaux,<span style=\"background-color: red\"><span style=\"font-weight: bold; font-size: 110%\">Toulouse</span></span><span style=\"background-color: red\">,</span><span style=\"background-color: red\">Lille</span>,Nice]</pre>"
      ],
      "text/plain": [
       "<IPython.core.display.HTML object>"
      ]
     },
     "metadata": {},
     "output_type": "display_data"
    },
    {
     "data": {
      "text/html": [
       "<pre>    lst = [Lyon,Marseille,Paris,Bordeaux,<span style=\"background-color: green\"><span style=\"font-weight: bold; font-size: 110%\">Lille</span></span><span style=\"background-color: green\">,</span><span style=\"background-color: green\">Toulouse</span>,Nice]</pre>"
      ],
      "text/plain": [
       "<IPython.core.display.HTML object>"
      ]
     },
     "metadata": {},
     "output_type": "display_data"
    },
    {
     "name": "stdout",
     "output_type": "stream",
     "text": [
      "  j=5\n"
     ]
    },
    {
     "data": {
      "text/html": [
       "<pre>    lst = [Lyon,Marseille,Paris,Bordeaux,Lille,<span style=\"font-weight: bold; font-size: 110%\">Toulouse</span>,Nice]</pre>"
      ],
      "text/plain": [
       "<IPython.core.display.HTML object>"
      ]
     },
     "metadata": {},
     "output_type": "display_data"
    },
    {
     "data": {
      "text/html": [
       "<pre>    lst = [Lyon,Marseille,Paris,Bordeaux,Lille,<span style=\"background-color: red\"><span style=\"font-weight: bold; font-size: 110%\">Toulouse</span></span><span style=\"background-color: red\">,</span><span style=\"background-color: red\">Nice</span>]</pre>"
      ],
      "text/plain": [
       "<IPython.core.display.HTML object>"
      ]
     },
     "metadata": {},
     "output_type": "display_data"
    },
    {
     "data": {
      "text/html": [
       "<pre>    lst = [Lyon,Marseille,Paris,Bordeaux,Lille,<span style=\"background-color: green\"><span style=\"font-weight: bold; font-size: 110%\">Nice</span></span><span style=\"background-color: green\">,</span><span style=\"background-color: green\">Toulouse</span>]</pre>"
      ],
      "text/plain": [
       "<IPython.core.display.HTML object>"
      ]
     },
     "metadata": {},
     "output_type": "display_data"
    },
    {
     "name": "stdout",
     "output_type": "stream",
     "text": [
      "i=5\n"
     ]
    },
    {
     "data": {
      "text/html": [
       "<pre>  lst = [Lyon,Marseille,Paris,Bordeaux,Lille,Nice,<span style=\"color:Gainsboro \">Toulouse</span>]</pre>"
      ],
      "text/plain": [
       "<IPython.core.display.HTML object>"
      ]
     },
     "metadata": {},
     "output_type": "display_data"
    },
    {
     "name": "stdout",
     "output_type": "stream",
     "text": [
      "  j=0\n"
     ]
    },
    {
     "data": {
      "text/html": [
       "<pre>    lst = [<span style=\"font-weight: bold; font-size: 110%\">Lyon</span>,Marseille,Paris,Bordeaux,Lille,Nice,<span style=\"color:Gainsboro \">Toulouse</span>]</pre>"
      ],
      "text/plain": [
       "<IPython.core.display.HTML object>"
      ]
     },
     "metadata": {},
     "output_type": "display_data"
    },
    {
     "data": {
      "text/html": [
       "<pre>    lst = [<span style=\"background-color: green\"><span style=\"font-weight: bold; font-size: 110%\">Lyon</span></span><span style=\"background-color: green\">,</span><span style=\"background-color: green\">Marseille</span>,Paris,Bordeaux,Lille,Nice,<span style=\"color:Gainsboro \">Toulouse</span>]</pre>"
      ],
      "text/plain": [
       "<IPython.core.display.HTML object>"
      ]
     },
     "metadata": {},
     "output_type": "display_data"
    },
    {
     "name": "stdout",
     "output_type": "stream",
     "text": [
      "  j=1\n"
     ]
    },
    {
     "data": {
      "text/html": [
       "<pre>    lst = [Lyon,<span style=\"font-weight: bold; font-size: 110%\">Marseille</span>,Paris,Bordeaux,Lille,Nice,<span style=\"color:Gainsboro \">Toulouse</span>]</pre>"
      ],
      "text/plain": [
       "<IPython.core.display.HTML object>"
      ]
     },
     "metadata": {},
     "output_type": "display_data"
    },
    {
     "data": {
      "text/html": [
       "<pre>    lst = [Lyon,<span style=\"background-color: green\"><span style=\"font-weight: bold; font-size: 110%\">Marseille</span></span><span style=\"background-color: green\">,</span><span style=\"background-color: green\">Paris</span>,Bordeaux,Lille,Nice,<span style=\"color:Gainsboro \">Toulouse</span>]</pre>"
      ],
      "text/plain": [
       "<IPython.core.display.HTML object>"
      ]
     },
     "metadata": {},
     "output_type": "display_data"
    },
    {
     "name": "stdout",
     "output_type": "stream",
     "text": [
      "  j=2\n"
     ]
    },
    {
     "data": {
      "text/html": [
       "<pre>    lst = [Lyon,Marseille,<span style=\"font-weight: bold; font-size: 110%\">Paris</span>,Bordeaux,Lille,Nice,<span style=\"color:Gainsboro \">Toulouse</span>]</pre>"
      ],
      "text/plain": [
       "<IPython.core.display.HTML object>"
      ]
     },
     "metadata": {},
     "output_type": "display_data"
    },
    {
     "data": {
      "text/html": [
       "<pre>    lst = [Lyon,Marseille,<span style=\"background-color: red\"><span style=\"font-weight: bold; font-size: 110%\">Paris</span></span><span style=\"background-color: red\">,</span><span style=\"background-color: red\">Bordeaux</span>,Lille,Nice,<span style=\"color:Gainsboro \">Toulouse</span>]</pre>"
      ],
      "text/plain": [
       "<IPython.core.display.HTML object>"
      ]
     },
     "metadata": {},
     "output_type": "display_data"
    },
    {
     "data": {
      "text/html": [
       "<pre>    lst = [Lyon,Marseille,<span style=\"background-color: green\"><span style=\"font-weight: bold; font-size: 110%\">Bordeaux</span></span><span style=\"background-color: green\">,</span><span style=\"background-color: green\">Paris</span>,Lille,Nice,<span style=\"color:Gainsboro \">Toulouse</span>]</pre>"
      ],
      "text/plain": [
       "<IPython.core.display.HTML object>"
      ]
     },
     "metadata": {},
     "output_type": "display_data"
    },
    {
     "name": "stdout",
     "output_type": "stream",
     "text": [
      "  j=3\n"
     ]
    },
    {
     "data": {
      "text/html": [
       "<pre>    lst = [Lyon,Marseille,Bordeaux,<span style=\"font-weight: bold; font-size: 110%\">Paris</span>,Lille,Nice,<span style=\"color:Gainsboro \">Toulouse</span>]</pre>"
      ],
      "text/plain": [
       "<IPython.core.display.HTML object>"
      ]
     },
     "metadata": {},
     "output_type": "display_data"
    },
    {
     "data": {
      "text/html": [
       "<pre>    lst = [Lyon,Marseille,Bordeaux,<span style=\"background-color: red\"><span style=\"font-weight: bold; font-size: 110%\">Paris</span></span><span style=\"background-color: red\">,</span><span style=\"background-color: red\">Lille</span>,Nice,<span style=\"color:Gainsboro \">Toulouse</span>]</pre>"
      ],
      "text/plain": [
       "<IPython.core.display.HTML object>"
      ]
     },
     "metadata": {},
     "output_type": "display_data"
    },
    {
     "data": {
      "text/html": [
       "<pre>    lst = [Lyon,Marseille,Bordeaux,<span style=\"background-color: green\"><span style=\"font-weight: bold; font-size: 110%\">Lille</span></span><span style=\"background-color: green\">,</span><span style=\"background-color: green\">Paris</span>,Nice,<span style=\"color:Gainsboro \">Toulouse</span>]</pre>"
      ],
      "text/plain": [
       "<IPython.core.display.HTML object>"
      ]
     },
     "metadata": {},
     "output_type": "display_data"
    },
    {
     "name": "stdout",
     "output_type": "stream",
     "text": [
      "  j=4\n"
     ]
    },
    {
     "data": {
      "text/html": [
       "<pre>    lst = [Lyon,Marseille,Bordeaux,Lille,<span style=\"font-weight: bold; font-size: 110%\">Paris</span>,Nice,<span style=\"color:Gainsboro \">Toulouse</span>]</pre>"
      ],
      "text/plain": [
       "<IPython.core.display.HTML object>"
      ]
     },
     "metadata": {},
     "output_type": "display_data"
    },
    {
     "data": {
      "text/html": [
       "<pre>    lst = [Lyon,Marseille,Bordeaux,Lille,<span style=\"background-color: red\"><span style=\"font-weight: bold; font-size: 110%\">Paris</span></span><span style=\"background-color: red\">,</span><span style=\"background-color: red\">Nice</span>,<span style=\"color:Gainsboro \">Toulouse</span>]</pre>"
      ],
      "text/plain": [
       "<IPython.core.display.HTML object>"
      ]
     },
     "metadata": {},
     "output_type": "display_data"
    },
    {
     "data": {
      "text/html": [
       "<pre>    lst = [Lyon,Marseille,Bordeaux,Lille,<span style=\"background-color: green\"><span style=\"font-weight: bold; font-size: 110%\">Nice</span></span><span style=\"background-color: green\">,</span><span style=\"background-color: green\">Paris</span>,<span style=\"color:Gainsboro \">Toulouse</span>]</pre>"
      ],
      "text/plain": [
       "<IPython.core.display.HTML object>"
      ]
     },
     "metadata": {},
     "output_type": "display_data"
    },
    {
     "name": "stdout",
     "output_type": "stream",
     "text": [
      "i=4\n"
     ]
    },
    {
     "data": {
      "text/html": [
       "<pre>  lst = [Lyon,Marseille,Bordeaux,Lille,Nice,<span style=\"color:Gainsboro \">Paris</span><span style=\"color:Gainsboro \">,</span><span style=\"color:Gainsboro \">Toulouse</span>]</pre>"
      ],
      "text/plain": [
       "<IPython.core.display.HTML object>"
      ]
     },
     "metadata": {},
     "output_type": "display_data"
    },
    {
     "name": "stdout",
     "output_type": "stream",
     "text": [
      "  j=0\n"
     ]
    },
    {
     "data": {
      "text/html": [
       "<pre>    lst = [<span style=\"font-weight: bold; font-size: 110%\">Lyon</span>,Marseille,Bordeaux,Lille,Nice,<span style=\"color:Gainsboro \">Paris</span><span style=\"color:Gainsboro \">,</span><span style=\"color:Gainsboro \">Toulouse</span>]</pre>"
      ],
      "text/plain": [
       "<IPython.core.display.HTML object>"
      ]
     },
     "metadata": {},
     "output_type": "display_data"
    },
    {
     "data": {
      "text/html": [
       "<pre>    lst = [<span style=\"background-color: green\"><span style=\"font-weight: bold; font-size: 110%\">Lyon</span></span><span style=\"background-color: green\">,</span><span style=\"background-color: green\">Marseille</span>,Bordeaux,Lille,Nice,<span style=\"color:Gainsboro \">Paris</span><span style=\"color:Gainsboro \">,</span><span style=\"color:Gainsboro \">Toulouse</span>]</pre>"
      ],
      "text/plain": [
       "<IPython.core.display.HTML object>"
      ]
     },
     "metadata": {},
     "output_type": "display_data"
    },
    {
     "name": "stdout",
     "output_type": "stream",
     "text": [
      "  j=1\n"
     ]
    },
    {
     "data": {
      "text/html": [
       "<pre>    lst = [Lyon,<span style=\"font-weight: bold; font-size: 110%\">Marseille</span>,Bordeaux,Lille,Nice,<span style=\"color:Gainsboro \">Paris</span><span style=\"color:Gainsboro \">,</span><span style=\"color:Gainsboro \">Toulouse</span>]</pre>"
      ],
      "text/plain": [
       "<IPython.core.display.HTML object>"
      ]
     },
     "metadata": {},
     "output_type": "display_data"
    },
    {
     "data": {
      "text/html": [
       "<pre>    lst = [Lyon,<span style=\"background-color: red\"><span style=\"font-weight: bold; font-size: 110%\">Marseille</span></span><span style=\"background-color: red\">,</span><span style=\"background-color: red\">Bordeaux</span>,Lille,Nice,<span style=\"color:Gainsboro \">Paris</span><span style=\"color:Gainsboro \">,</span><span style=\"color:Gainsboro \">Toulouse</span>]</pre>"
      ],
      "text/plain": [
       "<IPython.core.display.HTML object>"
      ]
     },
     "metadata": {},
     "output_type": "display_data"
    },
    {
     "data": {
      "text/html": [
       "<pre>    lst = [Lyon,<span style=\"background-color: green\"><span style=\"font-weight: bold; font-size: 110%\">Bordeaux</span></span><span style=\"background-color: green\">,</span><span style=\"background-color: green\">Marseille</span>,Lille,Nice,<span style=\"color:Gainsboro \">Paris</span><span style=\"color:Gainsboro \">,</span><span style=\"color:Gainsboro \">Toulouse</span>]</pre>"
      ],
      "text/plain": [
       "<IPython.core.display.HTML object>"
      ]
     },
     "metadata": {},
     "output_type": "display_data"
    },
    {
     "name": "stdout",
     "output_type": "stream",
     "text": [
      "  j=2\n"
     ]
    },
    {
     "data": {
      "text/html": [
       "<pre>    lst = [Lyon,Bordeaux,<span style=\"font-weight: bold; font-size: 110%\">Marseille</span>,Lille,Nice,<span style=\"color:Gainsboro \">Paris</span><span style=\"color:Gainsboro \">,</span><span style=\"color:Gainsboro \">Toulouse</span>]</pre>"
      ],
      "text/plain": [
       "<IPython.core.display.HTML object>"
      ]
     },
     "metadata": {},
     "output_type": "display_data"
    },
    {
     "data": {
      "text/html": [
       "<pre>    lst = [Lyon,Bordeaux,<span style=\"background-color: red\"><span style=\"font-weight: bold; font-size: 110%\">Marseille</span></span><span style=\"background-color: red\">,</span><span style=\"background-color: red\">Lille</span>,Nice,<span style=\"color:Gainsboro \">Paris</span><span style=\"color:Gainsboro \">,</span><span style=\"color:Gainsboro \">Toulouse</span>]</pre>"
      ],
      "text/plain": [
       "<IPython.core.display.HTML object>"
      ]
     },
     "metadata": {},
     "output_type": "display_data"
    },
    {
     "data": {
      "text/html": [
       "<pre>    lst = [Lyon,Bordeaux,<span style=\"background-color: green\"><span style=\"font-weight: bold; font-size: 110%\">Lille</span></span><span style=\"background-color: green\">,</span><span style=\"background-color: green\">Marseille</span>,Nice,<span style=\"color:Gainsboro \">Paris</span><span style=\"color:Gainsboro \">,</span><span style=\"color:Gainsboro \">Toulouse</span>]</pre>"
      ],
      "text/plain": [
       "<IPython.core.display.HTML object>"
      ]
     },
     "metadata": {},
     "output_type": "display_data"
    },
    {
     "name": "stdout",
     "output_type": "stream",
     "text": [
      "  j=3\n"
     ]
    },
    {
     "data": {
      "text/html": [
       "<pre>    lst = [Lyon,Bordeaux,Lille,<span style=\"font-weight: bold; font-size: 110%\">Marseille</span>,Nice,<span style=\"color:Gainsboro \">Paris</span><span style=\"color:Gainsboro \">,</span><span style=\"color:Gainsboro \">Toulouse</span>]</pre>"
      ],
      "text/plain": [
       "<IPython.core.display.HTML object>"
      ]
     },
     "metadata": {},
     "output_type": "display_data"
    },
    {
     "data": {
      "text/html": [
       "<pre>    lst = [Lyon,Bordeaux,Lille,<span style=\"background-color: green\"><span style=\"font-weight: bold; font-size: 110%\">Marseille</span></span><span style=\"background-color: green\">,</span><span style=\"background-color: green\">Nice</span>,<span style=\"color:Gainsboro \">Paris</span><span style=\"color:Gainsboro \">,</span><span style=\"color:Gainsboro \">Toulouse</span>]</pre>"
      ],
      "text/plain": [
       "<IPython.core.display.HTML object>"
      ]
     },
     "metadata": {},
     "output_type": "display_data"
    },
    {
     "name": "stdout",
     "output_type": "stream",
     "text": [
      "i=3\n"
     ]
    },
    {
     "data": {
      "text/html": [
       "<pre>  lst = [Lyon,Bordeaux,Lille,Marseille,<span style=\"color:Gainsboro \">Nice</span><span style=\"color:Gainsboro \">,</span><span style=\"color:Gainsboro \">Paris</span><span style=\"color:Gainsboro \">,</span><span style=\"color:Gainsboro \">Toulouse</span>]</pre>"
      ],
      "text/plain": [
       "<IPython.core.display.HTML object>"
      ]
     },
     "metadata": {},
     "output_type": "display_data"
    },
    {
     "name": "stdout",
     "output_type": "stream",
     "text": [
      "  j=0\n"
     ]
    },
    {
     "data": {
      "text/html": [
       "<pre>    lst = [<span style=\"font-weight: bold; font-size: 110%\">Lyon</span>,Bordeaux,Lille,Marseille,<span style=\"color:Gainsboro \">Nice</span><span style=\"color:Gainsboro \">,</span><span style=\"color:Gainsboro \">Paris</span><span style=\"color:Gainsboro \">,</span><span style=\"color:Gainsboro \">Toulouse</span>]</pre>"
      ],
      "text/plain": [
       "<IPython.core.display.HTML object>"
      ]
     },
     "metadata": {},
     "output_type": "display_data"
    },
    {
     "data": {
      "text/html": [
       "<pre>    lst = [<span style=\"background-color: red\"><span style=\"font-weight: bold; font-size: 110%\">Lyon</span></span><span style=\"background-color: red\">,</span><span style=\"background-color: red\">Bordeaux</span>,Lille,Marseille,<span style=\"color:Gainsboro \">Nice</span><span style=\"color:Gainsboro \">,</span><span style=\"color:Gainsboro \">Paris</span><span style=\"color:Gainsboro \">,</span><span style=\"color:Gainsboro \">Toulouse</span>]</pre>"
      ],
      "text/plain": [
       "<IPython.core.display.HTML object>"
      ]
     },
     "metadata": {},
     "output_type": "display_data"
    },
    {
     "data": {
      "text/html": [
       "<pre>    lst = [<span style=\"background-color: green\"><span style=\"font-weight: bold; font-size: 110%\">Bordeaux</span></span><span style=\"background-color: green\">,</span><span style=\"background-color: green\">Lyon</span>,Lille,Marseille,<span style=\"color:Gainsboro \">Nice</span><span style=\"color:Gainsboro \">,</span><span style=\"color:Gainsboro \">Paris</span><span style=\"color:Gainsboro \">,</span><span style=\"color:Gainsboro \">Toulouse</span>]</pre>"
      ],
      "text/plain": [
       "<IPython.core.display.HTML object>"
      ]
     },
     "metadata": {},
     "output_type": "display_data"
    },
    {
     "name": "stdout",
     "output_type": "stream",
     "text": [
      "  j=1\n"
     ]
    },
    {
     "data": {
      "text/html": [
       "<pre>    lst = [Bordeaux,<span style=\"font-weight: bold; font-size: 110%\">Lyon</span>,Lille,Marseille,<span style=\"color:Gainsboro \">Nice</span><span style=\"color:Gainsboro \">,</span><span style=\"color:Gainsboro \">Paris</span><span style=\"color:Gainsboro \">,</span><span style=\"color:Gainsboro \">Toulouse</span>]</pre>"
      ],
      "text/plain": [
       "<IPython.core.display.HTML object>"
      ]
     },
     "metadata": {},
     "output_type": "display_data"
    },
    {
     "data": {
      "text/html": [
       "<pre>    lst = [Bordeaux,<span style=\"background-color: red\"><span style=\"font-weight: bold; font-size: 110%\">Lyon</span></span><span style=\"background-color: red\">,</span><span style=\"background-color: red\">Lille</span>,Marseille,<span style=\"color:Gainsboro \">Nice</span><span style=\"color:Gainsboro \">,</span><span style=\"color:Gainsboro \">Paris</span><span style=\"color:Gainsboro \">,</span><span style=\"color:Gainsboro \">Toulouse</span>]</pre>"
      ],
      "text/plain": [
       "<IPython.core.display.HTML object>"
      ]
     },
     "metadata": {},
     "output_type": "display_data"
    },
    {
     "data": {
      "text/html": [
       "<pre>    lst = [Bordeaux,<span style=\"background-color: green\"><span style=\"font-weight: bold; font-size: 110%\">Lille</span></span><span style=\"background-color: green\">,</span><span style=\"background-color: green\">Lyon</span>,Marseille,<span style=\"color:Gainsboro \">Nice</span><span style=\"color:Gainsboro \">,</span><span style=\"color:Gainsboro \">Paris</span><span style=\"color:Gainsboro \">,</span><span style=\"color:Gainsboro \">Toulouse</span>]</pre>"
      ],
      "text/plain": [
       "<IPython.core.display.HTML object>"
      ]
     },
     "metadata": {},
     "output_type": "display_data"
    },
    {
     "name": "stdout",
     "output_type": "stream",
     "text": [
      "  j=2\n"
     ]
    },
    {
     "data": {
      "text/html": [
       "<pre>    lst = [Bordeaux,Lille,<span style=\"font-weight: bold; font-size: 110%\">Lyon</span>,Marseille,<span style=\"color:Gainsboro \">Nice</span><span style=\"color:Gainsboro \">,</span><span style=\"color:Gainsboro \">Paris</span><span style=\"color:Gainsboro \">,</span><span style=\"color:Gainsboro \">Toulouse</span>]</pre>"
      ],
      "text/plain": [
       "<IPython.core.display.HTML object>"
      ]
     },
     "metadata": {},
     "output_type": "display_data"
    },
    {
     "data": {
      "text/html": [
       "<pre>    lst = [Bordeaux,Lille,<span style=\"background-color: green\"><span style=\"font-weight: bold; font-size: 110%\">Lyon</span></span><span style=\"background-color: green\">,</span><span style=\"background-color: green\">Marseille</span>,<span style=\"color:Gainsboro \">Nice</span><span style=\"color:Gainsboro \">,</span><span style=\"color:Gainsboro \">Paris</span><span style=\"color:Gainsboro \">,</span><span style=\"color:Gainsboro \">Toulouse</span>]</pre>"
      ],
      "text/plain": [
       "<IPython.core.display.HTML object>"
      ]
     },
     "metadata": {},
     "output_type": "display_data"
    },
    {
     "name": "stdout",
     "output_type": "stream",
     "text": [
      "i=2\n"
     ]
    },
    {
     "data": {
      "text/html": [
       "<pre>  lst = [Bordeaux,Lille,Lyon,<span style=\"color:Gainsboro \">Marseille</span><span style=\"color:Gainsboro \">,</span><span style=\"color:Gainsboro \">Nice</span><span style=\"color:Gainsboro \">,</span><span style=\"color:Gainsboro \">Paris</span><span style=\"color:Gainsboro \">,</span><span style=\"color:Gainsboro \">Toulouse</span>]</pre>"
      ],
      "text/plain": [
       "<IPython.core.display.HTML object>"
      ]
     },
     "metadata": {},
     "output_type": "display_data"
    },
    {
     "name": "stdout",
     "output_type": "stream",
     "text": [
      "  j=0\n"
     ]
    },
    {
     "data": {
      "text/html": [
       "<pre>    lst = [<span style=\"font-weight: bold; font-size: 110%\">Bordeaux</span>,Lille,Lyon,<span style=\"color:Gainsboro \">Marseille</span><span style=\"color:Gainsboro \">,</span><span style=\"color:Gainsboro \">Nice</span><span style=\"color:Gainsboro \">,</span><span style=\"color:Gainsboro \">Paris</span><span style=\"color:Gainsboro \">,</span><span style=\"color:Gainsboro \">Toulouse</span>]</pre>"
      ],
      "text/plain": [
       "<IPython.core.display.HTML object>"
      ]
     },
     "metadata": {},
     "output_type": "display_data"
    },
    {
     "data": {
      "text/html": [
       "<pre>    lst = [<span style=\"background-color: green\"><span style=\"font-weight: bold; font-size: 110%\">Bordeaux</span></span><span style=\"background-color: green\">,</span><span style=\"background-color: green\">Lille</span>,Lyon,<span style=\"color:Gainsboro \">Marseille</span><span style=\"color:Gainsboro \">,</span><span style=\"color:Gainsboro \">Nice</span><span style=\"color:Gainsboro \">,</span><span style=\"color:Gainsboro \">Paris</span><span style=\"color:Gainsboro \">,</span><span style=\"color:Gainsboro \">Toulouse</span>]</pre>"
      ],
      "text/plain": [
       "<IPython.core.display.HTML object>"
      ]
     },
     "metadata": {},
     "output_type": "display_data"
    },
    {
     "name": "stdout",
     "output_type": "stream",
     "text": [
      "  j=1\n"
     ]
    },
    {
     "data": {
      "text/html": [
       "<pre>    lst = [Bordeaux,<span style=\"font-weight: bold; font-size: 110%\">Lille</span>,Lyon,<span style=\"color:Gainsboro \">Marseille</span><span style=\"color:Gainsboro \">,</span><span style=\"color:Gainsboro \">Nice</span><span style=\"color:Gainsboro \">,</span><span style=\"color:Gainsboro \">Paris</span><span style=\"color:Gainsboro \">,</span><span style=\"color:Gainsboro \">Toulouse</span>]</pre>"
      ],
      "text/plain": [
       "<IPython.core.display.HTML object>"
      ]
     },
     "metadata": {},
     "output_type": "display_data"
    },
    {
     "data": {
      "text/html": [
       "<pre>    lst = [Bordeaux,<span style=\"background-color: green\"><span style=\"font-weight: bold; font-size: 110%\">Lille</span></span><span style=\"background-color: green\">,</span><span style=\"background-color: green\">Lyon</span>,<span style=\"color:Gainsboro \">Marseille</span><span style=\"color:Gainsboro \">,</span><span style=\"color:Gainsboro \">Nice</span><span style=\"color:Gainsboro \">,</span><span style=\"color:Gainsboro \">Paris</span><span style=\"color:Gainsboro \">,</span><span style=\"color:Gainsboro \">Toulouse</span>]</pre>"
      ],
      "text/plain": [
       "<IPython.core.display.HTML object>"
      ]
     },
     "metadata": {},
     "output_type": "display_data"
    },
    {
     "name": "stdout",
     "output_type": "stream",
     "text": [
      "i=1\n"
     ]
    },
    {
     "data": {
      "text/html": [
       "<pre>  lst = [Bordeaux,Lille,<span style=\"color:Gainsboro \">Lyon</span><span style=\"color:Gainsboro \">,</span><span style=\"color:Gainsboro \">Marseille</span><span style=\"color:Gainsboro \">,</span><span style=\"color:Gainsboro \">Nice</span><span style=\"color:Gainsboro \">,</span><span style=\"color:Gainsboro \">Paris</span><span style=\"color:Gainsboro \">,</span><span style=\"color:Gainsboro \">Toulouse</span>]</pre>"
      ],
      "text/plain": [
       "<IPython.core.display.HTML object>"
      ]
     },
     "metadata": {},
     "output_type": "display_data"
    },
    {
     "name": "stdout",
     "output_type": "stream",
     "text": [
      "  j=0\n"
     ]
    },
    {
     "data": {
      "text/html": [
       "<pre>    lst = [<span style=\"font-weight: bold; font-size: 110%\">Bordeaux</span>,Lille,<span style=\"color:Gainsboro \">Lyon</span><span style=\"color:Gainsboro \">,</span><span style=\"color:Gainsboro \">Marseille</span><span style=\"color:Gainsboro \">,</span><span style=\"color:Gainsboro \">Nice</span><span style=\"color:Gainsboro \">,</span><span style=\"color:Gainsboro \">Paris</span><span style=\"color:Gainsboro \">,</span><span style=\"color:Gainsboro \">Toulouse</span>]</pre>"
      ],
      "text/plain": [
       "<IPython.core.display.HTML object>"
      ]
     },
     "metadata": {},
     "output_type": "display_data"
    },
    {
     "data": {
      "text/html": [
       "<pre>    lst = [<span style=\"background-color: green\"><span style=\"font-weight: bold; font-size: 110%\">Bordeaux</span></span><span style=\"background-color: green\">,</span><span style=\"background-color: green\">Lille</span>,<span style=\"color:Gainsboro \">Lyon</span><span style=\"color:Gainsboro \">,</span><span style=\"color:Gainsboro \">Marseille</span><span style=\"color:Gainsboro \">,</span><span style=\"color:Gainsboro \">Nice</span><span style=\"color:Gainsboro \">,</span><span style=\"color:Gainsboro \">Paris</span><span style=\"color:Gainsboro \">,</span><span style=\"color:Gainsboro \">Toulouse</span>]</pre>"
      ],
      "text/plain": [
       "<IPython.core.display.HTML object>"
      ]
     },
     "metadata": {},
     "output_type": "display_data"
    },
    {
     "data": {
      "text/plain": [
       "['Bordeaux', 'Lille', 'Lyon', 'Marseille', 'Nice', 'Paris', 'Toulouse']"
      ]
     },
     "execution_count": 20,
     "metadata": {},
     "output_type": "execute_result"
    }
   ],
   "source": [
    "#l=[7,4,5,12,6,3]\n",
    "l=['Paris', 'Lyon', 'Marseille', 'Toulouse', 'Bordeaux', 'Lille', 'Nice']\n",
    "triABullesP(l)\n",
    "l"
   ]
  },
  {
   "cell_type": "markdown",
   "metadata": {},
   "source": [
    "### Tri par insertion ([Wikipédia](https://fr.wikipedia.org/wiki/Tri_par_insertion))"
   ]
  },
  {
   "cell_type": "code",
   "execution_count": 57,
   "metadata": {},
   "outputs": [],
   "source": [
    "def triParInsertion(lst):\n",
    "    for i in range(1,len(lst)):\n",
    "        for j in range(i,0,-1):\n",
    "            if lst[j]<lst[j-1]:\n",
    "                echangeElements(lst, j, j-1)\n",
    "            else:\n",
    "                break\n",
    "            "
   ]
  },
  {
   "cell_type": "code",
   "execution_count": 55,
   "metadata": {},
   "outputs": [],
   "source": [
    "def triParInsertionP(lst):\n",
    "    display(HTML('Les éléments déjà triés sont <span style=\"color:Gainsboro\"> grisés </span>'))\n",
    "    display(HTML('''L'élément courant, d'indice j, est en <span style=\"font-weight: bold; font-size: 110%\"> gras </span>'''))\n",
    "    display(HTML('''Lorsque les éléments j et j-1 sont correctement ordonnés, ils sont surlignés en <span style=\"background-color:green\"> vert </span>'''))\n",
    "    display(HTML('''Lorsque les éléments j et j-1 sont correctement ordonnés, ils sont surlignés en <span style=\"background-color:red\"> rouge </span>'''))\n",
    "\n",
    "    for i in range(1,len(lst)):\n",
    "        print('i={}'.format(i))\n",
    "        printColoredList(lst,prefix='    lst = ', styles=[{'start':0,'end':i-1, 'style':\"color:Gainsboro\"},{'start':i,'end':i, 'style':\"font-weight: bold; font-size: 110%\"}])            \n",
    "        for j in range(i,0,-1):\n",
    "            print('  j={}'.format(j))            \n",
    "            if lst[j]<lst[j-1]:\n",
    "                printColoredList(lst,prefix='    lst = ', styles=[{'start':j-1,'end':j-1, 'style':\"background-color: red\"},{'start':j,'end':j, 'style':\"background-color: red; font-weight: bold; font-size: 110%\"}])   \n",
    "                echangeElements(lst, j, j-1)\n",
    "                printColoredList(lst,prefix='    lst = ', styles=[{'start':j,'end':j, 'style':\"background-color: green\"},{'start':j-1,'end':j-1, 'style':\"background-color: green; font-weight: bold; font-size: 110%\"}])   \n",
    "            else:\n",
    "                printColoredList(lst,prefix='    lst = ', styles=[{'start':j-1,'end':j-1, 'style':\"background-color: green\"},{'start':j,'end':j, 'style':\"background-color: green; font-weight: bold; font-size: 110%\"}])   \n",
    "                break"
   ]
  },
  {
   "cell_type": "code",
   "execution_count": 56,
   "metadata": {
    "ExecuteTime": {
     "end_time": "2017-12-05T14:55:47.856426Z",
     "start_time": "2017-12-05T14:55:47.850089Z"
    }
   },
   "outputs": [
    {
     "data": {
      "text/html": [
       "Les éléments déjà triés sont <span style=\"color:Gainsboro\"> grisés </span>"
      ],
      "text/plain": [
       "<IPython.core.display.HTML object>"
      ]
     },
     "metadata": {},
     "output_type": "display_data"
    },
    {
     "data": {
      "text/html": [
       "L'élément courant, d'indice j, est en <span style=\"font-weight: bold; font-size: 110%\"> gras </span>"
      ],
      "text/plain": [
       "<IPython.core.display.HTML object>"
      ]
     },
     "metadata": {},
     "output_type": "display_data"
    },
    {
     "data": {
      "text/html": [
       "Lorsque les éléments j et j-1 sont correctement ordonnés, ils sont surlignés en <span style=\"background-color:green\"> vert </span>"
      ],
      "text/plain": [
       "<IPython.core.display.HTML object>"
      ]
     },
     "metadata": {},
     "output_type": "display_data"
    },
    {
     "data": {
      "text/html": [
       "Lorsque les éléments j et j-1 sont correctement ordonnés, ils sont surlignés en <span style=\"background-color:red\"> rouge </span>"
      ],
      "text/plain": [
       "<IPython.core.display.HTML object>"
      ]
     },
     "metadata": {},
     "output_type": "display_data"
    },
    {
     "name": "stdout",
     "output_type": "stream",
     "text": [
      "i=1\n"
     ]
    },
    {
     "data": {
      "text/html": [
       "<pre>    lst = [<span style=\"color:Gainsboro\">Paris</span>,<span style=\"font-weight: bold; font-size: 110%\">Lyon</span>,Marseille,Toulouse,Bordeaux,Lille,Nice]</pre>"
      ],
      "text/plain": [
       "<IPython.core.display.HTML object>"
      ]
     },
     "metadata": {},
     "output_type": "display_data"
    },
    {
     "name": "stdout",
     "output_type": "stream",
     "text": [
      "  j=1\n"
     ]
    },
    {
     "data": {
      "text/html": [
       "<pre>    lst = [<span style=\"background-color: red\">Paris</span>,<span style=\"background-color: red; font-weight: bold; font-size: 110%\">Lyon</span>,Marseille,Toulouse,Bordeaux,Lille,Nice]</pre>"
      ],
      "text/plain": [
       "<IPython.core.display.HTML object>"
      ]
     },
     "metadata": {},
     "output_type": "display_data"
    },
    {
     "data": {
      "text/html": [
       "<pre>    lst = [<span style=\"background-color: green; font-weight: bold; font-size: 110%\">Lyon</span>,<span style=\"background-color: green\">Paris</span>,Marseille,Toulouse,Bordeaux,Lille,Nice]</pre>"
      ],
      "text/plain": [
       "<IPython.core.display.HTML object>"
      ]
     },
     "metadata": {},
     "output_type": "display_data"
    },
    {
     "name": "stdout",
     "output_type": "stream",
     "text": [
      "i=2\n"
     ]
    },
    {
     "data": {
      "text/html": [
       "<pre>    lst = [<span style=\"color:Gainsboro\">Lyon</span><span style=\"color:Gainsboro\">,</span><span style=\"color:Gainsboro\">Paris</span>,<span style=\"font-weight: bold; font-size: 110%\">Marseille</span>,Toulouse,Bordeaux,Lille,Nice]</pre>"
      ],
      "text/plain": [
       "<IPython.core.display.HTML object>"
      ]
     },
     "metadata": {},
     "output_type": "display_data"
    },
    {
     "name": "stdout",
     "output_type": "stream",
     "text": [
      "  j=2\n"
     ]
    },
    {
     "data": {
      "text/html": [
       "<pre>    lst = [Lyon,<span style=\"background-color: red\">Paris</span>,<span style=\"background-color: red; font-weight: bold; font-size: 110%\">Marseille</span>,Toulouse,Bordeaux,Lille,Nice]</pre>"
      ],
      "text/plain": [
       "<IPython.core.display.HTML object>"
      ]
     },
     "metadata": {},
     "output_type": "display_data"
    },
    {
     "data": {
      "text/html": [
       "<pre>    lst = [Lyon,<span style=\"background-color: green; font-weight: bold; font-size: 110%\">Marseille</span>,<span style=\"background-color: green\">Paris</span>,Toulouse,Bordeaux,Lille,Nice]</pre>"
      ],
      "text/plain": [
       "<IPython.core.display.HTML object>"
      ]
     },
     "metadata": {},
     "output_type": "display_data"
    },
    {
     "name": "stdout",
     "output_type": "stream",
     "text": [
      "  j=1\n"
     ]
    },
    {
     "data": {
      "text/html": [
       "<pre>    lst = [<span style=\"background-color: green\">Lyon</span>,<span style=\"background-color: green; font-weight: bold; font-size: 110%\">Marseille</span>,Paris,Toulouse,Bordeaux,Lille,Nice]</pre>"
      ],
      "text/plain": [
       "<IPython.core.display.HTML object>"
      ]
     },
     "metadata": {},
     "output_type": "display_data"
    },
    {
     "name": "stdout",
     "output_type": "stream",
     "text": [
      "i=3\n"
     ]
    },
    {
     "data": {
      "text/html": [
       "<pre>    lst = [<span style=\"color:Gainsboro\">Lyon</span><span style=\"color:Gainsboro\">,</span><span style=\"color:Gainsboro\">Marseille</span><span style=\"color:Gainsboro\">,</span><span style=\"color:Gainsboro\">Paris</span>,<span style=\"font-weight: bold; font-size: 110%\">Toulouse</span>,Bordeaux,Lille,Nice]</pre>"
      ],
      "text/plain": [
       "<IPython.core.display.HTML object>"
      ]
     },
     "metadata": {},
     "output_type": "display_data"
    },
    {
     "name": "stdout",
     "output_type": "stream",
     "text": [
      "  j=3\n"
     ]
    },
    {
     "data": {
      "text/html": [
       "<pre>    lst = [Lyon,Marseille,<span style=\"background-color: green\">Paris</span>,<span style=\"background-color: green; font-weight: bold; font-size: 110%\">Toulouse</span>,Bordeaux,Lille,Nice]</pre>"
      ],
      "text/plain": [
       "<IPython.core.display.HTML object>"
      ]
     },
     "metadata": {},
     "output_type": "display_data"
    },
    {
     "name": "stdout",
     "output_type": "stream",
     "text": [
      "i=4\n"
     ]
    },
    {
     "data": {
      "text/html": [
       "<pre>    lst = [<span style=\"color:Gainsboro\">Lyon</span><span style=\"color:Gainsboro\">,</span><span style=\"color:Gainsboro\">Marseille</span><span style=\"color:Gainsboro\">,</span><span style=\"color:Gainsboro\">Paris</span><span style=\"color:Gainsboro\">,</span><span style=\"color:Gainsboro\">Toulouse</span>,<span style=\"font-weight: bold; font-size: 110%\">Bordeaux</span>,Lille,Nice]</pre>"
      ],
      "text/plain": [
       "<IPython.core.display.HTML object>"
      ]
     },
     "metadata": {},
     "output_type": "display_data"
    },
    {
     "name": "stdout",
     "output_type": "stream",
     "text": [
      "  j=4\n"
     ]
    },
    {
     "data": {
      "text/html": [
       "<pre>    lst = [Lyon,Marseille,Paris,<span style=\"background-color: red\">Toulouse</span>,<span style=\"background-color: red; font-weight: bold; font-size: 110%\">Bordeaux</span>,Lille,Nice]</pre>"
      ],
      "text/plain": [
       "<IPython.core.display.HTML object>"
      ]
     },
     "metadata": {},
     "output_type": "display_data"
    },
    {
     "data": {
      "text/html": [
       "<pre>    lst = [Lyon,Marseille,Paris,<span style=\"background-color: green; font-weight: bold; font-size: 110%\">Bordeaux</span>,<span style=\"background-color: green\">Toulouse</span>,Lille,Nice]</pre>"
      ],
      "text/plain": [
       "<IPython.core.display.HTML object>"
      ]
     },
     "metadata": {},
     "output_type": "display_data"
    },
    {
     "name": "stdout",
     "output_type": "stream",
     "text": [
      "  j=3\n"
     ]
    },
    {
     "data": {
      "text/html": [
       "<pre>    lst = [Lyon,Marseille,<span style=\"background-color: red\">Paris</span>,<span style=\"background-color: red; font-weight: bold; font-size: 110%\">Bordeaux</span>,Toulouse,Lille,Nice]</pre>"
      ],
      "text/plain": [
       "<IPython.core.display.HTML object>"
      ]
     },
     "metadata": {},
     "output_type": "display_data"
    },
    {
     "data": {
      "text/html": [
       "<pre>    lst = [Lyon,Marseille,<span style=\"background-color: green; font-weight: bold; font-size: 110%\">Bordeaux</span>,<span style=\"background-color: green\">Paris</span>,Toulouse,Lille,Nice]</pre>"
      ],
      "text/plain": [
       "<IPython.core.display.HTML object>"
      ]
     },
     "metadata": {},
     "output_type": "display_data"
    },
    {
     "name": "stdout",
     "output_type": "stream",
     "text": [
      "  j=2\n"
     ]
    },
    {
     "data": {
      "text/html": [
       "<pre>    lst = [Lyon,<span style=\"background-color: red\">Marseille</span>,<span style=\"background-color: red; font-weight: bold; font-size: 110%\">Bordeaux</span>,Paris,Toulouse,Lille,Nice]</pre>"
      ],
      "text/plain": [
       "<IPython.core.display.HTML object>"
      ]
     },
     "metadata": {},
     "output_type": "display_data"
    },
    {
     "data": {
      "text/html": [
       "<pre>    lst = [Lyon,<span style=\"background-color: green; font-weight: bold; font-size: 110%\">Bordeaux</span>,<span style=\"background-color: green\">Marseille</span>,Paris,Toulouse,Lille,Nice]</pre>"
      ],
      "text/plain": [
       "<IPython.core.display.HTML object>"
      ]
     },
     "metadata": {},
     "output_type": "display_data"
    },
    {
     "name": "stdout",
     "output_type": "stream",
     "text": [
      "  j=1\n"
     ]
    },
    {
     "data": {
      "text/html": [
       "<pre>    lst = [<span style=\"background-color: red\">Lyon</span>,<span style=\"background-color: red; font-weight: bold; font-size: 110%\">Bordeaux</span>,Marseille,Paris,Toulouse,Lille,Nice]</pre>"
      ],
      "text/plain": [
       "<IPython.core.display.HTML object>"
      ]
     },
     "metadata": {},
     "output_type": "display_data"
    },
    {
     "data": {
      "text/html": [
       "<pre>    lst = [<span style=\"background-color: green; font-weight: bold; font-size: 110%\">Bordeaux</span>,<span style=\"background-color: green\">Lyon</span>,Marseille,Paris,Toulouse,Lille,Nice]</pre>"
      ],
      "text/plain": [
       "<IPython.core.display.HTML object>"
      ]
     },
     "metadata": {},
     "output_type": "display_data"
    },
    {
     "name": "stdout",
     "output_type": "stream",
     "text": [
      "i=5\n"
     ]
    },
    {
     "data": {
      "text/html": [
       "<pre>    lst = [<span style=\"color:Gainsboro\">Bordeaux</span><span style=\"color:Gainsboro\">,</span><span style=\"color:Gainsboro\">Lyon</span><span style=\"color:Gainsboro\">,</span><span style=\"color:Gainsboro\">Marseille</span><span style=\"color:Gainsboro\">,</span><span style=\"color:Gainsboro\">Paris</span><span style=\"color:Gainsboro\">,</span><span style=\"color:Gainsboro\">Toulouse</span>,<span style=\"font-weight: bold; font-size: 110%\">Lille</span>,Nice]</pre>"
      ],
      "text/plain": [
       "<IPython.core.display.HTML object>"
      ]
     },
     "metadata": {},
     "output_type": "display_data"
    },
    {
     "name": "stdout",
     "output_type": "stream",
     "text": [
      "  j=5\n"
     ]
    },
    {
     "data": {
      "text/html": [
       "<pre>    lst = [Bordeaux,Lyon,Marseille,Paris,<span style=\"background-color: red\">Toulouse</span>,<span style=\"background-color: red; font-weight: bold; font-size: 110%\">Lille</span>,Nice]</pre>"
      ],
      "text/plain": [
       "<IPython.core.display.HTML object>"
      ]
     },
     "metadata": {},
     "output_type": "display_data"
    },
    {
     "data": {
      "text/html": [
       "<pre>    lst = [Bordeaux,Lyon,Marseille,Paris,<span style=\"background-color: green; font-weight: bold; font-size: 110%\">Lille</span>,<span style=\"background-color: green\">Toulouse</span>,Nice]</pre>"
      ],
      "text/plain": [
       "<IPython.core.display.HTML object>"
      ]
     },
     "metadata": {},
     "output_type": "display_data"
    },
    {
     "name": "stdout",
     "output_type": "stream",
     "text": [
      "  j=4\n"
     ]
    },
    {
     "data": {
      "text/html": [
       "<pre>    lst = [Bordeaux,Lyon,Marseille,<span style=\"background-color: red\">Paris</span>,<span style=\"background-color: red; font-weight: bold; font-size: 110%\">Lille</span>,Toulouse,Nice]</pre>"
      ],
      "text/plain": [
       "<IPython.core.display.HTML object>"
      ]
     },
     "metadata": {},
     "output_type": "display_data"
    },
    {
     "data": {
      "text/html": [
       "<pre>    lst = [Bordeaux,Lyon,Marseille,<span style=\"background-color: green; font-weight: bold; font-size: 110%\">Lille</span>,<span style=\"background-color: green\">Paris</span>,Toulouse,Nice]</pre>"
      ],
      "text/plain": [
       "<IPython.core.display.HTML object>"
      ]
     },
     "metadata": {},
     "output_type": "display_data"
    },
    {
     "name": "stdout",
     "output_type": "stream",
     "text": [
      "  j=3\n"
     ]
    },
    {
     "data": {
      "text/html": [
       "<pre>    lst = [Bordeaux,Lyon,<span style=\"background-color: red\">Marseille</span>,<span style=\"background-color: red; font-weight: bold; font-size: 110%\">Lille</span>,Paris,Toulouse,Nice]</pre>"
      ],
      "text/plain": [
       "<IPython.core.display.HTML object>"
      ]
     },
     "metadata": {},
     "output_type": "display_data"
    },
    {
     "data": {
      "text/html": [
       "<pre>    lst = [Bordeaux,Lyon,<span style=\"background-color: green; font-weight: bold; font-size: 110%\">Lille</span>,<span style=\"background-color: green\">Marseille</span>,Paris,Toulouse,Nice]</pre>"
      ],
      "text/plain": [
       "<IPython.core.display.HTML object>"
      ]
     },
     "metadata": {},
     "output_type": "display_data"
    },
    {
     "name": "stdout",
     "output_type": "stream",
     "text": [
      "  j=2\n"
     ]
    },
    {
     "data": {
      "text/html": [
       "<pre>    lst = [Bordeaux,<span style=\"background-color: red\">Lyon</span>,<span style=\"background-color: red; font-weight: bold; font-size: 110%\">Lille</span>,Marseille,Paris,Toulouse,Nice]</pre>"
      ],
      "text/plain": [
       "<IPython.core.display.HTML object>"
      ]
     },
     "metadata": {},
     "output_type": "display_data"
    },
    {
     "data": {
      "text/html": [
       "<pre>    lst = [Bordeaux,<span style=\"background-color: green; font-weight: bold; font-size: 110%\">Lille</span>,<span style=\"background-color: green\">Lyon</span>,Marseille,Paris,Toulouse,Nice]</pre>"
      ],
      "text/plain": [
       "<IPython.core.display.HTML object>"
      ]
     },
     "metadata": {},
     "output_type": "display_data"
    },
    {
     "name": "stdout",
     "output_type": "stream",
     "text": [
      "  j=1\n"
     ]
    },
    {
     "data": {
      "text/html": [
       "<pre>    lst = [<span style=\"background-color: green\">Bordeaux</span>,<span style=\"background-color: green; font-weight: bold; font-size: 110%\">Lille</span>,Lyon,Marseille,Paris,Toulouse,Nice]</pre>"
      ],
      "text/plain": [
       "<IPython.core.display.HTML object>"
      ]
     },
     "metadata": {},
     "output_type": "display_data"
    },
    {
     "name": "stdout",
     "output_type": "stream",
     "text": [
      "i=6\n"
     ]
    },
    {
     "data": {
      "text/html": [
       "<pre>    lst = [<span style=\"color:Gainsboro\">Bordeaux</span><span style=\"color:Gainsboro\">,</span><span style=\"color:Gainsboro\">Lille</span><span style=\"color:Gainsboro\">,</span><span style=\"color:Gainsboro\">Lyon</span><span style=\"color:Gainsboro\">,</span><span style=\"color:Gainsboro\">Marseille</span><span style=\"color:Gainsboro\">,</span><span style=\"color:Gainsboro\">Paris</span><span style=\"color:Gainsboro\">,</span><span style=\"color:Gainsboro\">Toulouse</span>,<span style=\"font-weight: bold; font-size: 110%\">Nice</span>]</pre>"
      ],
      "text/plain": [
       "<IPython.core.display.HTML object>"
      ]
     },
     "metadata": {},
     "output_type": "display_data"
    },
    {
     "name": "stdout",
     "output_type": "stream",
     "text": [
      "  j=6\n"
     ]
    },
    {
     "data": {
      "text/html": [
       "<pre>    lst = [Bordeaux,Lille,Lyon,Marseille,Paris,<span style=\"background-color: red\">Toulouse</span>,<span style=\"background-color: red; font-weight: bold; font-size: 110%\">Nice</span>]</pre>"
      ],
      "text/plain": [
       "<IPython.core.display.HTML object>"
      ]
     },
     "metadata": {},
     "output_type": "display_data"
    },
    {
     "data": {
      "text/html": [
       "<pre>    lst = [Bordeaux,Lille,Lyon,Marseille,Paris,<span style=\"background-color: green; font-weight: bold; font-size: 110%\">Nice</span>,<span style=\"background-color: green\">Toulouse</span>]</pre>"
      ],
      "text/plain": [
       "<IPython.core.display.HTML object>"
      ]
     },
     "metadata": {},
     "output_type": "display_data"
    },
    {
     "name": "stdout",
     "output_type": "stream",
     "text": [
      "  j=5\n"
     ]
    },
    {
     "data": {
      "text/html": [
       "<pre>    lst = [Bordeaux,Lille,Lyon,Marseille,<span style=\"background-color: red\">Paris</span>,<span style=\"background-color: red; font-weight: bold; font-size: 110%\">Nice</span>,Toulouse]</pre>"
      ],
      "text/plain": [
       "<IPython.core.display.HTML object>"
      ]
     },
     "metadata": {},
     "output_type": "display_data"
    },
    {
     "data": {
      "text/html": [
       "<pre>    lst = [Bordeaux,Lille,Lyon,Marseille,<span style=\"background-color: green; font-weight: bold; font-size: 110%\">Nice</span>,<span style=\"background-color: green\">Paris</span>,Toulouse]</pre>"
      ],
      "text/plain": [
       "<IPython.core.display.HTML object>"
      ]
     },
     "metadata": {},
     "output_type": "display_data"
    },
    {
     "name": "stdout",
     "output_type": "stream",
     "text": [
      "  j=4\n"
     ]
    },
    {
     "data": {
      "text/html": [
       "<pre>    lst = [Bordeaux,Lille,Lyon,<span style=\"background-color: green\">Marseille</span>,<span style=\"background-color: green; font-weight: bold; font-size: 110%\">Nice</span>,Paris,Toulouse]</pre>"
      ],
      "text/plain": [
       "<IPython.core.display.HTML object>"
      ]
     },
     "metadata": {},
     "output_type": "display_data"
    },
    {
     "data": {
      "text/plain": [
       "['Bordeaux', 'Lille', 'Lyon', 'Marseille', 'Nice', 'Paris', 'Toulouse']"
      ]
     },
     "execution_count": 56,
     "metadata": {},
     "output_type": "execute_result"
    }
   ],
   "source": [
    "#l=[7,4,5,12,6,3]\n",
    "l=['Paris', 'Lyon', 'Marseille', 'Toulouse', 'Bordeaux', 'Lille', 'Nice']\n",
    "triParInsertionP(l)\n",
    "l"
   ]
  },
  {
   "cell_type": "code",
   "execution_count": 33,
   "metadata": {},
   "outputs": [
    {
     "data": {
      "text/plain": [
       "['Bordeaux', 'Lille', 'Lyon', 'Marseille', 'Nice', 'Paris', 'Toulouse']"
      ]
     },
     "execution_count": 33,
     "metadata": {},
     "output_type": "execute_result"
    }
   ],
   "source": [
    "l=['Paris', 'Lyon', 'Marseille', 'Toulouse', 'Bordeaux', 'Lille', 'Nice']\n",
    "triParInsertion(l)\n",
    "l"
   ]
  },
  {
   "cell_type": "code",
   "execution_count": null,
   "metadata": {},
   "outputs": [],
   "source": []
  }
 ],
 "metadata": {
  "kernelspec": {
   "display_name": "Python 3",
   "language": "python",
   "name": "python3"
  },
  "language_info": {
   "codemirror_mode": {
    "name": "ipython",
    "version": 3
   },
   "file_extension": ".py",
   "mimetype": "text/x-python",
   "name": "python",
   "nbconvert_exporter": "python",
   "pygments_lexer": "ipython3",
   "version": "3.8.3"
  },
  "varInspector": {
   "cols": {
    "lenName": 16,
    "lenType": 16,
    "lenVar": 40
   },
   "kernels_config": {
    "python": {
     "delete_cmd_postfix": "",
     "delete_cmd_prefix": "del ",
     "library": "var_list.py",
     "varRefreshCmd": "print(var_dic_list())"
    },
    "r": {
     "delete_cmd_postfix": ") ",
     "delete_cmd_prefix": "rm(",
     "library": "var_list.r",
     "varRefreshCmd": "cat(var_dic_list()) "
    }
   },
   "types_to_exclude": [
    "module",
    "function",
    "builtin_function_or_method",
    "instance",
    "_Feature"
   ],
   "window_display": false
  }
 },
 "nbformat": 4,
 "nbformat_minor": 4
}
