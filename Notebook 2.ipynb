{
 "cells": [
  {
   "cell_type": "markdown",
   "metadata": {
    "slideshow": {
     "slide_type": "slide"
    }
   },
   "source": [
    "# <center>Initiation à la programmation (Python)</center>"
   ]
  },
  {
   "cell_type": "markdown",
   "metadata": {},
   "source": [
    "# Les listes"
   ]
  },
  {
   "cell_type": "markdown",
   "metadata": {},
   "source": [
    "## Préambule"
   ]
  },
  {
   "cell_type": "markdown",
   "metadata": {},
   "source": [
    "Imaginez que vous tenez l'accueil d'une bibliothèque. Cette bibliothèque a deux étages en plus du rez-de-chaussée, et chacun de ces trois niveaux a un espace travail pouvant accueillir des étudiants. En tant que responsable de l'accueil, vous devez tenir le compte du nombre d'étudiants travaillant à chaque étage (ils vous annoncent en entrant l'étage où ils vont et en sortant l'étage d'où ils viennent).\n",
    "\n",
    "Voici comment vous pourriez vous y prendre si vous teniez ces comptes à jours en Python avec ce que nous avons vu. Vous auriez trois variables, `étage0`, `étage1` et `étage2` qui garderaient en mémoire le nombre d'étudiants à chaque étage. \n",
    "Le matin, vous initialiseriez trois variables à 0:"
   ]
  },
  {
   "cell_type": "code",
   "execution_count": 127,
   "metadata": {},
   "outputs": [],
   "source": [
    "étage0=0\n",
    "étage1=0\n",
    "étage2=0"
   ]
  },
  {
   "cell_type": "markdown",
   "metadata": {},
   "source": [
    "Au fur et à mesure que les étudiants viendraient s'installer, vous incrémenteriez l'une ou l'autre de ces variables :"
   ]
  },
  {
   "cell_type": "code",
   "execution_count": 128,
   "metadata": {},
   "outputs": [],
   "source": [
    "étage0=étage0+1 #Un étudiant vient s'installer au rez-de-chaussée\n",
    "étage2=étage2+3 #Un groupe de 3 va au deuxième étage\n",
    "étage1+=1 #C'est une manière plus synthétique d'écrire étage1=étage1+1"
   ]
  },
  {
   "cell_type": "markdown",
   "metadata": {},
   "source": [
    "Lorsqu'un étudiant quitte la bibliothèque, vous décrémenteriez la variable correspondante :"
   ]
  },
  {
   "cell_type": "code",
   "execution_count": 129,
   "metadata": {},
   "outputs": [],
   "source": [
    "étage2-=1 # un étudiant quitte le deuxième étage. On aurait pu écrire étage2=étage2-1"
   ]
  },
  {
   "cell_type": "markdown",
   "metadata": {},
   "source": [
    "Que se passe-y-il si la bibliothèque a 10 étages ? 100 ? 1 million d'étages ? Ou si, tout simplement, vous ne connaissez pas à l'avance le nombre d'étages ?"
   ]
  },
  {
   "cell_type": "markdown",
   "metadata": {},
   "source": [
    "## Définitions\n",
    "Les **listes** permettent de prendre en charge ce genre de situations, et bien d'autres. Une liste est un conteneur permettant de garder ensemble une suite de valeurs."
   ]
  },
  {
   "cell_type": "code",
   "execution_count": 40,
   "metadata": {},
   "outputs": [
    {
     "data": {
      "text/plain": [
       "['bonjour', 4, 1.2]"
      ]
     },
     "execution_count": 40,
     "metadata": {},
     "output_type": "execute_result"
    }
   ],
   "source": [
    "['bonjour', 4, 1.2]"
   ]
  },
  {
   "cell_type": "code",
   "execution_count": 133,
   "metadata": {},
   "outputs": [
    {
     "data": {
      "text/plain": [
       "list"
      ]
     },
     "execution_count": 133,
     "metadata": {},
     "output_type": "execute_result"
    }
   ],
   "source": [
    "l=['bonjour', 4, 1.2]\n",
    "type(l)"
   ]
  },
  {
   "cell_type": "markdown",
   "metadata": {},
   "source": [
    "Quand on assigne une liste à une variable, on peut accéder à l'ensemble de la liste avec le nom de la variable, et à chacun de ses élements avec un **indice**:"
   ]
  },
  {
   "cell_type": "code",
   "execution_count": 134,
   "metadata": {},
   "outputs": [
    {
     "name": "stdout",
     "output_type": "stream",
     "text": [
      "['bonjour', 4, 1.2]\n",
      "bonjour\n"
     ]
    }
   ],
   "source": [
    "print(l)\n",
    "print(l[0])"
   ]
  },
  {
   "cell_type": "markdown",
   "metadata": {},
   "source": [
    "Si une liste a *n* éléments, ils sont numérotés de 0 à n-1 (de la même manière que les niveaux d'un immeuble sont numérotés à partir de 0 !)\n",
    "On peut modifier un élément d'une liste avec son indice:"
   ]
  },
  {
   "cell_type": "code",
   "execution_count": 135,
   "metadata": {},
   "outputs": [
    {
     "name": "stdout",
     "output_type": "stream",
     "text": [
      "['bonjour', 4, -3]\n"
     ]
    }
   ],
   "source": [
    "l[2]=-3\n",
    "print(l)"
   ]
  },
  {
   "cell_type": "markdown",
   "metadata": {},
   "source": [
    "On peut ajouter un élément à une liste:"
   ]
  },
  {
   "cell_type": "code",
   "execution_count": 136,
   "metadata": {},
   "outputs": [
    {
     "name": "stdout",
     "output_type": "stream",
     "text": [
      "['bonjour', 4, -3, 'au revoir !']\n"
     ]
    }
   ],
   "source": [
    "l.append('au revoir !')\n",
    "print(l)"
   ]
  },
  {
   "cell_type": "markdown",
   "metadata": {},
   "source": [
    "On peut concaténer des listes de la même manière que les chaînes de caractères:"
   ]
  },
  {
   "cell_type": "code",
   "execution_count": 137,
   "metadata": {},
   "outputs": [
    {
     "data": {
      "text/plain": [
       "[1, 2, 3, 4, 5, 6]"
      ]
     },
     "execution_count": 137,
     "metadata": {},
     "output_type": "execute_result"
    }
   ],
   "source": [
    "[1,2,3] + [4,5,6]"
   ]
  },
  {
   "cell_type": "markdown",
   "metadata": {},
   "source": [
    "La fonction *len* permet de connaitre le nombre d'éléments que compte une liste:"
   ]
  },
  {
   "cell_type": "code",
   "execution_count": 79,
   "metadata": {},
   "outputs": [
    {
     "data": {
      "text/plain": [
       "4"
      ]
     },
     "execution_count": 79,
     "metadata": {},
     "output_type": "execute_result"
    }
   ],
   "source": [
    "len(l)"
   ]
  },
  {
   "cell_type": "markdown",
   "metadata": {},
   "source": [
    "la fonction len fonctionne aussi avec les chaînes de caractères. Essayez de taper\n",
    "\n",
    "```python\n",
    "len('Bonjour')\n",
    "```"
   ]
  },
  {
   "cell_type": "markdown",
   "metadata": {},
   "source": [
    "## Exercices"
   ]
  },
  {
   "cell_type": "markdown",
   "metadata": {},
   "source": [
    "### Exercice 1\n",
    "Définir une variable `nbEtudiantsParEtage` qui représente une bibliothèque de 5 étages, sans étudiant à l'intérieur"
   ]
  },
  {
   "cell_type": "code",
   "execution_count": null,
   "metadata": {},
   "outputs": [],
   "source": []
  },
  {
   "cell_type": "markdown",
   "metadata": {},
   "source": [
    "Ecrire la suite d'instructions qui correspond aux allées et venues suivantes:\n",
    "* 2 étudiants s'installent au rez-de-chaussée\n",
    "* 3 étudiants s'installent au 1<sup>er</sup> étage\n",
    "* 2 étudiants s'installent au 2<sup>ème</sup> étage\n",
    "* 1 étudiant quitte le 1<sup>er</sup> étage\n",
    "* 3 étudiants s'installent au 2<sup>ème</sup> étage"
   ]
  },
  {
   "cell_type": "code",
   "execution_count": null,
   "metadata": {},
   "outputs": [],
   "source": []
  },
  {
   "cell_type": "markdown",
   "metadata": {},
   "source": [
    "Comment peut-on connaitre le nombre d'étudiants au 1<sup>er</sup> étage ?"
   ]
  },
  {
   "cell_type": "code",
   "execution_count": null,
   "metadata": {},
   "outputs": [],
   "source": []
  },
  {
   "cell_type": "markdown",
   "metadata": {},
   "source": [
    "### Exercice 2\n",
    "Imaginons que la bibliothèque ait 1000 étages. Comment initialiser la variable `nbEtudiantsParEtage` ? Autrement dit, comment faire une liste avec 1000 zéros ?"
   ]
  },
  {
   "cell_type": "code",
   "execution_count": null,
   "metadata": {},
   "outputs": [],
   "source": []
  },
  {
   "cell_type": "markdown",
   "metadata": {},
   "source": [
    "# Les boucles\n",
    "Lorsque l'on travaille avec des listes, il arrive fréquement que l'on veuille en parcourir les éléments les uns après les autres. C'est un cas typique d'utilisation des boucles. \n",
    "En Python (comme dans la plupart des langages), il y a deux types de boucles : les boucles *pour* (for) et les boucles *tant que* (while). Nous ne regarderons que les boucles *for*"
   ]
  },
  {
   "cell_type": "code",
   "execution_count": 1,
   "metadata": {},
   "outputs": [
    {
     "name": "stdout",
     "output_type": "stream",
     "text": [
      "bonjour\n",
      "4\n",
      "-3\n",
      "au revoir !\n"
     ]
    }
   ],
   "source": [
    "l=['bonjour', 4, -3, 'au revoir !']\n",
    "for i in l:\n",
    "    print(i)"
   ]
  },
  {
   "cell_type": "markdown",
   "metadata": {},
   "source": [
    "La variable `i` est définie par la ligne `for i in l:`. Sa valeur change à chaque **itération** de la boucle, prenant tour à tour comme valeur chacun des éléments de la liste `l`. A chaque itération, les lignes identées d'un cran vers la droite par rapport à la ligne du `for` seront exécutées. \n",
    "\n",
    "\n",
    "## Exercice 1.1\n",
    "Ecrire un petit programme qui parcours une liste reprénsentant le nombre d'étudiants à chaque étage d'une bibliothèque et qui affiche successivement ces nombres:\n",
    "\n",
    "```python\n",
    "nbEtudiantsParEtage = [12,6,2]\n",
    "for ...\n",
    "...\n",
    "```\n",
    "```\n",
    "12 étudiants\n",
    "6 étudiants\n",
    "2 étudiants\n",
    "```\n",
    "\n",
    "Vous allez avoir besoin de convertir des entiers en chaînes de caractères :"
   ]
  },
  {
   "cell_type": "code",
   "execution_count": 20,
   "metadata": {},
   "outputs": [
    {
     "data": {
      "text/plain": [
       "'5'"
      ]
     },
     "execution_count": 20,
     "metadata": {},
     "output_type": "execute_result"
    }
   ],
   "source": [
    "str(5)"
   ]
  },
  {
   "cell_type": "code",
   "execution_count": 68,
   "metadata": {},
   "outputs": [],
   "source": []
  },
  {
   "cell_type": "markdown",
   "metadata": {},
   "source": [
    "## Objets itérables\n"
   ]
  },
  {
   "cell_type": "markdown",
   "metadata": {},
   "source": [
    "Les boucles *for* fonctionnent sur les listes mais aussi, plus généralement, sur les objets **itérables**, c'est-à-dire pour les objets on peut donner du sens à la succession de valeurs.\n",
    "\n",
    "* Les chaines de caractères sont itérables:"
   ]
  },
  {
   "cell_type": "code",
   "execution_count": 70,
   "metadata": {},
   "outputs": [
    {
     "name": "stdout",
     "output_type": "stream",
     "text": [
      "B\n",
      "o\n",
      "n\n",
      "j\n",
      "o\n",
      "u\n",
      "r\n",
      " \n",
      "!\n"
     ]
    }
   ],
   "source": [
    "for caractère in 'Bonjour !':\n",
    "    print(caractère)"
   ]
  },
  {
   "cell_type": "markdown",
   "metadata": {},
   "source": [
    "* Python propose un itérable bien pratique, le **range**. "
   ]
  },
  {
   "cell_type": "code",
   "execution_count": 75,
   "metadata": {},
   "outputs": [
    {
     "name": "stdout",
     "output_type": "stream",
     "text": [
      "0\n",
      "1\n",
      "2\n",
      "3\n",
      "4\n"
     ]
    }
   ],
   "source": [
    "for i in range(5):\n",
    "    print(i)"
   ]
  },
  {
   "cell_type": "markdown",
   "metadata": {},
   "source": [
    "## Exercice 2.2\n",
    "Nous allons réécrire le programme de l'exercice précédant de telle manière à ce qu'il affiche:\n",
    "```\n",
    "Il y a 12 étudiants à l'étage 0\n",
    "Il y a 6 étudiants à l'étage 1\n",
    "Il y a 2 étudiants à l'étage 2\n",
    "```\n",
    "Procédons en deux temps. Commencez par écrire un programme qui ne s'interesse pas au nombre d'étudiants par étage mais qui affiche simplement:\n",
    "```\n",
    "Il y a peut-être des étudiants à l'étage 0\n",
    "Il y a peut-être des étudiants à l'étage 1\n",
    "Il y a peut-être des étudiants à l'étage 2\n",
    "```"
   ]
  },
  {
   "cell_type": "code",
   "execution_count": 88,
   "metadata": {},
   "outputs": [],
   "source": [
    "nbEtudiantsParEtage = [12,6,2]\n",
    "for ..."
   ]
  },
  {
   "cell_type": "markdown",
   "metadata": {},
   "source": [
    "A présent, transformez ce programme pour qu'il affiche bien le nombre d'étudiants par étage. Indice : vous rappelez-vous comment on peut savoir combien d'étudiant il y a, par exemple, au 1<sup>er</sup> étage ?"
   ]
  },
  {
   "cell_type": "code",
   "execution_count": null,
   "metadata": {},
   "outputs": [],
   "source": [
    "nbEtudiantsParEtage = [12,6,2]\n",
    "for "
   ]
  },
  {
   "cell_type": "markdown",
   "metadata": {},
   "source": [
    "### Exercice 2.3\n",
    "Imaginons que chaque étage de la bibliothèque ne puisse accueillir au maximum que 10 étudiants et l'occupation actuelle de la bibliothèque soit, par exemple, `[7,6,7,1,8]`. Arrive un groupe de mettons 5 étudiants. Quel est le premier étage (le plus bas) auquel ils peuvent s'installer ? \n",
    "\n",
    "Ecrire un programme qui installe ces étudiants à cet étage."
   ]
  },
  {
   "cell_type": "code",
   "execution_count": 18,
   "metadata": {},
   "outputs": [],
   "source": [
    "nbEtudiantsParEtage = [7,6,7,1,8]\n",
    "nbEtudiantsEntrants=5\n",
    "pass # pass est une instruction qui ne fait rien ! \n",
    "pass\n",
    "pass\n",
    "#A la fin de l'exécution du programme, on veut que la variable nbEtudiantsParEtage ait pour valeur [7,6,7,6,8]"
   ]
  }
 ],
 "metadata": {
  "kernelspec": {
   "display_name": "Python 3",
   "language": "python",
   "name": "python3"
  },
  "language_info": {
   "codemirror_mode": {
    "name": "ipython",
    "version": 3
   },
   "file_extension": ".py",
   "mimetype": "text/x-python",
   "name": "python",
   "nbconvert_exporter": "python",
   "pygments_lexer": "ipython3",
   "version": "3.8.3"
  },
  "varInspector": {
   "cols": {
    "lenName": 16,
    "lenType": 16,
    "lenVar": 40
   },
   "kernels_config": {
    "python": {
     "delete_cmd_postfix": "",
     "delete_cmd_prefix": "del ",
     "library": "var_list.py",
     "varRefreshCmd": "print(var_dic_list())"
    },
    "r": {
     "delete_cmd_postfix": ") ",
     "delete_cmd_prefix": "rm(",
     "library": "var_list.r",
     "varRefreshCmd": "cat(var_dic_list()) "
    }
   },
   "types_to_exclude": [
    "module",
    "function",
    "builtin_function_or_method",
    "instance",
    "_Feature"
   ],
   "window_display": false
  }
 },
 "nbformat": 4,
 "nbformat_minor": 4
}
