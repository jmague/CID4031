{
 "cells": [
  {
   "cell_type": "markdown",
   "metadata": {},
   "source": [
    "# <center>Initiation à la programmation (Python)</center>"
   ]
  },
  {
   "cell_type": "markdown",
   "metadata": {},
   "source": [
    "# Préambule : téléchargement des données"
   ]
  },
  {
   "cell_type": "code",
   "execution_count": null,
   "metadata": {},
   "outputs": [],
   "source": [
    "!wget https://raw.githubusercontent.com/jmague/CID4031/master/DeLOrigine.txt"
   ]
  },
  {
   "cell_type": "markdown",
   "metadata": {},
   "source": [
    "# Compter les mots dans un texte"
   ]
  },
  {
   "cell_type": "markdown",
   "metadata": {},
   "source": [
    "##  0 Nombre de lignes\n",
    "### Exercice 1\n",
    "Compter le nombre de lignes dans la version obtenue sur [Gutenberg.org](http://www.gutenberg.org) de [*De l'Origine des Espèces*](http://www.gutenberg.org/ebooks/14158). Il s'agit du fichier DeLOrigine.txt\n"
   ]
  },
  {
   "cell_type": "code",
   "execution_count": 1,
   "metadata": {
    "ExecuteTime": {
     "end_time": "2017-12-12T09:33:00.437455Z",
     "start_time": "2017-12-12T09:33:00.410665Z"
    },
    "execution": {
     "iopub.execute_input": "2020-12-04T11:37:03.649699Z",
     "iopub.status.busy": "2020-12-04T11:37:03.649207Z",
     "iopub.status.idle": "2020-12-04T11:37:03.685869Z",
     "shell.execute_reply": "2020-12-04T11:37:03.684185Z",
     "shell.execute_reply.started": "2020-12-04T11:37:03.649611Z"
    }
   },
   "outputs": [
    {
     "name": "stdout",
     "output_type": "stream",
     "text": [
      "23644\n"
     ]
    }
   ],
   "source": [
    "nLignes=0\n",
    "texte = open('DeLOrigine.txt')\n",
    "for ligne in texte:\n",
    "    nLignes+=1\n",
    "print(nLignes)"
   ]
  },
  {
   "cell_type": "markdown",
   "metadata": {},
   "source": [
    "## 1 Première estimation du combre de mots\n",
    "La définition de ce qu'est un mot n'est pas triviale. Commençons avec une première définition : un mot est une chaîne de caractères délimitée par des espaces et/ou des retours à ligne.\n",
    "### Exercice 2\n",
    "Compter le nombre de mots dans *De l'Origine des Espèces* selon cette première définition.\n"
   ]
  },
  {
   "cell_type": "code",
   "execution_count": 2,
   "metadata": {
    "ExecuteTime": {
     "end_time": "2017-12-12T09:33:42.532902Z",
     "start_time": "2017-12-12T09:33:42.447855Z"
    },
    "execution": {
     "iopub.execute_input": "2020-12-04T11:37:08.560124Z",
     "iopub.status.busy": "2020-12-04T11:37:08.559531Z",
     "iopub.status.idle": "2020-12-04T11:37:08.660878Z",
     "shell.execute_reply": "2020-12-04T11:37:08.656388Z",
     "shell.execute_reply.started": "2020-12-04T11:37:08.560019Z"
    }
   },
   "outputs": [
    {
     "name": "stdout",
     "output_type": "stream",
     "text": [
      "215896\n"
     ]
    }
   ],
   "source": [
    "nMots=0\n",
    "texte = open('DeLOrigine.txt')\n",
    "for ligne in texte:\n",
    "    for mot in ligne.split(' '):\n",
    "        nMots+=1\n",
    "print(nMots)"
   ]
  },
  {
   "cell_type": "markdown",
   "metadata": {
    "ExecuteTime": {
     "end_time": "2017-12-11T16:19:28.681891Z",
     "start_time": "2017-12-11T16:19:28.677575Z"
    }
   },
   "source": [
    "Cette première définition du mot, un chaîne de caractères entre deux espaces blancs pose plusieurs problèmes. Lesquels ? \n",
    "\n",
    "### Exercice 3\n",
    "Afin de se faire une idée peut-être plus précise de ces problèmes, construire une liste contenant tous les mots, c'est-à-dire une liste de 220166 éléments. En afficher les élements entre les indices 6000 et 6050. On peut acceder aux éléments d'une liste `l` compris entre les indices `a` et `b` avec :\n",
    "```python\n",
    "l[a:b]\n",
    "```\n"
   ]
  },
  {
   "cell_type": "code",
   "execution_count": 3,
   "metadata": {
    "ExecuteTime": {
     "end_time": "2017-12-12T09:45:56.678332Z",
     "start_time": "2017-12-12T09:45:56.591555Z"
    },
    "execution": {
     "iopub.execute_input": "2020-12-04T11:37:10.515657Z",
     "iopub.status.busy": "2020-12-04T11:37:10.515246Z",
     "iopub.status.idle": "2020-12-04T11:37:10.623586Z",
     "shell.execute_reply": "2020-12-04T11:37:10.622465Z",
     "shell.execute_reply.started": "2020-12-04T11:37:10.515608Z"
    }
   },
   "outputs": [],
   "source": [
    "mots=[]\n",
    "texte=open('DeLOrigine.txt')\n",
    "for ligne in texte:\n",
    "    for mot in ligne.split(' '):\n",
    "        mots.append(mot)"
   ]
  },
  {
   "cell_type": "code",
   "execution_count": 4,
   "metadata": {
    "ExecuteTime": {
     "end_time": "2017-12-12T09:45:57.406752Z",
     "start_time": "2017-12-12T09:45:57.399770Z"
    },
    "execution": {
     "iopub.execute_input": "2020-12-04T11:37:11.251522Z",
     "iopub.status.busy": "2020-12-04T11:37:11.251143Z",
     "iopub.status.idle": "2020-12-04T11:37:11.281762Z",
     "shell.execute_reply": "2020-12-04T11:37:11.278820Z",
     "shell.execute_reply.started": "2020-12-04T11:37:11.251425Z"
    }
   },
   "outputs": [
    {
     "data": {
      "text/plain": [
       "['la',\n",
       " 'variabilité',\n",
       " 'peut',\n",
       " 'provenir',\n",
       " 'en\\n',\n",
       " 'partie',\n",
       " 'de',\n",
       " \"l'excès\",\n",
       " 'de',\n",
       " 'nourriture.',\n",
       " 'Il',\n",
       " 'semble',\n",
       " 'évident',\n",
       " 'que',\n",
       " 'les',\n",
       " 'êtres\\n',\n",
       " 'organisés',\n",
       " 'doivent',\n",
       " 'être',\n",
       " 'exposés,',\n",
       " 'pendant',\n",
       " 'plusieurs',\n",
       " 'générations,',\n",
       " 'à\\n',\n",
       " 'de',\n",
       " 'nouvelles',\n",
       " 'conditions',\n",
       " \"d'existence,\",\n",
       " 'pour',\n",
       " \"qu'il\",\n",
       " 'se',\n",
       " 'produise',\n",
       " 'chez\\n',\n",
       " 'eux',\n",
       " 'une',\n",
       " 'quantité',\n",
       " 'appréciable',\n",
       " 'de',\n",
       " 'variation;',\n",
       " 'mais',\n",
       " 'il',\n",
       " 'est',\n",
       " 'tout',\n",
       " 'aussi\\n',\n",
       " 'évident',\n",
       " 'que,',\n",
       " 'dès',\n",
       " \"qu'un\",\n",
       " 'organisme',\n",
       " 'a']"
      ]
     },
     "execution_count": 4,
     "metadata": {},
     "output_type": "execute_result"
    }
   ],
   "source": [
    "mots[6000:6050]"
   ]
  },
  {
   "cell_type": "markdown",
   "metadata": {
    "ExecuteTime": {
     "end_time": "2017-12-12T09:52:58.561747Z",
     "start_time": "2017-12-12T09:52:58.558691Z"
    }
   },
   "source": [
    "## 2 Tokeniser un texte\n",
    "En traitement automatique des langues, discipline à l'intersection d'informatique et de la linguistique, l'opération qui consiste à découper un texte en mots s'appelle l'a tokenisation. D'ailleurs, plutôt que de mots, on parle de **tokens**. Le terme **mot** désigne les entités abstraites qui se réalisent dans les tokens. \n",
    "\n",
    "Le texte *le chat dort sur le canapé* compte 6 tokens et 5 mots. Le mot *le* a deux occurrences, les autres une seule.\n",
    "\n",
    "Un algorithme de tokenisation est une opérationnalisation d'une définition d'un mot. On pourrait construire un tel algorithme, mais d'autres l'ont déjà fait pour nous !"
   ]
  },
  {
   "cell_type": "code",
   "execution_count": 5,
   "metadata": {
    "ExecuteTime": {
     "end_time": "2017-12-11T16:18:39.615455Z",
     "start_time": "2017-12-11T16:18:39.611818Z"
    },
    "execution": {
     "iopub.execute_input": "2020-12-04T11:37:15.985805Z",
     "iopub.status.busy": "2020-12-04T11:37:15.985425Z",
     "iopub.status.idle": "2020-12-04T11:37:17.938526Z",
     "shell.execute_reply": "2020-12-04T11:37:17.937710Z",
     "shell.execute_reply.started": "2020-12-04T11:37:15.985734Z"
    }
   },
   "outputs": [],
   "source": [
    "import nltk"
   ]
  },
  {
   "cell_type": "markdown",
   "metadata": {},
   "source": [
    "L'instruction ci-dessus importe la package (ou librairie ou bibliothèque) nommée [nltk](http://www.nltk.org).  Un package est une collection de 'fonctions' qui étendent les fonctionnalités de Python (le mécanisme existe dans la plupart des langages de programmation).  \n",
    "\n",
    "Python fournit un certain nombre de [packages par défaut](https://docs.python.org/3/library/index.html), et l'on peut par ailleurs en installer d'[autres](https://pypi.python.org/pypi). Anaconda, la distribution de Python que l'on utilise, installe en même temps que Python [plus 200 autres packages](https://docs.anaconda.com/anaconda/packages/py3.6_win-64), dont nltk. \n",
    "\n",
    "Nltk propose plusieurs tokenisers. Nous allons utiliser celui qui s'appelle WordPunctTokenizer, qui prend en compte la ponctuation pour délimiter les mots."
   ]
  },
  {
   "cell_type": "code",
   "execution_count": 6,
   "metadata": {
    "ExecuteTime": {
     "end_time": "2017-12-12T10:26:41.043035Z",
     "start_time": "2017-12-12T10:26:41.036650Z"
    },
    "execution": {
     "iopub.execute_input": "2020-12-04T11:37:18.339468Z",
     "iopub.status.busy": "2020-12-04T11:37:18.339249Z",
     "iopub.status.idle": "2020-12-04T11:37:18.353031Z",
     "shell.execute_reply": "2020-12-04T11:37:18.351274Z",
     "shell.execute_reply.started": "2020-12-04T11:37:18.339447Z"
    }
   },
   "outputs": [
    {
     "data": {
      "text/plain": [
       "['le', 'chat', 'dort', 'sur', 'le', 'canapé']"
      ]
     },
     "execution_count": 6,
     "metadata": {},
     "output_type": "execute_result"
    }
   ],
   "source": [
    "tokenizer = nltk.tokenize.WordPunctTokenizer()\n",
    "tokenizer.tokenize(\"le chat dort sur le canapé\")"
   ]
  },
  {
   "cell_type": "markdown",
   "metadata": {},
   "source": [
    "### Exercice 4\n",
    "Tokeniser le texte \"Parce qu'aujoud'hui on a cours de Python, c'est la fête !\""
   ]
  },
  {
   "cell_type": "code",
   "execution_count": 7,
   "metadata": {
    "ExecuteTime": {
     "end_time": "2017-12-12T10:28:15.083683Z",
     "start_time": "2017-12-12T10:28:15.078264Z"
    },
    "execution": {
     "iopub.execute_input": "2020-12-04T11:37:19.433048Z",
     "iopub.status.busy": "2020-12-04T11:37:19.432418Z",
     "iopub.status.idle": "2020-12-04T11:37:19.442532Z",
     "shell.execute_reply": "2020-12-04T11:37:19.440725Z",
     "shell.execute_reply.started": "2020-12-04T11:37:19.432994Z"
    }
   },
   "outputs": [
    {
     "data": {
      "text/plain": [
       "['Parce',\n",
       " 'qu',\n",
       " \"'\",\n",
       " 'aujoud',\n",
       " \"'\",\n",
       " 'hui',\n",
       " 'on',\n",
       " 'a',\n",
       " 'cours',\n",
       " 'de',\n",
       " 'Python',\n",
       " ',',\n",
       " 'c',\n",
       " \"'\",\n",
       " 'est',\n",
       " 'la',\n",
       " 'fête',\n",
       " '!']"
      ]
     },
     "execution_count": 7,
     "metadata": {},
     "output_type": "execute_result"
    }
   ],
   "source": [
    "tokenizer.tokenize( \"Parce qu'aujoud'hui on a cours de Python, c'est la fête !\")"
   ]
  },
  {
   "cell_type": "markdown",
   "metadata": {},
   "source": [
    "### Exercice 5\n",
    "Compter le nombre de tokens dans *De l'Origine des Espèces*. C'est possible en une seule ligne ! Indice, on peut lire un fichier dans une chaîne de caractères de la manière suivante :\n",
    "```pytohn\n",
    "open('nomDuFichier.txt').read()\n",
    "```\n"
   ]
  },
  {
   "cell_type": "code",
   "execution_count": 8,
   "metadata": {
    "ExecuteTime": {
     "end_time": "2017-12-12T10:34:50.401053Z",
     "start_time": "2017-12-12T10:34:50.215475Z"
    },
    "execution": {
     "iopub.execute_input": "2020-12-04T11:37:21.398301Z",
     "iopub.status.busy": "2020-12-04T11:37:21.397950Z",
     "iopub.status.idle": "2020-12-04T11:37:21.615976Z",
     "shell.execute_reply": "2020-12-04T11:37:21.614917Z",
     "shell.execute_reply.started": "2020-12-04T11:37:21.398263Z"
    }
   },
   "outputs": [
    {
     "name": "stdout",
     "output_type": "stream",
     "text": [
      "270025\n"
     ]
    }
   ],
   "source": [
    "nTokens=0\n",
    "texte = open('DeLOrigine.txt')\n",
    "for ligne in texte:\n",
    "    for token in tokenizer.tokenize(ligne):\n",
    "        nTokens+=1\n",
    "print(nTokens)"
   ]
  },
  {
   "cell_type": "code",
   "execution_count": 9,
   "metadata": {
    "ExecuteTime": {
     "end_time": "2017-12-12T10:35:23.290237Z",
     "start_time": "2017-12-12T10:35:23.154017Z"
    },
    "execution": {
     "iopub.execute_input": "2020-12-04T11:37:22.251199Z",
     "iopub.status.busy": "2020-12-04T11:37:22.250558Z",
     "iopub.status.idle": "2020-12-04T11:37:22.438693Z",
     "shell.execute_reply": "2020-12-04T11:37:22.436954Z",
     "shell.execute_reply.started": "2020-12-04T11:37:22.251161Z"
    }
   },
   "outputs": [
    {
     "data": {
      "text/plain": [
       "270025"
      ]
     },
     "execution_count": 9,
     "metadata": {},
     "output_type": "execute_result"
    }
   ],
   "source": [
    "len(tokenizer.tokenize(open('DeLOrigine.txt').read()))"
   ]
  },
  {
   "cell_type": "markdown",
   "metadata": {
    "ExecuteTime": {
     "end_time": "2017-12-12T10:36:49.328209Z",
     "start_time": "2017-12-12T10:36:49.323282Z"
    }
   },
   "source": [
    "## Comptage de la fréquence de mots dans un texte"
   ]
  },
  {
   "cell_type": "markdown",
   "metadata": {
    "ExecuteTime": {
     "end_time": "2017-12-12T10:37:23.935976Z",
     "start_time": "2017-12-12T10:37:23.932158Z"
    }
   },
   "source": [
    "### Exercice 6\n",
    "A votre avis, combien de fois apparait le mot *le* ? Le mot *livre* ? Combien y a-t-il de mots ?"
   ]
  },
  {
   "cell_type": "markdown",
   "metadata": {},
   "source": [
    "### Exercice 7\n",
    "Compter le nombre d'occurrences des mots *le* et *livre*"
   ]
  },
  {
   "cell_type": "code",
   "execution_count": 10,
   "metadata": {
    "execution": {
     "iopub.execute_input": "2020-12-04T11:37:25.988668Z",
     "iopub.status.busy": "2020-12-04T11:37:25.988319Z",
     "iopub.status.idle": "2020-12-04T11:37:26.232460Z",
     "shell.execute_reply": "2020-12-04T11:37:26.231673Z",
     "shell.execute_reply.started": "2020-12-04T11:37:25.988633Z"
    }
   },
   "outputs": [
    {
     "name": "stdout",
     "output_type": "stream",
     "text": [
      "Le token 'le' apparait 2686 fois\n",
      "Le token 'livre' apparait 3 fois\n"
     ]
    }
   ],
   "source": [
    "nOccurrences_le=0\n",
    "nOccurrences_livre=0\n",
    "texte = open('DeLOrigine.txt')\n",
    "for ligne in texte:\n",
    "    for token in tokenizer.tokenize(ligne):\n",
    "        if token=='le':\n",
    "            nOccurrences_le+=1\n",
    "        if token=='livre':\n",
    "            nOccurrences_livre+=1\n",
    "print(\"Le token 'le' apparait \" + str(nOccurrences_le) + \" fois\")\n",
    "print(\"Le token 'livre' apparait \" + str(nOccurrences_livre) + \" fois\")"
   ]
  },
  {
   "cell_type": "markdown",
   "metadata": {},
   "source": [
    "### Exercice 8\n",
    "Construire un dictionnaire qui donne le nombre d'occurrences de chaque mot du texte. \n",
    "```python\n",
    "print(nOccurrences['espèce'])\n",
    "594\n",
    "```\n",
    "Combien y a-t-il de mots dans le texte ?"
   ]
  },
  {
   "cell_type": "code",
   "execution_count": 11,
   "metadata": {
    "ExecuteTime": {
     "end_time": "2017-12-12T10:50:04.838682Z",
     "start_time": "2017-12-12T10:50:04.648211Z"
    },
    "execution": {
     "iopub.execute_input": "2020-12-04T11:37:28.039042Z",
     "iopub.status.busy": "2020-12-04T11:37:28.038019Z",
     "iopub.status.idle": "2020-12-04T11:37:28.222886Z",
     "shell.execute_reply": "2020-12-04T11:37:28.221934Z",
     "shell.execute_reply.started": "2020-12-04T11:37:28.038994Z"
    }
   },
   "outputs": [],
   "source": [
    "nOccurrences = {}\n",
    "texte=open('DeLOrigine.txt')\n",
    "for mot in tokenizer.tokenize(texte.read()):\n",
    "    if mot not in nOccurrences:\n",
    "        nOccurrences[mot]=0\n",
    "    nOccurrences[mot]+=1"
   ]
  },
  {
   "cell_type": "code",
   "execution_count": 12,
   "metadata": {
    "ExecuteTime": {
     "end_time": "2017-12-12T10:50:05.057925Z",
     "start_time": "2017-12-12T10:50:05.053831Z"
    },
    "execution": {
     "iopub.execute_input": "2020-12-04T11:37:29.573392Z",
     "iopub.status.busy": "2020-12-04T11:37:29.573108Z",
     "iopub.status.idle": "2020-12-04T11:37:29.590522Z",
     "shell.execute_reply": "2020-12-04T11:37:29.589338Z",
     "shell.execute_reply.started": "2020-12-04T11:37:29.573361Z"
    }
   },
   "outputs": [
    {
     "data": {
      "text/plain": [
       "12573"
      ]
     },
     "execution_count": 12,
     "metadata": {},
     "output_type": "execute_result"
    }
   ],
   "source": [
    "len(nOccurrences)"
   ]
  },
  {
   "cell_type": "markdown",
   "metadata": {},
   "source": [
    "### Exercice 9\n",
    "Que fait le programme suivant ?"
   ]
  },
  {
   "cell_type": "code",
   "execution_count": 13,
   "metadata": {
    "ExecuteTime": {
     "end_time": "2017-12-12T10:52:35.868955Z",
     "start_time": "2017-12-12T10:52:35.833321Z"
    },
    "execution": {
     "iopub.execute_input": "2020-12-04T11:37:30.456631Z",
     "iopub.status.busy": "2020-12-04T11:37:30.456347Z",
     "iopub.status.idle": "2020-12-04T11:37:30.492808Z",
     "shell.execute_reply": "2020-12-04T11:37:30.487337Z",
     "shell.execute_reply.started": "2020-12-04T11:37:30.456600Z"
    }
   },
   "outputs": [],
   "source": [
    "l=[]\n",
    "for mot in nOccurrences:\n",
    "    l.append([nOccurrences[mot],mot])\n",
    "l.sort()"
   ]
  },
  {
   "cell_type": "markdown",
   "metadata": {
    "ExecuteTime": {
     "end_time": "2017-12-12T10:48:18.815326Z",
     "start_time": "2017-12-12T10:48:18.812015Z"
    }
   },
   "source": [
    "### Exercice 10\n",
    "Combien de mots n'apparaissent qu'une seule fois (on appelle ces mots des *hapax*, ou *hapax legomenon*)"
   ]
  },
  {
   "cell_type": "code",
   "execution_count": 14,
   "metadata": {
    "ExecuteTime": {
     "end_time": "2017-12-12T10:55:35.143248Z",
     "start_time": "2017-12-12T10:55:35.138373Z"
    },
    "execution": {
     "iopub.execute_input": "2020-12-04T11:37:31.760550Z",
     "iopub.status.busy": "2020-12-04T11:37:31.760066Z",
     "iopub.status.idle": "2020-12-04T11:37:31.774897Z",
     "shell.execute_reply": "2020-12-04T11:37:31.770437Z",
     "shell.execute_reply.started": "2020-12-04T11:37:31.760497Z"
    }
   },
   "outputs": [
    {
     "name": "stdout",
     "output_type": "stream",
     "text": [
      "[2, 'Parce']\n",
      "[2, 'Partant']\n"
     ]
    }
   ],
   "source": [
    "print(l[5666])\n",
    "print(l[5667])"
   ]
  },
  {
   "cell_type": "markdown",
   "metadata": {
    "ExecuteTime": {
     "end_time": "2017-12-12T10:56:03.578649Z",
     "start_time": "2017-12-12T10:56:03.575575Z"
    }
   },
   "source": [
    "### Exercice 11\n",
    "Quel pourcentage de tokens représentent les 10 mots les plus fréquents ?"
   ]
  },
  {
   "cell_type": "code",
   "execution_count": 15,
   "metadata": {
    "ExecuteTime": {
     "end_time": "2017-12-12T10:57:33.421558Z",
     "start_time": "2017-12-12T10:57:33.416277Z"
    },
    "execution": {
     "iopub.execute_input": "2020-12-04T11:37:32.524107Z",
     "iopub.status.busy": "2020-12-04T11:37:32.523712Z",
     "iopub.status.idle": "2020-12-04T11:37:32.531977Z",
     "shell.execute_reply": "2020-12-04T11:37:32.529692Z",
     "shell.execute_reply.started": "2020-12-04T11:37:32.524064Z"
    }
   },
   "outputs": [
    {
     "name": "stdout",
     "output_type": "stream",
     "text": [
      "0.283051569299139\n"
     ]
    }
   ],
   "source": [
    "n=0\n",
    "for mot in l[-10:]:\n",
    "    n+=mot[0]\n",
    "print(n/nTokens)"
   ]
  },
  {
   "cell_type": "markdown",
   "metadata": {},
   "source": [
    "## Epilogue\n",
    "Les 10 mots les plus fréquents représentent 28% des tokens. A l'inverse, les 5567 mots les plus rares, qui n'apparaissent qu'une seule fois, représentent 0.02% des tokens. Dit autrement, les 0.0007% de mots les plus fréquents couvrent 28% du texte, tandis que les 42% les plus rares couvrent 0.02% du texte. **Il y a très peu de mots très fréquents, énormément de mots très rares**.\n",
    "\n",
    "D'une manière générale, dans un texte, si l'on classe les mots du plus fréquent au plus rare, le second est (de l'ordre de) 2 fois moins fréquent que le premier, le 3ème 3 fois moins fréquent que le premier, le 4ème 4 fois moins fréquent que le 1er...\n",
    "\n",
    "On peut essayer de le vérfier pour l'origine des espèces :"
   ]
  },
  {
   "cell_type": "code",
   "execution_count": 16,
   "metadata": {
    "execution": {
     "iopub.execute_input": "2020-12-04T11:37:34.781173Z",
     "iopub.status.busy": "2020-12-04T11:37:34.780843Z",
     "iopub.status.idle": "2020-12-04T11:37:34.818960Z",
     "shell.execute_reply": "2020-12-04T11:37:34.816738Z",
     "shell.execute_reply.started": "2020-12-04T11:37:34.781135Z"
    }
   },
   "outputs": [],
   "source": [
    "l=[]\n",
    "for mot in nOccurrences:\n",
    "    l.append([nOccurrences[mot],mot])\n",
    "l.sort(reverse=True) #reverse=True indique qu'il faut trier dans l'ordre décroissant, le mot le plus fréquent en premier\n",
    "freqObservées=[]\n",
    "for m in l:\n",
    "    freqObservées.append(m[0])"
   ]
  },
  {
   "cell_type": "code",
   "execution_count": 19,
   "metadata": {
    "ExecuteTime": {
     "end_time": "2017-12-12T11:22:12.185965Z",
     "start_time": "2017-12-12T11:22:12.177832Z"
    },
    "execution": {
     "iopub.execute_input": "2020-12-04T11:38:02.427100Z",
     "iopub.status.busy": "2020-12-04T11:38:02.426563Z",
     "iopub.status.idle": "2020-12-04T11:38:02.442831Z",
     "shell.execute_reply": "2020-12-04T11:38:02.438389Z",
     "shell.execute_reply.started": "2020-12-04T11:38:02.427047Z"
    }
   },
   "outputs": [],
   "source": [
    "freqAttendue=[]\n",
    "for i in range(1,len(freqObservées)):\n",
    "    freqAttendue.append(freqObservées[0]/i) #on s'attend a ce que le i-ème mot soit i fois moins fréquent que le premier"
   ]
  },
  {
   "cell_type": "code",
   "execution_count": 20,
   "metadata": {
    "ExecuteTime": {
     "end_time": "2017-12-12T11:20:50.164131Z",
     "start_time": "2017-12-12T11:20:50.157797Z"
    },
    "execution": {
     "iopub.execute_input": "2020-12-04T11:38:05.204683Z",
     "iopub.status.busy": "2020-12-04T11:38:05.199122Z",
     "iopub.status.idle": "2020-12-04T11:38:05.219594Z",
     "shell.execute_reply": "2020-12-04T11:38:05.213328Z",
     "shell.execute_reply.started": "2020-12-04T11:38:05.204612Z"
    }
   },
   "outputs": [],
   "source": [
    "import matplotlib.pyplot as plt #matplotlib est une librairie pour tracer des figures ; la ligne suivante indique qu'il faut tracer les figures dans le notebook directement (plutot que dans une autre fenêtre, ou dans un fichier,...)\n",
    "%matplotlib inline "
   ]
  },
  {
   "cell_type": "code",
   "execution_count": 22,
   "metadata": {
    "ExecuteTime": {
     "end_time": "2017-12-12T11:20:58.855575Z",
     "start_time": "2017-12-12T11:20:58.647822Z"
    },
    "execution": {
     "iopub.execute_input": "2020-12-04T11:38:11.038407Z",
     "iopub.status.busy": "2020-12-04T11:38:11.037899Z",
     "iopub.status.idle": "2020-12-04T11:38:11.305675Z",
     "shell.execute_reply": "2020-12-04T11:38:11.304379Z",
     "shell.execute_reply.started": "2020-12-04T11:38:11.038347Z"
    }
   },
   "outputs": [
    {
     "data": {
      "text/plain": [
       "[<matplotlib.lines.Line2D at 0x7fd4e8720430>]"
      ]
     },
     "execution_count": 22,
     "metadata": {},
     "output_type": "execute_result"
    },
    {
     "data": {
      "image/png": "[encoded data removed]",
      "text/plain": [
       "<Figure size 432x288 with 1 Axes>"
      ]
     },
     "metadata": {
      "needs_background": "light"
     },
     "output_type": "display_data"
    }
   ],
   "source": [
    "plt.plot(freqObservées,'.')\n",
    "plt.plot(freqAttendue,'.')"
   ]
  },
  {
   "cell_type": "markdown",
   "metadata": {},
   "source": [
    "On ne vois pas grand chose ! Les mots les plus fréquents sont de l'ordre de 10000 fois plus fréquents que les plus rares. Ces fortes différence de fréquence, de 1 à 10000, ne sont pas visualisables.\n",
    "\n",
    "Pour contourner cette difficulté, on utilise des échelles logarithmiques:"
   ]
  },
  {
   "cell_type": "code",
   "execution_count": 23,
   "metadata": {
    "ExecuteTime": {
     "end_time": "2017-12-12T11:27:17.977652Z",
     "start_time": "2017-12-12T11:27:17.520767Z"
    },
    "execution": {
     "iopub.execute_input": "2020-12-04T11:38:16.410239Z",
     "iopub.status.busy": "2020-12-04T11:38:16.409564Z",
     "iopub.status.idle": "2020-12-04T11:38:17.529017Z",
     "shell.execute_reply": "2020-12-04T11:38:17.527359Z",
     "shell.execute_reply.started": "2020-12-04T11:38:16.410175Z"
    }
   },
   "outputs": [
    {
     "data": {
      "text/plain": [
       "[<matplotlib.lines.Line2D at 0x7fd4e88de310>]"
      ]
     },
     "execution_count": 23,
     "metadata": {},
     "output_type": "execute_result"
    },
    {
     "data": {
      "image/png": "[encoded data removed]",
      "text/plain": [
       "<Figure size 432x288 with 1 Axes>"
      ]
     },
     "metadata": {
      "needs_background": "light"
     },
     "output_type": "display_data"
    }
   ],
   "source": [
    "plt.loglog(freqObservées,'.')\n",
    "plt.loglog(freqAttendue,'.')"
   ]
  },
  {
   "cell_type": "markdown",
   "metadata": {},
   "source": [
    "La correspondance n'est pas parfaite, l'approximation n'est pas absurde non plus.\n",
    "\n",
    "La manière dont les fréquences se distribuent s'appelle la [loi de Zipf](https://fr.wikipedia.org/wiki/Loi_de_Zipf), du nom du linguiste qui l'a découverte, George Kingsley Zipf, dans les années 40."
   ]
  }
 ],
 "metadata": {
  "kernelspec": {
   "display_name": "Python 3 (ipykernel)",
   "language": "python",
   "name": "python3"
  },
  "language_info": {
   "codemirror_mode": {
    "name": "ipython",
    "version": 3
   },
   "file_extension": ".py",
   "mimetype": "text/x-python",
   "name": "python",
   "nbconvert_exporter": "python",
   "pygments_lexer": "ipython3",
   "version": "3.8.12"
  },
  "varInspector": {
   "cols": {
    "lenName": 16,
    "lenType": 16,
    "lenVar": 40
   },
   "kernels_config": {
    "python": {
     "delete_cmd_postfix": "",
     "delete_cmd_prefix": "del ",
     "library": "var_list.py",
     "varRefreshCmd": "print(var_dic_list())"
    },
    "r": {
     "delete_cmd_postfix": ") ",
     "delete_cmd_prefix": "rm(",
     "library": "var_list.r",
     "varRefreshCmd": "cat(var_dic_list()) "
    }
   },
   "types_to_exclude": [
    "module",
    "function",
    "builtin_function_or_method",
    "instance",
    "_Feature"
   ],
   "window_display": false
  }
 },
 "nbformat": 4,
 "nbformat_minor": 4
}
