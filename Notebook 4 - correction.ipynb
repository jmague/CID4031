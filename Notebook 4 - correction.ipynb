{
 "cells": [
  {
   "cell_type": "markdown",
   "metadata": {},
   "source": [
    "# <center>Initiation à la programmation (Python)</center>"
   ]
  },
  {
   "cell_type": "markdown",
   "metadata": {},
   "source": [
    "# Compter les mots dans un texte"
   ]
  },
  {
   "cell_type": "markdown",
   "metadata": {},
   "source": [
    "##  0 Nombre de lignes\n",
    "### Exercice 1\n",
    "Compter le nombre de lignes dans la version obtenue sur [Gutenberg.org](http://www.gutenberg.org) de [*De l'Origine des Espèces*](http://www.gutenberg.org/ebooks/14158). Il s'agit du fichier DeLOrigine.txt\n"
   ]
  },
  {
   "cell_type": "code",
   "execution_count": 48,
   "metadata": {
    "ExecuteTime": {
     "end_time": "2017-12-12T09:33:00.437455Z",
     "start_time": "2017-12-12T09:33:00.410665Z"
    }
   },
   "outputs": [
    {
     "name": "stdout",
     "output_type": "stream",
     "text": [
      "24203\n"
     ]
    }
   ],
   "source": [
    "nLignes=0\n",
    "texte = open('DeLOrigine.txt')\n",
    "for ligne in texte:\n",
    "    nLignes+=1\n",
    "print(nLignes)"
   ]
  },
  {
   "cell_type": "markdown",
   "metadata": {},
   "source": [
    "## 1 Première estimation du combre de mots\n",
    "La définition de ce qu'est un mot n'est pas triviale. Commençons avec une première définition : un mot est une chaîne de caractères délimitée par des espaces et/ou des retours à ligne.\n",
    "### Exercice 2\n",
    "Compter le nombre de mots dans *De l'Origine des Espèces* selon cette première définition.\n"
   ]
  },
  {
   "cell_type": "code",
   "execution_count": 49,
   "metadata": {
    "ExecuteTime": {
     "end_time": "2017-12-12T09:33:42.532902Z",
     "start_time": "2017-12-12T09:33:42.447855Z"
    }
   },
   "outputs": [
    {
     "name": "stdout",
     "output_type": "stream",
     "text": [
      "220166\n"
     ]
    }
   ],
   "source": [
    "nMots=0\n",
    "texte = open('DeLOrigine.txt')\n",
    "for ligne in texte:\n",
    "    for mot in ligne.split(' '):\n",
    "        nMots+=1\n",
    "print(nMots)"
   ]
  },
  {
   "cell_type": "markdown",
   "metadata": {
    "ExecuteTime": {
     "end_time": "2017-12-11T16:19:28.681891Z",
     "start_time": "2017-12-11T16:19:28.677575Z"
    }
   },
   "source": [
    "Cette première définition du mot, un chaîne de caractères entre deux espaces blancs pose plusieurs problèmes. Lesquels ? \n",
    "\n",
    "### Exercice 3\n",
    "Afin de se faire une idée peut-être plus précise de ces problèmes, construire une liste contenant tous les mots, c'est-à-dire une liste de 220166 éléments. En afficher les élements entre les indices 6000 et 6050. On peut acceder aux éléments d'une liste `l` compris entre les indices `a` et `b` avec :\n",
    "```python\n",
    "l[a:b]\n",
    "```\n"
   ]
  },
  {
   "cell_type": "code",
   "execution_count": 1,
   "metadata": {
    "ExecuteTime": {
     "end_time": "2017-12-12T09:45:56.678332Z",
     "start_time": "2017-12-12T09:45:56.591555Z"
    }
   },
   "outputs": [],
   "source": [
    "mots=[]\n",
    "texte=open('DeLOrigine.txt')\n",
    "for ligne in texte:\n",
    "    for mot in ligne.split(' '):\n",
    "        mots.append(mot)"
   ]
  },
  {
   "cell_type": "code",
   "execution_count": 2,
   "metadata": {
    "ExecuteTime": {
     "end_time": "2017-12-12T09:45:57.406752Z",
     "start_time": "2017-12-12T09:45:57.399770Z"
    }
   },
   "outputs": [
    {
     "data": {
      "text/plain": [
       "['été\\n',\n",
       " 'désappointé;',\n",
       " \"j'ai\",\n",
       " 'bientôt',\n",
       " 'reconnu,',\n",
       " 'en',\n",
       " 'effet,',\n",
       " 'que',\n",
       " 'nos\\n',\n",
       " 'connaissances,',\n",
       " 'quelque',\n",
       " 'imparfaites',\n",
       " \"qu'elles\",\n",
       " 'soient,',\n",
       " 'sur',\n",
       " 'les\\n',\n",
       " 'variations',\n",
       " 'à',\n",
       " \"l'état\",\n",
       " 'domestique,',\n",
       " 'nous',\n",
       " 'fournissent',\n",
       " 'toujours\\n',\n",
       " \"l'explication\",\n",
       " 'la',\n",
       " 'plus',\n",
       " 'simple',\n",
       " 'et',\n",
       " 'la',\n",
       " 'moins',\n",
       " 'sujette',\n",
       " 'à',\n",
       " 'erreur.',\n",
       " \"Qu'il\\n\",\n",
       " 'me',\n",
       " 'soit',\n",
       " 'donc',\n",
       " 'permis',\n",
       " \"d'ajouter\",\n",
       " 'que,',\n",
       " 'dans',\n",
       " 'ma',\n",
       " 'conviction,',\n",
       " 'ces',\n",
       " 'études\\n',\n",
       " 'ont',\n",
       " 'la',\n",
       " 'plus',\n",
       " 'grande',\n",
       " 'importance']"
      ]
     },
     "execution_count": 2,
     "metadata": {},
     "output_type": "execute_result"
    }
   ],
   "source": [
    "mots[6000:6050]"
   ]
  },
  {
   "cell_type": "markdown",
   "metadata": {
    "ExecuteTime": {
     "end_time": "2017-12-12T09:52:58.561747Z",
     "start_time": "2017-12-12T09:52:58.558691Z"
    }
   },
   "source": [
    "## 2 Tokeniser un texte\n",
    "En traitement automatique des langues, discipline à l'intersection d'informatique et de la linguistique, l'opération qui consiste à découper un texte en mots s'appelle l'a tokenisation. D'ailleurs, plutôt que de mots, on parle de **tokens**. Le terme **mot** désigne les entités abstraites qui se réalisent dans les tokens. \n",
    "\n",
    "Le texte *le chat dort sur le canapé* compte 6 tokens et 5 mots. Le mot *le* a deux occurrences, les autres une seule.\n",
    "\n",
    "Un algorithme de tokenisation est une opérationnalisation d'une définition d'un mot. On pourrait construire un tel algorithme, mais d'autres l'ont déjà fait pour nous !"
   ]
  },
  {
   "cell_type": "code",
   "execution_count": 3,
   "metadata": {
    "ExecuteTime": {
     "end_time": "2017-12-11T16:18:39.615455Z",
     "start_time": "2017-12-11T16:18:39.611818Z"
    }
   },
   "outputs": [],
   "source": [
    "import nltk"
   ]
  },
  {
   "cell_type": "markdown",
   "metadata": {},
   "source": [
    "L'instruction ci-dessus importe la package (ou librairie ou bibliothèque) nommée [nltk](http://www.nltk.org).  Un package est une collection de 'fonctions' qui étendent les fonctionnalités de Python (le mécanisme existe dans la plupart des langages de programmation).  \n",
    "\n",
    "Python fournit un certain nombre de [packages par défaut](https://docs.python.org/3/library/index.html), et l'on peut par ailleurs en installer d'[autres](https://pypi.python.org/pypi). Anaconda, la distribution de Python que l'on utilise, installe en même temps que Python [plus 200 autres packages](https://docs.anaconda.com/anaconda/packages/py3.6_win-64), dont nltk. \n",
    "\n",
    "Nltk propose plusieurs tokenisers. Nous allons utiliser celui qui s'appelle WordPunctTokenizer, qui prend en compte la ponctuation pour délimiter les mots."
   ]
  },
  {
   "cell_type": "code",
   "execution_count": 4,
   "metadata": {
    "ExecuteTime": {
     "end_time": "2017-12-12T10:26:41.043035Z",
     "start_time": "2017-12-12T10:26:41.036650Z"
    }
   },
   "outputs": [
    {
     "data": {
      "text/plain": [
       "['le', 'chat', 'dort', 'sur', 'le', 'canapé']"
      ]
     },
     "execution_count": 4,
     "metadata": {},
     "output_type": "execute_result"
    }
   ],
   "source": [
    "tokenizer = nltk.tokenize.WordPunctTokenizer()\n",
    "tokenizer.tokenize(\"le chat dort sur le canapé\")"
   ]
  },
  {
   "cell_type": "markdown",
   "metadata": {},
   "source": [
    "### Exercice 4\n",
    "Tokeniser le texte \"Parce qu'aujoud'hui on a cours de Python, c'est la fête !\""
   ]
  },
  {
   "cell_type": "code",
   "execution_count": 5,
   "metadata": {
    "ExecuteTime": {
     "end_time": "2017-12-12T10:28:15.083683Z",
     "start_time": "2017-12-12T10:28:15.078264Z"
    }
   },
   "outputs": [
    {
     "data": {
      "text/plain": [
       "['Parce',\n",
       " 'qu',\n",
       " \"'\",\n",
       " 'aujoud',\n",
       " \"'\",\n",
       " 'hui',\n",
       " 'on',\n",
       " 'a',\n",
       " 'cours',\n",
       " 'de',\n",
       " 'Python',\n",
       " ',',\n",
       " 'c',\n",
       " \"'\",\n",
       " 'est',\n",
       " 'la',\n",
       " 'fête',\n",
       " '!']"
      ]
     },
     "execution_count": 5,
     "metadata": {},
     "output_type": "execute_result"
    }
   ],
   "source": [
    "tokenizer.tokenize( \"Parce qu'aujoud'hui on a cours de Python, c'est la fête !\")"
   ]
  },
  {
   "cell_type": "markdown",
   "metadata": {},
   "source": [
    "### Exercice 5\n",
    "Compter le nombre de tokens dans *De l'Origine des Espèces*. C'est possible en une seule ligne ! Indice, on peut lire un fichier dans une chaîne de caractères de la manière suivante :\n",
    "```pytohn\n",
    "open('nomDuFichier.txt').read()\n",
    "```\n"
   ]
  },
  {
   "cell_type": "code",
   "execution_count": 6,
   "metadata": {
    "ExecuteTime": {
     "end_time": "2017-12-12T10:34:50.401053Z",
     "start_time": "2017-12-12T10:34:50.215475Z"
    }
   },
   "outputs": [
    {
     "name": "stdout",
     "output_type": "stream",
     "text": [
      "274971\n"
     ]
    }
   ],
   "source": [
    "nTokens=0\n",
    "texte = open('DeLOrigine.txt')\n",
    "for ligne in texte:\n",
    "    for token in tokenizer.tokenize(ligne):\n",
    "        nTokens+=1\n",
    "print(nTokens)"
   ]
  },
  {
   "cell_type": "code",
   "execution_count": 7,
   "metadata": {
    "ExecuteTime": {
     "end_time": "2017-12-12T10:35:23.290237Z",
     "start_time": "2017-12-12T10:35:23.154017Z"
    }
   },
   "outputs": [
    {
     "data": {
      "text/plain": [
       "274971"
      ]
     },
     "execution_count": 7,
     "metadata": {},
     "output_type": "execute_result"
    }
   ],
   "source": [
    "len(tokenizer.tokenize(open('DeLOrigine.txt').read()))"
   ]
  },
  {
   "cell_type": "markdown",
   "metadata": {
    "ExecuteTime": {
     "end_time": "2017-12-12T10:36:49.328209Z",
     "start_time": "2017-12-12T10:36:49.323282Z"
    }
   },
   "source": [
    "## Comptage de la fréquence de mots dans un texte"
   ]
  },
  {
   "cell_type": "markdown",
   "metadata": {
    "ExecuteTime": {
     "end_time": "2017-12-12T10:37:23.935976Z",
     "start_time": "2017-12-12T10:37:23.932158Z"
    }
   },
   "source": [
    "### Exercice 6\n",
    "A votre avis, combien de fois apparait le mot *le* ? Le mot *livre* ? Combien y a-t-il de mots ?"
   ]
  },
  {
   "cell_type": "markdown",
   "metadata": {},
   "source": [
    "### Exercice 7\n",
    "Compter le nombre d'occurrences des mots *le* et *livre*"
   ]
  },
  {
   "cell_type": "code",
   "execution_count": 16,
   "metadata": {},
   "outputs": [
    {
     "name": "stdout",
     "output_type": "stream",
     "text": [
      "Le token 'le' apparait 2686 fois\n",
      "Le token 'livre' apparait 3 fois\n"
     ]
    }
   ],
   "source": [
    "nOccurrences_le=0\n",
    "nOccurrences_livre=0\n",
    "texte = open('DeLOrigine.txt')\n",
    "for ligne in texte:\n",
    "    for token in tokenizer.tokenize(ligne):\n",
    "        if token=='le':\n",
    "            nOccurrences_le+=1\n",
    "        if token=='livre':\n",
    "            nOccurrences_livre+=1\n",
    "print(\"Le token 'le' apparait \" + str(nOccurrences_le) + \" fois\")\n",
    "print(\"Le token 'livre' apparait \" + str(nOccurrences_livre) + \" fois\")"
   ]
  },
  {
   "cell_type": "markdown",
   "metadata": {},
   "source": [
    "### Exercice 8\n",
    "Construire un dictionnaire qui donne le nombre d'occurrences de chaque mot du texte. \n",
    "```python\n",
    "print(nOccurrences['espèce'])\n",
    "594\n",
    "```\n",
    "Combien y a-t-il de mots dans le texte ?"
   ]
  },
  {
   "cell_type": "code",
   "execution_count": 17,
   "metadata": {
    "ExecuteTime": {
     "end_time": "2017-12-12T10:50:04.838682Z",
     "start_time": "2017-12-12T10:50:04.648211Z"
    }
   },
   "outputs": [],
   "source": [
    "nOccurrences = {}\n",
    "texte=open('DeLOrigine.txt')\n",
    "for mot in tokenizer.tokenize(texte.read()):\n",
    "    if mot not in nOccurrences:\n",
    "        nOccurrences[mot]=0\n",
    "    nOccurrences[mot]+=1"
   ]
  },
  {
   "cell_type": "code",
   "execution_count": 18,
   "metadata": {
    "ExecuteTime": {
     "end_time": "2017-12-12T10:50:05.057925Z",
     "start_time": "2017-12-12T10:50:05.053831Z"
    }
   },
   "outputs": [
    {
     "data": {
      "text/plain": [
       "13337"
      ]
     },
     "execution_count": 18,
     "metadata": {},
     "output_type": "execute_result"
    }
   ],
   "source": [
    "len(nOccurrences)"
   ]
  },
  {
   "cell_type": "markdown",
   "metadata": {},
   "source": [
    "### Exercice 9\n",
    "Que fait le programme suivant ?"
   ]
  },
  {
   "cell_type": "code",
   "execution_count": 87,
   "metadata": {
    "ExecuteTime": {
     "end_time": "2017-12-12T10:52:35.868955Z",
     "start_time": "2017-12-12T10:52:35.833321Z"
    }
   },
   "outputs": [],
   "source": [
    "l=[]\n",
    "for mot in nOccurrences:\n",
    "    l.append([nOccurrences[mot],mot])\n",
    "l.sort()"
   ]
  },
  {
   "cell_type": "markdown",
   "metadata": {
    "ExecuteTime": {
     "end_time": "2017-12-12T10:48:18.815326Z",
     "start_time": "2017-12-12T10:48:18.812015Z"
    }
   },
   "source": [
    "### Exercice 10\n",
    "Combien de mots n'apparaissent qu'une seule fois (on appelle ces mots des *hapax*, ou *hapax legomenon*)"
   ]
  },
  {
   "cell_type": "code",
   "execution_count": 105,
   "metadata": {
    "ExecuteTime": {
     "end_time": "2017-12-12T10:55:35.143248Z",
     "start_time": "2017-12-12T10:55:35.138373Z"
    }
   },
   "outputs": [
    {
     "name": "stdout",
     "output_type": "stream",
     "text": [
      "[1, '\\ufeff']\n",
      "[2, ')(']\n"
     ]
    }
   ],
   "source": [
    "print(l[5666])\n",
    "print(l[5667])"
   ]
  },
  {
   "cell_type": "markdown",
   "metadata": {
    "ExecuteTime": {
     "end_time": "2017-12-12T10:56:03.578649Z",
     "start_time": "2017-12-12T10:56:03.575575Z"
    }
   },
   "source": [
    "### Exercice 11\n",
    "Quel pourcentage de tokens représentent les 10 mots les plus fréquents ?"
   ]
  },
  {
   "cell_type": "code",
   "execution_count": 111,
   "metadata": {
    "ExecuteTime": {
     "end_time": "2017-12-12T10:57:33.421558Z",
     "start_time": "2017-12-12T10:57:33.416277Z"
    }
   },
   "outputs": [
    {
     "name": "stdout",
     "output_type": "stream",
     "text": [
      "0.2799677056853268\n"
     ]
    }
   ],
   "source": [
    "n=0\n",
    "for mot in l[-10:]:\n",
    "    n+=mot[0]\n",
    "print(n/nTokens)"
   ]
  },
  {
   "cell_type": "markdown",
   "metadata": {},
   "source": [
    "## Epilogue\n",
    "Les 10 mots les plus fréquents représentent 28% des tokens. A l'inverse, les 5567 mots les plus rares, qui n'apparaissent qu'une seule fois, représentent 0.02% des tokens. Dit autrement, les 0.0007% de mots les plus fréquents couvrent 28% du texte, tandis que les 42% les plus rares couvrent 0.02% du texte. **Il y a très peu de mots très fréquents, énormément de mots très rares**.\n",
    "\n",
    "D'une manière générale, dans un texte, si l'on classe les mots du plus fréquent au plus rare, le second est (de l'ordre de) 2 fois moins fréquent que le premier, le 3ème 3 fois moins fréquent que le premier, le 4ème 4 fois moins fréquent que le 1er...\n",
    "\n",
    "On peut essayer de le vérfier pour l'origine des espèces :"
   ]
  },
  {
   "cell_type": "code",
   "execution_count": null,
   "metadata": {},
   "outputs": [],
   "source": [
    "l=[]\n",
    "for mot in nOccurrences:\n",
    "    l.append([nOccurrences[mot],mot])\n",
    "l.sort(reverse=True) #reverse=True indique qu'il faut trier dans l'ordre décroissant, le mot le plus fréquent en premier\n",
    "freqObservées=[]\n",
    "for m in l:\n",
    "    freqObservées.append(m[0])"
   ]
  },
  {
   "cell_type": "code",
   "execution_count": 136,
   "metadata": {
    "ExecuteTime": {
     "end_time": "2017-12-12T11:22:12.185965Z",
     "start_time": "2017-12-12T11:22:12.177832Z"
    }
   },
   "outputs": [],
   "source": [
    "freqAttendue=[]\n",
    "for i in range(1,len(freq)):\n",
    "    freqAttendue.append(freq[0]/i) #on s'attend a ce que le i-ème mot soit i fois moins fréquent que le premier"
   ]
  },
  {
   "cell_type": "code",
   "execution_count": 134,
   "metadata": {
    "ExecuteTime": {
     "end_time": "2017-12-12T11:20:50.164131Z",
     "start_time": "2017-12-12T11:20:50.157797Z"
    }
   },
   "outputs": [],
   "source": [
    "import matplotlib.pyplot as plt #matplotlib est une librairie pour tracer des figures ; la ligne suivante indique qu'il faut tracer les figures dans le notebook directement (plutot que dans une autre fenêtre, ou dans un fichier,...)\n",
    "%matplotlib inline "
   ]
  },
  {
   "cell_type": "code",
   "execution_count": 135,
   "metadata": {
    "ExecuteTime": {
     "end_time": "2017-12-12T11:20:58.855575Z",
     "start_time": "2017-12-12T11:20:58.647822Z"
    }
   },
   "outputs": [
    {
     "data": {
      "text/plain": [
       "[<matplotlib.lines.Line2D at 0x11a72f5f8>]"
      ]
     },
     "execution_count": 135,
     "metadata": {},
     "output_type": "execute_result"
    },
    {
     "data": {
      "image/png": "[encoded data removed]",
      "text/plain": [
       "<matplotlib.figure.Figure at 0x11a055dd8>"
      ]
     },
     "metadata": {},
     "output_type": "display_data"
    }
   ],
   "source": [
    "plt.plot(freq,'.')\n",
    "plt.plot(freqAttendue,'.')"
   ]
  },
  {
   "cell_type": "markdown",
   "metadata": {},
   "source": [
    "On ne vois pas grand chose ! Les mots les plus fréquents sont de l'ordre de 10000 fois plus fréquents que les plus rares. Ces fortes différence de fréquence, de 1 à 10000, ne sont pas visualisables.\n",
    "\n",
    "Pour contourner cette difficulté, on utilise des échelles logarithmiques:"
   ]
  },
  {
   "cell_type": "code",
   "execution_count": 137,
   "metadata": {
    "ExecuteTime": {
     "end_time": "2017-12-12T11:27:17.977652Z",
     "start_time": "2017-12-12T11:27:17.520767Z"
    }
   },
   "outputs": [
    {
     "data": {
      "text/plain": [
       "[<matplotlib.lines.Line2D at 0x11b73db70>]"
      ]
     },
     "execution_count": 137,
     "metadata": {},
     "output_type": "execute_result"
    },
    {
     "data": {
      "image/png": "[encoded data removed]",
      "text/plain": [
       "<matplotlib.figure.Figure at 0x1206af668>"
      ]
     },
     "metadata": {},
     "output_type": "display_data"
    }
   ],
   "source": [
    "plt.loglog(freq,'.')\n",
    "plt.loglog(freqAttendue,'.')"
   ]
  },
  {
   "cell_type": "markdown",
   "metadata": {},
   "source": [
    "La correspondance n'est pas parfaite, l'approximation n'est pas absurde non plus.\n",
    "\n",
    "La manière dont les fréquences se distribuent s'appelle la [loi de Zipf](https://fr.wikipedia.org/wiki/Loi_de_Zipf), du nom du linguiste qui l'a découverte, George Kingsley Zipf, dans les années 40."
   ]
  }
 ],
 "metadata": {
  "kernelspec": {
   "display_name": "Python 3",
   "language": "python",
   "name": "python3"
  },
  "language_info": {
   "codemirror_mode": {
    "name": "ipython",
    "version": 3
   },
   "file_extension": ".py",
   "mimetype": "text/x-python",
   "name": "python",
   "nbconvert_exporter": "python",
   "pygments_lexer": "ipython3",
   "version": "3.8.3"
  },
  "varInspector": {
   "cols": {
    "lenName": 16,
    "lenType": 16,
    "lenVar": 40
   },
   "kernels_config": {
    "python": {
     "delete_cmd_postfix": "",
     "delete_cmd_prefix": "del ",
     "library": "var_list.py",
     "varRefreshCmd": "print(var_dic_list())"
    },
    "r": {
     "delete_cmd_postfix": ") ",
     "delete_cmd_prefix": "rm(",
     "library": "var_list.r",
     "varRefreshCmd": "cat(var_dic_list()) "
    }
   },
   "types_to_exclude": [
    "module",
    "function",
    "builtin_function_or_method",
    "instance",
    "_Feature"
   ],
   "window_display": false
  }
 },
 "nbformat": 4,
 "nbformat_minor": 4
}
