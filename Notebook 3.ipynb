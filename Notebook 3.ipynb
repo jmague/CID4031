{
 "cells": [
  {
   "cell_type": "markdown",
   "metadata": {},
   "source": [
    "# <center>Initiation à la programmation (Python)</center>"
   ]
  },
  {
   "cell_type": "markdown",
   "metadata": {},
   "source": [
    "# Fichiers"
   ]
  },
  {
   "cell_type": "markdown",
   "metadata": {},
   "source": [
    "Il est possible de lire des fichiers (texte) en Python. Pour cela, il faut commencer par l'ouvrir :"
   ]
  },
  {
   "cell_type": "code",
   "execution_count": 1,
   "metadata": {},
   "outputs": [],
   "source": [
    "fichier = open('haiku.txt')"
   ]
  },
  {
   "cell_type": "code",
   "execution_count": 2,
   "metadata": {},
   "outputs": [
    {
     "data": {
      "text/plain": [
       "\"Un vieil étang et\\nUne grenouille qui plonge,\\nLe bruit de l'eau.\\n\""
      ]
     },
     "execution_count": 2,
     "metadata": {},
     "output_type": "execute_result"
    }
   ],
   "source": [
    "fichier.read()"
   ]
  },
  {
   "cell_type": "markdown",
   "metadata": {},
   "source": [
    "En python, les fichiers sont itérables : avec une boucle `for`, on peut les lire ligne par ligne :"
   ]
  },
  {
   "cell_type": "code",
   "execution_count": 2,
   "metadata": {},
   "outputs": [
    {
     "name": "stdout",
     "output_type": "stream",
     "text": [
      "18 caractères : Un vieil étang et\n",
      "\n",
      "27 caractères : Une grenouille qui plonge,\n",
      "\n",
      "19 caractères : Le bruit de l'eau.\n",
      "\n"
     ]
    }
   ],
   "source": [
    "fichier = open('haiku.txt')\n",
    "for ligne in fichier:\n",
    "    print(str(len(ligne)) + ' caractères : ' + ligne)\n",
    "fichier.close()"
   ]
  },
  {
   "cell_type": "markdown",
   "metadata": {},
   "source": [
    "## Exercice 1\n",
    "Nous voulons mémoriser le nombre d'étudiants par étage dans un fichier. La première ligne indique le nombre d'étudiants au rez-de-chaussée, la seconde au premier étage... Le fichier `bibliothèque.txt` décrit de cette manière une bibliothèque de 10 étages. \n",
    "\n",
    "Ecrire un programme qui lit un fichier et construit une liste dans laquelle chaque élément correspond à l'occupation d'un étage."
   ]
  },
  {
   "cell_type": "code",
   "execution_count": 3,
   "metadata": {},
   "outputs": [],
   "source": [
    "nbEtudiantsParEtage=[]\n",
    "for l in open('bibliothèque.txt'):\n",
    "    pass # pass est une instruction qui ne fait rien ! "
   ]
  },
  {
   "cell_type": "markdown",
   "metadata": {},
   "source": [
    "## Exercice 2\n",
    "On veut faire l'opération inverse, écrire dans un fichier une liste qui donne l'occupation étage par étage d'une bibliothèque. On peut écrire dans un fichier de cette manière :"
   ]
  },
  {
   "cell_type": "code",
   "execution_count": 4,
   "metadata": {},
   "outputs": [],
   "source": [
    "fichier = open('fichier.txt', 'w') #le paramètre 'w' indique que l'on ouvre le fichier en mode éciture  (write)\n",
    "fichier.write('un peu de texte')\n",
    "fichier.write('encore un peu de texte\\n')#si l'on veut revenir à ligne, il faut écrire le caractère retour à la ligne, qui s'écrit \\n\n",
    "fichier.write(\"et l'on termine\")\n",
    "fichier.close()#il faut explicitement fermer le fichier, sinon on est pas sûr que ce que l'on a écrit est bien enregistré"
   ]
  },
  {
   "cell_type": "code",
   "execution_count": null,
   "metadata": {},
   "outputs": [],
   "source": []
  },
  {
   "cell_type": "markdown",
   "metadata": {},
   "source": [
    "# Dictionnaires"
   ]
  },
  {
   "cell_type": "markdown",
   "metadata": {},
   "source": [
    "Les listes permettent de manipuler ensemble des valeurs indexées par des nombres entiers :"
   ]
  },
  {
   "cell_type": "code",
   "execution_count": 5,
   "metadata": {
    "ExecuteTime": {
     "end_time": "2017-11-27T12:29:43.163251Z",
     "start_time": "2017-11-27T12:29:43.157241Z"
    }
   },
   "outputs": [
    {
     "name": "stdout",
     "output_type": "stream",
     "text": [
      "Marseille\n"
     ]
    }
   ],
   "source": [
    "villes=['Paris', 'Lyon', 'Marseille', 'Toulouse', 'Bordeaux', 'Lille', 'Nice']\n",
    "print(villes[2])"
   ]
  },
  {
   "cell_type": "markdown",
   "metadata": {},
   "source": [
    "Les **dictionnaires** étendent cette idée en permettant d'indexer avec d'autres types que les entiers :"
   ]
  },
  {
   "cell_type": "code",
   "execution_count": 6,
   "metadata": {
    "ExecuteTime": {
     "end_time": "2017-11-27T12:29:43.496572Z",
     "start_time": "2017-11-27T12:29:43.485589Z"
    }
   },
   "outputs": [
    {
     "name": "stdout",
     "output_type": "stream",
     "text": [
      "2265375\n"
     ]
    }
   ],
   "source": [
    "population={'Bordeaux' :1196122, 'Lyon' :2265375, 'Lille' :1182127, 'Marseille' :1743990, 'Paris' :2475808, 'Toulouse' :1312304, 'Nice' :1006289}\n",
    "print(population['Lyon'])"
   ]
  },
  {
   "cell_type": "markdown",
   "metadata": {},
   "source": [
    "Un dictionnaire associe des **clés** à des **valeurs**. 2265375 est a valeur associée à la clé 'Lyon'\n",
    "\n",
    "Alors que les listes sont délimitées par des crochets `[]`, les dictionnaires sont délimités par des accolades `{}`"
   ]
  },
  {
   "cell_type": "markdown",
   "metadata": {},
   "source": [
    "Comme pour les listes, on peut modifier une valeur en l'indexant avec la clé correspondante :"
   ]
  },
  {
   "cell_type": "code",
   "execution_count": 4,
   "metadata": {
    "ExecuteTime": {
     "end_time": "2017-11-27T12:29:44.198136Z",
     "start_time": "2017-11-27T12:29:44.191758Z"
    }
   },
   "outputs": [
    {
     "name": "stdout",
     "output_type": "stream",
     "text": [
      "2475808\n",
      "12475808\n"
     ]
    }
   ],
   "source": [
    "print(population['Paris'])\n",
    "population['Paris']=12475808\n",
    "print(population['Paris'])"
   ]
  },
  {
   "cell_type": "markdown",
   "metadata": {},
   "source": [
    "De la même manière, on peut ajouter des élements à un dictionnaire :"
   ]
  },
  {
   "cell_type": "code",
   "execution_count": 5,
   "metadata": {
    "ExecuteTime": {
     "end_time": "2017-11-27T12:30:15.816370Z",
     "start_time": "2017-11-27T12:30:15.813279Z"
    }
   },
   "outputs": [],
   "source": [
    "population['Nantes']=934165"
   ]
  },
  {
   "cell_type": "markdown",
   "metadata": {},
   "source": [
    "## Exercice 3\n",
    "Monsieur Jean Dupont habite au 1 chemin de la liberté, 69001 Lyon. Son numéro de téléphone est le 01 02 03 04 05. Construisez un dictionnaire le représentant. "
   ]
  },
  {
   "cell_type": "code",
   "execution_count": null,
   "metadata": {},
   "outputs": [],
   "source": []
  },
  {
   "cell_type": "markdown",
   "metadata": {},
   "source": [
    "## Exercice 4\n",
    "Cette fois-ci, construisez le dictionnaire en allant récupérer les informations dans le fichier JeanDupont.txt"
   ]
  },
  {
   "cell_type": "markdown",
   "metadata": {},
   "source": [
    "*Indice* : regardez le résultat de l'instrution suivante :"
   ]
  },
  {
   "cell_type": "code",
   "execution_count": 6,
   "metadata": {},
   "outputs": [
    {
     "data": {
      "text/plain": [
       "['Paris', 'Lyon', 'Marseille']"
      ]
     },
     "execution_count": 6,
     "metadata": {},
     "output_type": "execute_result"
    }
   ],
   "source": [
    "'Paris,Lyon,Marseille'.split(',')"
   ]
  },
  {
   "cell_type": "code",
   "execution_count": null,
   "metadata": {},
   "outputs": [],
   "source": []
  },
  {
   "cell_type": "markdown",
   "metadata": {
    "ExecuteTime": {
     "end_time": "2017-11-27T14:10:17.078738Z",
     "start_time": "2017-11-27T14:10:17.073660Z"
    }
   },
   "source": [
    "## Exercice 5\n",
    "A présent, construisez tout un carnet d'adresse à partir du fichier `carnet.txt`. Ce sera une liste de dictionnaires, chaque dictionnaire représentant une personne. "
   ]
  },
  {
   "cell_type": "code",
   "execution_count": null,
   "metadata": {},
   "outputs": [],
   "source": []
  },
  {
   "cell_type": "markdown",
   "metadata": {},
   "source": [
    "## Exercice 6\n",
    "Ecrire un programme qui affiche le numéro de téléphone d'une personne à partir de son nom de famille.\n",
    "```python\n",
    "nom='Boisclair'\n",
    "...\n",
    "...\n",
    "\n",
    "01.55.93.62.85\n",
    "```\n"
   ]
  },
  {
   "cell_type": "code",
   "execution_count": null,
   "metadata": {},
   "outputs": [],
   "source": []
  },
  {
   "cell_type": "markdown",
   "metadata": {},
   "source": [
    "## Exercice 7\n",
    "Ecrire un programme construit la liste de tous les noms de famille qui se trouvent dans le carnet"
   ]
  },
  {
   "cell_type": "code",
   "execution_count": null,
   "metadata": {},
   "outputs": [],
   "source": []
  },
  {
   "cell_type": "markdown",
   "metadata": {},
   "source": [
    "## Exercice 8\n",
    "\n",
    "* La fonction `sort` permet de trier une liste :\n",
    "```python\n",
    "lst=['Paris', 'Lyon', 'Marseille']\n",
    "lst.sort()\n",
    "print(lst)\n",
    "```\n",
    "```\n",
    "['Lyon', 'Marseille', 'Paris']\n",
    "```\n",
    "\n",
    "\n",
    "Sachant cela, écrire un programme qui écrit dans le fichier `carnetTrié.txt` le même carnet d'adresse, mais trié par ordre alphabétique "
   ]
  },
  {
   "cell_type": "code",
   "execution_count": null,
   "metadata": {},
   "outputs": [],
   "source": []
  }
 ],
 "metadata": {
  "kernelspec": {
   "display_name": "Python 3",
   "language": "python",
   "name": "python3"
  },
  "language_info": {
   "codemirror_mode": {
    "name": "ipython",
    "version": 3
   },
   "file_extension": ".py",
   "mimetype": "text/x-python",
   "name": "python",
   "nbconvert_exporter": "python",
   "pygments_lexer": "ipython3",
   "version": "3.8.3"
  }
 },
 "nbformat": 4,
 "nbformat_minor": 4
}
