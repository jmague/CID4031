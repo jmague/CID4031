{
 "cells": [
  {
   "cell_type": "markdown",
   "metadata": {
    "slideshow": {
     "slide_type": "slide"
    }
   },
   "source": [
    "# <center>Initiation à la programmation (Python)</center>"
   ]
  },
  {
   "cell_type": "markdown",
   "metadata": {},
   "source": [
    "# Découverte du notebook"
   ]
  },
  {
   "cell_type": "markdown",
   "metadata": {},
   "source": [
    "## Première expérience"
   ]
  },
  {
   "cell_type": "markdown",
   "metadata": {
    "slideshow": {
     "slide_type": "slide"
    }
   },
   "source": [
    "Bienvenu dans le notebook de la première séance du cours. Cette page web permet de dialoguer avec Python. La zone de texte ci-dessous s'appelle une cellule. Vous pouvez taper du Python à l'intérieur, et l'excuter. Essayez ! Tapez:\n",
    "```python\n",
    "2+2\n",
    "``` \n",
    "puis pressez `<shift>` + `<entrée>`"
   ]
  },
  {
   "cell_type": "code",
   "execution_count": null,
   "metadata": {
    "slideshow": {
     "slide_type": "subslide"
    }
   },
   "outputs": [],
   "source": [
    "2+3"
   ]
  },
  {
   "cell_type": "markdown",
   "metadata": {},
   "source": [
    "Une fois une cellule exécutée, vous pouver y revenir et la modifier. Replacez le curseur dans la cellule ci-dessus, et tapez-y:\n",
    "```python\n",
    "2+3\n",
    "``` \n",
    "et exécutez à nouveau la cellule."
   ]
  },
  {
   "cell_type": "markdown",
   "metadata": {},
   "source": [
    "Une cellule à une **entrée**, la zone dans laquelle on peut taper du code, et une **sortie**, la zone ou s'affiche le résultat. Le résultat de la dernière **instruction** est toujours affiché dans la sortie. Tapez les deux lignes suivantes dans la cellule ci-dessous :\n",
    "```python\n",
    "2+2\n",
    "2+3\n",
    "```"
   ]
  },
  {
   "cell_type": "code",
   "execution_count": 1,
   "metadata": {},
   "outputs": [
    {
     "data": {
      "text/plain": [
       "5"
      ]
     },
     "execution_count": 1,
     "metadata": {},
     "output_type": "execute_result"
    }
   ],
   "source": [
    "2+2\n",
    "2+3"
   ]
  },
  {
   "cell_type": "markdown",
   "metadata": {},
   "source": [
    "## Un petit exercice\n",
    "Tapez dans la cellule ci-dessous une expression calcule combien il y a de secondes dans une année"
   ]
  },
  {
   "cell_type": "code",
   "execution_count": 2,
   "metadata": {},
   "outputs": [
    {
     "data": {
      "text/plain": [
       "31536000"
      ]
     },
     "execution_count": 2,
     "metadata": {},
     "output_type": "execute_result"
    }
   ],
   "source": [
    "60*60*24*365"
   ]
  },
  {
   "cell_type": "markdown",
   "metadata": {},
   "source": [
    "# Les chaînes de caractères"
   ]
  },
  {
   "cell_type": "markdown",
   "metadata": {},
   "source": [
    "Python permet de manipuler du texte, plus particulièrement ce qu'on appelle des **chaînes de caractères**. Tapez `'Bonjour'` dans la cellule ci-dessous :"
   ]
  },
  {
   "cell_type": "code",
   "execution_count": null,
   "metadata": {},
   "outputs": [],
   "source": [
    "'Bonjour'"
   ]
  },
  {
   "cell_type": "markdown",
   "metadata": {},
   "source": [
    "Essayez également de taper :\n",
    "```python\n",
    "\"Bonjour\"\n",
    "```"
   ]
  },
  {
   "cell_type": "markdown",
   "metadata": {},
   "source": [
    "Essayer de taper une chaîne de caractères qui contient la phrase ci-dessous : \n",
    "\n",
    "`Aujourd'hui, c'est mardi.`\n"
   ]
  },
  {
   "cell_type": "code",
   "execution_count": null,
   "metadata": {},
   "outputs": [],
   "source": [
    "\"Aujourd'hui, c'est mardi.\""
   ]
  },
  {
   "cell_type": "markdown",
   "metadata": {},
   "source": [
    "Et à présent celle-ci : \n",
    "\n",
    "`Le prof a dit : \"Aujourd'hui, c'est mardi\".`"
   ]
  },
  {
   "cell_type": "code",
   "execution_count": null,
   "metadata": {},
   "outputs": [],
   "source": [
    "\"\"\"Le prof a dit : \"Aujourd'hui, c'est mardi\".\"\"\""
   ]
  },
  {
   "cell_type": "markdown",
   "metadata": {},
   "source": [
    "Tapez à présent :\n",
    "```python\n",
    "'Bonjour ' + 'Python'\n",
    "```"
   ]
  },
  {
   "cell_type": "code",
   "execution_count": null,
   "metadata": {},
   "outputs": [],
   "source": [
    "'Bonjour ' + 'Python'"
   ]
  },
  {
   "cell_type": "markdown",
   "metadata": {},
   "source": [
    "Les deux chaînes ont été rassemblées en une seule, elles ont été **concaténées**. On peut remarquer que l'effet du signe + dépend de ce à il est appliqué : \n",
    "* à des nombres, il effectue leur addition (ouf !)\n",
    "* à des chaines de caractères, il effectue leur concaténation.\n",
    "\n",
    "Selon vous, que va-t-il se passez si l'on essaie les instructions suivantes ?\n",
    "```python\n",
    "'bonjour' + 2\n",
    "'bonjour' + '2'\n",
    "'bonjour' * 2\n",
    "'bonjour' * '2'\n",
    "'bonjour' * 2.0\n",
    "```"
   ]
  },
  {
   "cell_type": "code",
   "execution_count": 3,
   "metadata": {},
   "outputs": [
    {
     "ename": "TypeError",
     "evalue": "can only concatenate str (not \"int\") to str",
     "output_type": "error",
     "traceback": [
      "\u001b[0;31m---------------------------------------------------------------------------\u001b[0m",
      "\u001b[0;31mTypeError\u001b[0m                                 Traceback (most recent call last)",
      "\u001b[0;32m<ipython-input-3-766279186f5b>\u001b[0m in \u001b[0;36m<module>\u001b[0;34m\u001b[0m\n\u001b[0;32m----> 1\u001b[0;31m \u001b[0;34m'bonjour'\u001b[0m \u001b[0;34m+\u001b[0m \u001b[0;36m2\u001b[0m\u001b[0;34m\u001b[0m\u001b[0;34m\u001b[0m\u001b[0m\n\u001b[0m",
      "\u001b[0;31mTypeError\u001b[0m: can only concatenate str (not \"int\") to str"
     ]
    }
   ],
   "source": [
    "'bonjour' + 2"
   ]
  },
  {
   "cell_type": "code",
   "execution_count": 4,
   "metadata": {},
   "outputs": [
    {
     "data": {
      "text/plain": [
       "'bonjour2'"
      ]
     },
     "execution_count": 4,
     "metadata": {},
     "output_type": "execute_result"
    }
   ],
   "source": [
    "'bonjour' + '2'"
   ]
  },
  {
   "cell_type": "code",
   "execution_count": 5,
   "metadata": {},
   "outputs": [
    {
     "data": {
      "text/plain": [
       "'bonjourbonjour'"
      ]
     },
     "execution_count": 5,
     "metadata": {},
     "output_type": "execute_result"
    }
   ],
   "source": [
    "'bonjour' * 2"
   ]
  },
  {
   "cell_type": "code",
   "execution_count": 6,
   "metadata": {},
   "outputs": [
    {
     "ename": "TypeError",
     "evalue": "can't multiply sequence by non-int of type 'str'",
     "output_type": "error",
     "traceback": [
      "\u001b[0;31m---------------------------------------------------------------------------\u001b[0m",
      "\u001b[0;31mTypeError\u001b[0m                                 Traceback (most recent call last)",
      "\u001b[0;32m<ipython-input-6-dcdf82f12fef>\u001b[0m in \u001b[0;36m<module>\u001b[0;34m\u001b[0m\n\u001b[0;32m----> 1\u001b[0;31m \u001b[0;34m'bonjour'\u001b[0m \u001b[0;34m*\u001b[0m \u001b[0;34m'2'\u001b[0m\u001b[0;34m\u001b[0m\u001b[0;34m\u001b[0m\u001b[0m\n\u001b[0m",
      "\u001b[0;31mTypeError\u001b[0m: can't multiply sequence by non-int of type 'str'"
     ]
    }
   ],
   "source": [
    "'bonjour' * '2'"
   ]
  },
  {
   "cell_type": "code",
   "execution_count": 7,
   "metadata": {},
   "outputs": [
    {
     "ename": "TypeError",
     "evalue": "can't multiply sequence by non-int of type 'float'",
     "output_type": "error",
     "traceback": [
      "\u001b[0;31m---------------------------------------------------------------------------\u001b[0m",
      "\u001b[0;31mTypeError\u001b[0m                                 Traceback (most recent call last)",
      "\u001b[0;32m<ipython-input-7-83b962998bb0>\u001b[0m in \u001b[0;36m<module>\u001b[0;34m\u001b[0m\n\u001b[0;32m----> 1\u001b[0;31m \u001b[0;34m'bonjour'\u001b[0m\u001b[0;34m*\u001b[0m\u001b[0;36m2.0\u001b[0m\u001b[0;34m\u001b[0m\u001b[0;34m\u001b[0m\u001b[0m\n\u001b[0m",
      "\u001b[0;31mTypeError\u001b[0m: can't multiply sequence by non-int of type 'float'"
     ]
    }
   ],
   "source": [
    "'bonjour'*2.0"
   ]
  },
  {
   "cell_type": "markdown",
   "metadata": {},
   "source": [
    "Les erreurs que l'on observe sont des erreurs de **type** (TypeError). Tout ce que l'on manipule en Python a un *type*, et c'est ce type qui définit le comportement des opérations : "
   ]
  },
  {
   "cell_type": "code",
   "execution_count": 8,
   "metadata": {},
   "outputs": [
    {
     "data": {
      "text/plain": [
       "int"
      ]
     },
     "execution_count": 8,
     "metadata": {},
     "output_type": "execute_result"
    }
   ],
   "source": [
    "type(2)"
   ]
  },
  {
   "cell_type": "code",
   "execution_count": 9,
   "metadata": {},
   "outputs": [
    {
     "data": {
      "text/plain": [
       "str"
      ]
     },
     "execution_count": 9,
     "metadata": {},
     "output_type": "execute_result"
    }
   ],
   "source": [
    "type('bonjour')"
   ]
  },
  {
   "cell_type": "code",
   "execution_count": 10,
   "metadata": {},
   "outputs": [
    {
     "data": {
      "text/plain": [
       "float"
      ]
     },
     "execution_count": 10,
     "metadata": {},
     "output_type": "execute_result"
    }
   ],
   "source": [
    "type(2.0) #Ceci est un commentaire : tout ce qui suit un caractère # est ignoré par python"
   ]
  },
  {
   "cell_type": "markdown",
   "metadata": {},
   "source": [
    "# Les variables"
   ]
  },
  {
   "cell_type": "markdown",
   "metadata": {
    "hideCode": true
   },
   "source": [
    "Les **variables** sont un concept central commun à tous les langages de programmation. Elles permettent de mémoriser des valeurs:"
   ]
  },
  {
   "cell_type": "code",
   "execution_count": 11,
   "metadata": {
    "hideOutput": true
   },
   "outputs": [],
   "source": [
    "x=2"
   ]
  },
  {
   "cell_type": "code",
   "execution_count": 12,
   "metadata": {},
   "outputs": [
    {
     "data": {
      "text/plain": [
       "2"
      ]
     },
     "execution_count": 12,
     "metadata": {},
     "output_type": "execute_result"
    }
   ],
   "source": [
    "x"
   ]
  },
  {
   "cell_type": "code",
   "execution_count": 13,
   "metadata": {},
   "outputs": [
    {
     "data": {
      "text/plain": [
       "3"
      ]
     },
     "execution_count": 13,
     "metadata": {},
     "output_type": "execute_result"
    }
   ],
   "source": [
    "x=x+1\n",
    "x"
   ]
  },
  {
   "cell_type": "markdown",
   "metadata": {},
   "source": [
    "Une variable associe une **valeur** à un **nom** (une variable a donc un également un type).\n",
    "\n",
    "Essayez de faire la même chose en changeant le nom de la variable. Essayez les noms suivants: `a`, `a1`, `1a`, `A`. Quelles conclusions tirez-vous ?"
   ]
  },
  {
   "cell_type": "code",
   "execution_count": 14,
   "metadata": {},
   "outputs": [
    {
     "data": {
      "text/plain": [
       "2"
      ]
     },
     "execution_count": 14,
     "metadata": {},
     "output_type": "execute_result"
    }
   ],
   "source": [
    "a=2\n",
    "a"
   ]
  },
  {
   "cell_type": "code",
   "execution_count": 15,
   "metadata": {},
   "outputs": [
    {
     "data": {
      "text/plain": [
       "2"
      ]
     },
     "execution_count": 15,
     "metadata": {},
     "output_type": "execute_result"
    }
   ],
   "source": [
    "a1=2\n",
    "a1"
   ]
  },
  {
   "cell_type": "code",
   "execution_count": 16,
   "metadata": {},
   "outputs": [
    {
     "ename": "SyntaxError",
     "evalue": "invalid syntax (<ipython-input-16-79bfd9afc526>, line 1)",
     "output_type": "error",
     "traceback": [
      "\u001b[0;36m  File \u001b[0;32m\"<ipython-input-16-79bfd9afc526>\"\u001b[0;36m, line \u001b[0;32m1\u001b[0m\n\u001b[0;31m    1a=2\u001b[0m\n\u001b[0m     ^\u001b[0m\n\u001b[0;31mSyntaxError\u001b[0m\u001b[0;31m:\u001b[0m invalid syntax\n"
     ]
    }
   ],
   "source": [
    "1a=2\n",
    "1a"
   ]
  },
  {
   "cell_type": "code",
   "execution_count": 17,
   "metadata": {},
   "outputs": [
    {
     "data": {
      "text/plain": [
       "2"
      ]
     },
     "execution_count": 17,
     "metadata": {},
     "output_type": "execute_result"
    }
   ],
   "source": [
    "A=2\n",
    "A"
   ]
  },
  {
   "cell_type": "markdown",
   "metadata": {},
   "source": [
    "Ecrire un petit programme qui utilise une variable `nom` et qui affiche la chaîne de caractères 'Bonjour *nom*', où *nom* est la valeur de la variable `nom`\n"
   ]
  },
  {
   "cell_type": "code",
   "execution_count": 18,
   "metadata": {},
   "outputs": [
    {
     "data": {
      "text/plain": [
       "'Bonjour Python'"
      ]
     },
     "execution_count": 18,
     "metadata": {},
     "output_type": "execute_result"
    }
   ],
   "source": [
    "nom=\"Python\"\n",
    "\"Bonjour \" + nom "
   ]
  },
  {
   "cell_type": "markdown",
   "metadata": {},
   "source": [
    "# La commande *print*"
   ]
  },
  {
   "cell_type": "markdown",
   "metadata": {},
   "source": [
    "Il arrive que l'on souhaite afficher autre chose que la valeur de la dernière expression d'une cellule. La commande `print` permet ça :"
   ]
  },
  {
   "cell_type": "code",
   "execution_count": 19,
   "metadata": {},
   "outputs": [
    {
     "name": "stdout",
     "output_type": "stream",
     "text": [
      "10\n",
      "15\n"
     ]
    }
   ],
   "source": [
    "a=10\n",
    "print(a)\n",
    "A=a+5\n",
    "print(A)"
   ]
  },
  {
   "cell_type": "markdown",
   "metadata": {},
   "source": [
    "# Les branchements conditionnels\n",
    "Il faut parfois faire des choix. On peut avoir besoin d'exécuter certaines instuctions dans certains cas, d'autres instuctions dans d'autres cas. C'est possible en Python (et dans quasiment tous les langages de programation) avec la structure `si ... alors ... sinon ...`\n",
    "```python\n",
    "if a<b :\n",
    "    print('la variable a est plus petite que la variable b')\n",
    "else:\n",
    "    print('la variable a est plus grande que (ou égale à) la variable b')\n",
    "```\n",
    "L'**identation** est primordiale ! Elle permet de délimiter les **blocs**, c'est-à-dire ce qui est exécuté dans un cas ou dans l'autre. Les deux programmes suivants sont différents. D'une part :\n",
    "```python\n",
    "nom='Camille'\n",
    "genre='f'\n",
    "if genre=='f':\n",
    "    resultat = \"bonjour Madame \"\n",
    "else:\n",
    "    resultat = \"bonjour Monsieur \"\n",
    "resultat = resultat + nom\n",
    "print(resultat)\n",
    "```\n",
    "\n",
    "D'autre part:\n",
    "```python\n",
    "nom='Camille'\n",
    "genre='f'\n",
    "if genre=='f':\n",
    "    resultat = \"bonjour Madame \"\n",
    "else:\n",
    "    resultat = \"bonjour Monsieur \"\n",
    "    resultat = resultat + nom\n",
    "print(resultat)\n",
    "```\n",
    "\n",
    "Avez-vous une idée de la différence ? Essayez de deviner. Si vous ne voyez pas, vous pouvez toujours essayer:"
   ]
  },
  {
   "cell_type": "code",
   "execution_count": 20,
   "metadata": {},
   "outputs": [
    {
     "name": "stdout",
     "output_type": "stream",
     "text": [
      "bonjour Madame Camille\n"
     ]
    }
   ],
   "source": [
    "nom='Camille'\n",
    "genre='f'\n",
    "if genre=='f':\n",
    "    resultat = \"bonjour Madame \"\n",
    "else:\n",
    "    resultat = \"bonjour Monsieur \"\n",
    "resultat = resultat + nom\n",
    "print(resultat)"
   ]
  },
  {
   "cell_type": "code",
   "execution_count": 21,
   "metadata": {},
   "outputs": [
    {
     "name": "stdout",
     "output_type": "stream",
     "text": [
      "bonjour Madame \n"
     ]
    }
   ],
   "source": [
    "nom='Camille'\n",
    "genre='f'\n",
    "if genre=='f':\n",
    "    resultat = \"bonjour Madame \"\n",
    "else:\n",
    "    resultat = \"bonjour Monsieur \"\n",
    "    resultat = resultat + nom\n",
    "print(resultat)"
   ]
  },
  {
   "cell_type": "markdown",
   "metadata": {},
   "source": [
    "## Petit exercice\n",
    "Ecrivez un programme avec une variable `bissextile` qui affiche le nombre de secondes dans une année, selon qu'elle est bissextile ou non."
   ]
  },
  {
   "cell_type": "code",
   "execution_count": 22,
   "metadata": {},
   "outputs": [
    {
     "name": "stdout",
     "output_type": "stream",
     "text": [
      "31622400\n"
     ]
    }
   ],
   "source": [
    "bissextile=True\n",
    "nombreDeSecondesParMinute=60\n",
    "nombreDeMinutesParHeure=60\n",
    "nombreDHeuresParJour=24\n",
    "if bissextile:\n",
    "    nombreDeJoursParAnnée=366\n",
    "else:\n",
    "    nombreDeJoursParAnnée=365\n",
    "print(nombreDeSecondesParMinute*nombreDeMinutesParHeure*nombreDHeuresParJour*nombreDeJoursParAnnée)"
   ]
  }
 ],
 "metadata": {
  "kernelspec": {
   "display_name": "Python 3",
   "language": "python",
   "name": "python3"
  },
  "language_info": {
   "codemirror_mode": {
    "name": "ipython",
    "version": 3
   },
   "file_extension": ".py",
   "mimetype": "text/x-python",
   "name": "python",
   "nbconvert_exporter": "python",
   "pygments_lexer": "ipython3",
   "version": "3.8.3"
  },
  "varInspector": {
   "cols": {
    "lenName": 16,
    "lenType": 16,
    "lenVar": 40
   },
   "kernels_config": {
    "python": {
     "delete_cmd_postfix": "",
     "delete_cmd_prefix": "del ",
     "library": "var_list.py",
     "varRefreshCmd": "print(var_dic_list())"
    },
    "r": {
     "delete_cmd_postfix": ") ",
     "delete_cmd_prefix": "rm(",
     "library": "var_list.r",
     "varRefreshCmd": "cat(var_dic_list()) "
    }
   },
   "types_to_exclude": [
    "module",
    "function",
    "builtin_function_or_method",
    "instance",
    "_Feature"
   ],
   "window_display": false
  }
 },
 "nbformat": 4,
 "nbformat_minor": 4
}
